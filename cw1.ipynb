{
 "cells": [
  {
   "cell_type": "code",
   "metadata": {
    "deletable": false,
    "editable": false,
    "ExecuteTime": {
     "end_time": "2025-03-02T22:28:53.622757Z",
     "start_time": "2025-03-02T22:28:53.616225Z"
    }
   },
   "source": [
    "from reprlib import aRepr\n",
    "\n",
    "# Initialize Otter\n",
    "import otter\n",
    "grader = otter.Notebook(\"cw1.ipynb\")"
   ],
   "outputs": [],
   "execution_count": 2
  },
  {
   "cell_type": "code",
   "metadata": {
    "ExecuteTime": {
     "end_time": "2025-03-02T22:28:54.195687Z",
     "start_time": "2025-03-02T22:28:54.193457Z"
    }
   },
   "source": [
    "import itertools\n",
    "from collections import defaultdict, Counter\n",
    "from typing import List, Tuple, Dict, Self, Any, Callable\n",
    "from abc import ABC\n",
    "import math"
   ],
   "outputs": [],
   "execution_count": 3
  },
  {
   "cell_type": "markdown",
   "metadata": {},
   "source": [
    "# Part A: CSP\n",
    "\n",
    "This part of the assignment will ask you to construct a set of cards for Dobble using CSP algorithms. Dobble is a card game with 55 cards, each printed with 8 symbols. In each round of Dobble, each player is handed a card face up with a pile of cards in the middle facing down. When the top card in the middle pile is flipped, players must race to call out the symbol on the middle card that matches a symbol in their hand. \n",
    "\n",
    "The game works because the cards have the special property that each pair of cards share exactly one symbol between them. Some fancy maths tells us that given $n$ symbols per card, a Dobble deck will require exactly $k = n^2 - n + 1$ cards and symbols.  "
   ]
  },
  {
   "cell_type": "markdown",
   "metadata": {
    "deletable": false,
    "editable": false
   },
   "source": [
    "<!-- BEGIN QUESTION -->\n",
    "\n",
    "### **Question 1.** \n",
    "Complete the following class methods for the ```Card``` and ```Deck``` classes. The methods you are expected to complete are ```Card.__eq__```, ```Deck.__eq__```, ```Deck.from_all_combinations```, ```Deck.is_valid```."
   ]
  },
  {
   "metadata": {
    "tags": [],
    "ExecuteTime": {
     "end_time": "2025-03-02T22:28:55.365553Z",
     "start_time": "2025-03-02T22:28:55.362864Z"
    }
   },
   "cell_type": "code",
   "source": [
    "def generate_symbols(num_symbols: int) -> List[str]:\n",
    "    return [f\"Symbol_{i}\" for i in range(n)]\n",
    "\n",
    "class Card:\n",
    "    def __init__(self, symbols: List[str]):\n",
    "        self.symbols = set(symbols)\n",
    "    \n",
    "    def __hash__(self):\n",
    "        \"\"\"\n",
    "        Hash function that is compatible with card equality.\n",
    "        \"\"\"\n",
    "        sorted_symbols = tuple(sorted(self.symbols))\n",
    "        return hash(sorted_symbols)\n",
    "    \n",
    "    def __eq__(self, other: Self) -> bool:\n",
    "        \"\"\"\n",
    "        Check if two cards are the same.\n",
    "        \"\"\"\n",
    "        return self.symbols == other.symbols "
   ],
   "outputs": [],
   "execution_count": 4
  },
  {
   "metadata": {
    "tags": [],
    "ExecuteTime": {
     "end_time": "2025-03-02T22:28:55.587764Z",
     "start_time": "2025-03-02T22:28:55.584148Z"
    }
   },
   "cell_type": "code",
   "source": [
    "class Deck:\n",
    "    def __init__(self, cards: List[Card] = []):\n",
    "        self.cards: List[Card] = cards \n",
    "    \n",
    "    def __eq__(self, other: Self) -> bool:\n",
    "        \"\"\"Equality test: two Decks are equal if one is a permutation of the other.\n",
    "        \n",
    "        Creates a dictionary of counts for each type of card (in the format Counter(cards) = {Card(['x', 'y', 'z']): \n",
    "        1, Card(['a', 'b', 'c']): ..})\n",
    "        \"\"\"\n",
    "        return Counter(self.cards) == Counter(other.cards)\n",
    "\n",
    "    def from_all_configurations(symbols, symbols_per_card) -> Self:\n",
    "        \"\"\"\n",
    "        Return a deck containing all possible dobble cards from a set of symbols. This is not a valid dobble set.\n",
    "        \n",
    "        Creates an empty array of cards. For each combination of symbols with length symbols_per_card, adds the \n",
    "        combination to the list. Returns a deck with the list of cards.  \n",
    "        \"\"\"\n",
    "        cards = []\n",
    "        \n",
    "        for combination in itertools.combinations(symbols, symbols_per_card):\n",
    "            card = Card(combination)\n",
    "            cards.append(card)\n",
    "        return Deck(cards)\n",
    "    \n",
    "    def is_valid(self) -> bool:\n",
    "        \"\"\"\n",
    "        Check if the deck is a valid dobble deck.\n",
    "        \n",
    "        For each card in the deck, enumerate to assign an integer value index to it (to prevent from returning False\n",
    "         when a card is checked against itself. \n",
    "         \n",
    "         The rules for a valid set of dobble cards are:\n",
    "            1. Each card has the same number of symbols.\n",
    "            2. Each pair of cards has exactly one symbol in common.\n",
    "            3. There are no duplicate cards.\n",
    "            \n",
    "        Here we check rule 2 and 3. Rule 1 cannot be broken as in the previous question we generated all the \n",
    "        combinations from the set number given. \n",
    "        \"\"\"\n",
    "        for i, card in enumerate(self.cards):\n",
    "            for j, other_card in enumerate(self.cards):\n",
    "                if i == j:\n",
    "                    continue\n",
    "                if card == other_card or len(card.symbols.intersection(other_card.symbols)) != 1:\n",
    "                    return False\n",
    "        return True\n",
    "\n",
    "    def __iter__(self):\n",
    "        \"\"\"Allow iteration through a deck\"\"\"\n",
    "        return iter(self.cards)"
   ],
   "outputs": [],
   "execution_count": 5
  },
  {
   "cell_type": "code",
   "metadata": {
    "deletable": false,
    "editable": false,
    "ExecuteTime": {
     "end_time": "2025-03-02T22:28:56.081945Z",
     "start_time": "2025-03-02T22:28:56.052822Z"
    }
   },
   "source": [
    "grader.check(\"qA.1\")"
   ],
   "outputs": [
    {
     "data": {
      "text/plain": [
       "qA.1 results: All test cases passed!"
      ],
      "text/html": [
       "<p><strong><pre style='display: inline;'>qA.1</pre></strong> passed! 🌟</p>"
      ]
     },
     "execution_count": 6,
     "metadata": {},
     "output_type": "execute_result"
    }
   ],
   "execution_count": 6
  },
  {
   "cell_type": "markdown",
   "metadata": {
    "deletable": false,
    "editable": false
   },
   "source": [
    "<!-- END QUESTION -->\n",
    "\n",
    "<!-- BEGIN QUESTION -->\n",
    "\n",
    "### **Question 2.** \n",
    "Complete the ```satisfied``` method for ```SharedSymbolConstraint``` and ```SharingNSymbolsConstraint```."
   ]
  },
  {
   "cell_type": "code",
   "metadata": {
    "tags": [],
    "ExecuteTime": {
     "end_time": "2025-03-02T22:28:56.985407Z",
     "start_time": "2025-03-02T22:28:56.980563Z"
    }
   },
   "source": [
    "class Constraint(ABC):\n",
    "    # This is an abstract class, nothing to implement here.\n",
    "    def __init__(self, cards: Tuple[str, str]):\n",
    "        self.cards = cards\n",
    "\n",
    "    def satisfied(self, assignment: Dict[str, Card]) -> bool:\n",
    "        raise NotImplementedError\n",
    "    \n",
    "class SharedSymbolConstraint(Constraint):\n",
    "    \"\"\"\n",
    "    This constraint checks to see if two cards share exactly one symbol.\n",
    "    \"\"\"\n",
    "    def __init__(self, cards):\n",
    "        super(SharedSymbolConstraint, self).__init__(cards)\n",
    "    \n",
    "    def satisfied(self, assignment: Dict[str, Card]) -> bool:\n",
    "        \"\"\"\n",
    "        Check if the constraint is satisfied based on the current variable assignment.\n",
    "    \n",
    "        Verifies if the two cards assigned to the constraint share exactly one symbol. \n",
    "        Checks the following conditions:\n",
    "            1. If either cardID is not present in the assignment, the constraint is considered satisfied (returning True).\n",
    "            2. If both cards are present in the assignment, it ensures:\n",
    "            - The two cards are not identical.\n",
    "            - The two cards share exactly one symbol in common.\n",
    "            \n",
    "        If both cards share one symbol in common and are distinct, the constraint is satisfied and the function returns True. \n",
    "        Otherwise, it returns False.\n",
    "        \"\"\"\n",
    "        id1, id2 = self.cards # a tuple of 2 str containing the variable ID for the cards\n",
    "        \n",
    "        if id1 not in assignment or id2 not in assignment: # check if the cards are already in the assignment\n",
    "            return True # if they are, there are no constraints to check\n",
    "        \n",
    "        card1, card2 = assignment[id1], assignment[id2] # if they have been assigned to cards, get the cards\n",
    "        \n",
    "        if card1 == card2 or len(card1.symbols.intersection(card2.symbols)) != 1: \n",
    "            return False\n",
    "        else:\n",
    "            return True\n",
    "\n",
    "class SharingNSymbolsConstraint(Constraint):\n",
    "    \"\"\"\n",
    "    This constraint checks to see if two cards share exactly N symbols.\n",
    "    \"\"\"\n",
    "    def __init__(self, cards, N:int):\n",
    "        super(SharingNSymbolsConstraint, self).__init__(cards)\n",
    "        self.N = N\n",
    "\n",
    "    def satisfied(self, assignment: Dict[str, Card]) -> bool:\n",
    "        \"\"\"\n",
    "        The same as the previous class, but instead of only for 1 shared symbol, checks for N shared symbols.\n",
    "        \"\"\"\n",
    "        id1, id2 = self.cards\n",
    "        \n",
    "        card1, card2 = assignment[id1], assignment[id2]\n",
    "        \n",
    "        if card1 == card2:\n",
    "            return False\n",
    "        elif len(card1.symbols.intersection(card2.symbols)) != self.N:\n",
    "            return False\n",
    "        else:\n",
    "            return True"
   ],
   "outputs": [],
   "execution_count": 7
  },
  {
   "cell_type": "code",
   "metadata": {
    "deletable": false,
    "editable": false,
    "ExecuteTime": {
     "end_time": "2025-03-02T22:28:57.517065Z",
     "start_time": "2025-03-02T22:28:57.511072Z"
    }
   },
   "source": [
    "grader.check(\"qA.2\")"
   ],
   "outputs": [
    {
     "data": {
      "text/plain": [
       "qA.2 results: All test cases passed!"
      ],
      "text/html": [
       "<p><strong><pre style='display: inline;'>qA.2</pre></strong> passed! 💯</p>"
      ]
     },
     "execution_count": 8,
     "metadata": {},
     "output_type": "execute_result"
    }
   ],
   "execution_count": 8
  },
  {
   "cell_type": "markdown",
   "metadata": {
    "deletable": false,
    "editable": false,
    "vscode": {
     "languageId": "raw"
    }
   },
   "source": [
    "<!-- END QUESTION -->\n",
    "\n",
    "<!-- BEGIN QUESTION -->\n",
    "\n",
    "### **Question 3.** \n",
    "The CSP class is defined by a list of variable names, a dictionary of domains for each variable, and a list of constraints. Complete the ```consistent``` and ```backtrack``` methods for ```CSP```."
   ]
  },
  {
   "cell_type": "code",
   "metadata": {
    "tags": [],
    "ExecuteTime": {
     "end_time": "2025-03-02T22:28:58.406170Z",
     "start_time": "2025-03-02T22:28:58.402487Z"
    }
   },
   "source": [
    "class CSP:\n",
    "    \"\"\"\n",
    "    A class representing a Constraint Satisfaction Problem.\n",
    "    \"\"\"\n",
    "    def __init__(self, variables: List[str], domains: Dict[str, List[Card]], constraints: List[Constraint]):\n",
    "        self.variables: List[str] = variables\n",
    "        self.domains: Dict[str, Any] = domains\n",
    "\n",
    "        # Store constraints in a dict for easier lookup during search\n",
    "        self.constraints = defaultdict(list)\n",
    "        for constraint in constraints:\n",
    "            variable1, variable2 = constraint.cards\n",
    "            self.constraints[variable1].append(constraint)\n",
    "            self.constraints[variable2].append(constraint) \n",
    "            \n",
    "    def consistent(self, variable: str, assignment: Dict[str, Card]) -> bool:\n",
    "        \"\"\"Return true if the assignment of variable is consistent with the constraints\"\"\"\n",
    "        for constraint in self.constraints[variable]:\n",
    "            if not constraint.satisfied(assignment):\n",
    "                return False\n",
    "        return True\n",
    "\n",
    "    def backtrack(self, assignment: Dict[str, Card]) -> Dict[str, Card]:\n",
    "        \"\"\"Recursive function that performs assigns a value to the next unassigned card \"\"\"\n",
    "        if len(assignment) == len(self.variables): # Return if all variables have been assigned\n",
    "            return assignment\n",
    "\n",
    "        # Set 'first' to be the first unassigned variable\n",
    "        first = [var for var in self.variables if var not in assignment][0]\n",
    "        \n",
    "        for value in self.domains[first]:\n",
    "            local_assignment = assignment.copy()\n",
    "            local_assignment[first] = value\n",
    "            if self.consistent(first, local_assignment):\n",
    "                result = self.backtrack(local_assignment)\n",
    "                if result is not None:\n",
    "                    return result\n",
    "\n",
    "    def solve(self):\n",
    "        return self.backtrack({})"
   ],
   "outputs": [],
   "execution_count": 9
  },
  {
   "cell_type": "code",
   "metadata": {
    "deletable": false,
    "editable": false,
    "ExecuteTime": {
     "end_time": "2025-03-02T22:28:59.023122Z",
     "start_time": "2025-03-02T22:28:58.973876Z"
    }
   },
   "source": [
    "grader.check(\"qA.3\")"
   ],
   "outputs": [
    {
     "data": {
      "text/plain": [
       "qA.3 results: All test cases passed!"
      ],
      "text/html": [
       "<p><strong><pre style='display: inline;'>qA.3</pre></strong> passed! 🙌</p>"
      ]
     },
     "execution_count": 10,
     "metadata": {},
     "output_type": "execute_result"
    }
   ],
   "execution_count": 10
  },
  {
   "cell_type": "markdown",
   "metadata": {
    "deletable": false,
    "editable": false
   },
   "source": [
    "<!-- END QUESTION -->\n",
    "\n",
    "<!-- BEGIN QUESTION -->\n",
    "\n",
    "### **Question 4.** \n",
    "Define the set of constraints and run the CSP search to produce a result."
   ]
  },
  {
   "cell_type": "code",
   "metadata": {
    "deletable": false,
    "editable": false,
    "ExecuteTime": {
     "end_time": "2025-03-02T22:28:59.806878Z",
     "start_time": "2025-03-02T22:28:59.804539Z"
    }
   },
   "source": [
    "def generate_symbols(num_symbols: int) -> List[str]:\n",
    "    return [f\"Symbol_{i}\" for i in range(num_symbols)]\n",
    "\n",
    "s = 4  # Symbols per card\n",
    "k = int(s*(s+1)/2)  # The total number of unique symbols\n",
    "n = s+1 # number of cards"
   ],
   "outputs": [],
   "execution_count": 11
  },
  {
   "cell_type": "code",
   "metadata": {
    "tags": [],
    "ExecuteTime": {
     "end_time": "2025-03-02T22:29:00.268619Z",
     "start_time": "2025-03-02T22:29:00.266142Z"
    }
   },
   "source": [
    "# Define the variables and domains.\n",
    "variables = ['card1', 'card2', 'card3', 'card4', 'card5']\n",
    "domains = {var: [Card(symbols) for symbols in itertools.combinations(generate_symbols(k), s)] for var in variables}"
   ],
   "outputs": [],
   "execution_count": 12
  },
  {
   "metadata": {
    "tags": [],
    "ExecuteTime": {
     "end_time": "2025-03-02T22:29:00.649095Z",
     "start_time": "2025-03-02T22:29:00.646026Z"
    }
   },
   "cell_type": "code",
   "source": [
    "# Define the list of constraints between all the cards.\n",
    "\n",
    "constraints = [SharedSymbolConstraint(('card1', 'card2')), SharedSymbolConstraint(('card1', 'card3')), \n",
    "               SharedSymbolConstraint(('card1', 'card4')), SharedSymbolConstraint(('card1', 'card5')), \n",
    "               SharedSymbolConstraint(('card2', 'card3')), SharedSymbolConstraint(('card2', 'card4')), \n",
    "               SharedSymbolConstraint(('card2', 'card5')), SharedSymbolConstraint(('card3', 'card4')), \n",
    "               SharedSymbolConstraint(('card3', 'card5')), SharedSymbolConstraint(('card4', 'card5'))] \n",
    "\n",
    "constrains = [SharingNSymbolsConstraint((variables[i], variables[j]), 1) for i in range(n) for j in range(i+1, \n",
    "                                                                                                                n) if\n",
    "              i != j]"
   ],
   "outputs": [],
   "execution_count": 13
  },
  {
   "metadata": {
    "deletable": false,
    "editable": false,
    "ExecuteTime": {
     "end_time": "2025-03-02T22:29:01.077772Z",
     "start_time": "2025-03-02T22:29:01.075194Z"
    }
   },
   "cell_type": "code",
   "source": [
    "csp = CSP(variables, domains, constraints)\n",
    "solution = csp.solve()"
   ],
   "outputs": [],
   "execution_count": 14
  },
  {
   "cell_type": "code",
   "metadata": {
    "deletable": false,
    "editable": false,
    "ExecuteTime": {
     "end_time": "2025-03-02T22:29:01.539543Z",
     "start_time": "2025-03-02T22:29:01.533514Z"
    }
   },
   "source": [
    "grader.check(\"qA.4\")"
   ],
   "outputs": [
    {
     "data": {
      "text/plain": [
       "qA.4 results: All test cases passed!"
      ],
      "text/html": [
       "<p><strong><pre style='display: inline;'>qA.4</pre></strong> passed! 💯</p>"
      ]
     },
     "execution_count": 15,
     "metadata": {},
     "output_type": "execute_result"
    }
   ],
   "execution_count": 15
  },
  {
   "cell_type": "markdown",
   "metadata": {
    "deletable": false,
    "editable": false,
    "vscode": {
     "languageId": "raw"
    }
   },
   "source": [
    "<!-- END QUESTION -->\n",
    "\n",
    "<!-- BEGIN QUESTION -->\n",
    "\n",
    "### **Question 5.** \n",
    "Produce a set of plots that show how the time taken to find a solution varies against $n$ the number of symbols per card, $k$ the number of cards in the deck, $s$ number of available symbols and $m$ the number of symbols shared between cards. Don't make your numbers too large since it will take a long time to run. Analyse and discuss your plots."
   ]
  },
  {
   "cell_type": "code",
   "metadata": {
    "tags": [],
    "ExecuteTime": {
     "end_time": "2025-03-02T22:29:02.366369Z",
     "start_time": "2025-03-02T22:29:02.362234Z"
    }
   },
   "source": [
    "import timeout_decorator\n",
    "\n",
    "# Define the function to create and solve the CSP problem allowing variables to be varied\n",
    "\n",
    "@timeout_decorator.timeout(60) # This will make sure one search run does not run for more than 60 seconds. You can change this number as needed.\n",
    "def run_csp(n_symbols: int, n_cards: int, symbols_per_card: int, n_shared_symbols: int):\n",
    "    s = symbols_per_card # Symbols per card\n",
    "    k = n_symbols # The total number of unique symbols\n",
    "    n = n_cards # number of cards\n",
    "    \n",
    "    # Define the variables and domains.\n",
    "    vars = [f'card{i}' for i in range(n_cards)]\n",
    "    domains = {var: [Card(symbols) for symbols in itertools.combinations(generate_symbols(k), s)] for var in variables}\n",
    "    \n",
    "    # Define the list of constraints between all the cards.\n",
    "    cons = []\n",
    "    \n",
    "    for i, card in enumerate(vars):\n",
    "        for j, other_card in enumerate(vars):\n",
    "            if i == j:\n",
    "                continue\n",
    "            else: \n",
    "                cons.append(SharingNSymbolsConstraint((card, other_card), n_shared_symbols))\n",
    "                \n",
    "    csp = CSP(variables, domains, constraints)\n",
    "    solution = csp.solve()\n",
    "    \n",
    "    return solution"
   ],
   "outputs": [],
   "execution_count": 16
  },
  {
   "cell_type": "code",
   "metadata": {
    "tags": [],
    "ExecuteTime": {
     "end_time": "2025-03-02T22:29:03.105740Z",
     "start_time": "2025-03-02T22:29:02.935230Z"
    }
   },
   "source": [
    "from matplotlib import pyplot as plt\n",
    "import timeit # This will allow you to calculate runtimes, see https://docs.python.org/3/library/timeit.html for more info\n",
    "\n",
    "x_min = 1\n",
    "x_max = 8\n",
    "y_min = 0\n",
    "y_max = 5"
   ],
   "outputs": [],
   "execution_count": 17
  },
  {
   "metadata": {
    "ExecuteTime": {
     "end_time": "2025-03-02T22:29:08.742941Z",
     "start_time": "2025-03-02T22:29:03.320732Z"
    }
   },
   "cell_type": "code",
   "source": [
    "# first plot: showing the time taken to solve the CSP against the number of symbols per card\n",
    "data_1_shared = []\n",
    "for i in range(x_min, x_max):\n",
    "    n_symbols = int(i*(i+1)/2)\n",
    "    n_cards = i+1\n",
    "    n_shared_symbols = 1\n",
    "\n",
    "    time_taken = timeit.timeit(lambda: run_csp(n_symbols, n_cards, i, n_shared_symbols), number=1)\n",
    "    data_1_shared.append(time_taken)"
   ],
   "outputs": [],
   "execution_count": 18
  },
  {
   "metadata": {
    "ExecuteTime": {
     "end_time": "2025-03-02T22:29:09.902244Z",
     "start_time": "2025-03-02T22:29:08.748588Z"
    }
   },
   "cell_type": "code",
   "source": [
    "# second plot: showing the time taken to solve the CSP against the number of shared symbols per card (fixed 6 symbols\n",
    "# per card)\n",
    "data_2_shared = []\n",
    "per_card = 6\n",
    "n_symbols = int(per_card*(per_card+1)/2)\n",
    "n_cards = per_card+1\n",
    "\n",
    "for i in range(x_min, x_max):    \n",
    "    n_shared_symbols = i\n",
    "    time_taken = timeit.timeit(lambda: run_csp(n_symbols, n_cards, per_card, n_shared_symbols), number=1)\n",
    "    data_2_shared.append(time_taken)"
   ],
   "outputs": [],
   "execution_count": 19
  },
  {
   "metadata": {
    "ExecuteTime": {
     "end_time": "2025-03-02T22:29:10.037568Z",
     "start_time": "2025-03-02T22:29:09.916880Z"
    }
   },
   "cell_type": "code",
   "source": [
    "fig, ax = plt.subplots(2, 1, figsize=(10, 8))\n",
    "\n",
    "ax[0].plot(data_1_shared)\n",
    "ax[0].set_xlabel(\"Symbols per card\")\n",
    "ax[0].set_ylabel(\"Time taken to solve CSP /s\")\n",
    "ax[0].set_xlim(x_min, x_max)\n",
    "ax[0].set_ylim(y_min, y_max)\n",
    "ax[0].set_title(\"Time taken to solve CSP against symbols per card (1 shared symbol)\")\n",
    "\n",
    "ax[1].plot(data_2_shared)\n",
    "ax[1].set_xlabel(\"Shared symbols per card\")\n",
    "ax[1].set_ylabel(\"Time taken to solve CSP /s\")\n",
    "ax[1].set_xlim(x_min, x_max)\n",
    "ax[1].set_ylim(y_min, y_max)\n",
    "ax[1].set_title(\"Time taken to solve CSP against shared symbols per card\")\n",
    "\n",
    "plt.tight_layout()\n",
    "plt.show()"
   ],
   "outputs": [
    {
     "data": {
      "text/plain": [
       "<Figure size 1000x800 with 2 Axes>"
      ],
      "image/png": "[encoded data removed]"
     },
     "metadata": {},
     "output_type": "display_data"
    }
   ],
   "execution_count": 20
  },
  {
   "cell_type": "markdown",
   "metadata": {},
   "source": [
    "_Discuss your results here... What are the main patterns you notice? Why do the plots look the way they do? What impact do the parameters have on the runtime of the search algorithm?_\n",
    "\n",
    "The time taken to solve the CSP increases steeply, which indicates that time complexity is quite poor. This is \n",
    "because as\n",
    " we increase the number of symbols (and therefore cards), the number of constraints to be checked increases \n",
    " exponentially - with 3 cards this is only 3 checks, \n",
    " whereas with 6 cards this is 15. With 7 symbols per card, the runtime will increase to multiple minutes, which isn't\n",
    "  optimal.\n",
    "  \n",
    "In the second graph it can be observed that with a fixed number of symbols per card, the time taken to solve the CSP \n",
    "while changing the number of shared symbols per card is linear. The flat graph may just be due luck with depth first \n",
    "search - instantly finding a solution. \n"
   ]
  },
  {
   "cell_type": "markdown",
   "metadata": {
    "deletable": false,
    "editable": false
   },
   "source": [
    "<!-- END QUESTION -->\n",
    "\n",
    "# Part B: A* Search\n",
    "\n",
    "In this part of the assignment you will be working on some animation! Given two polyons (sets of points in discrete 2D space connected by a line), your task is to create a 'smooth' transition from the first to the second. In order to make the transition, you are only allowed to move a single point at a time to an adjacent point either up or down. In order to find the fewest possible steps to go from the starting polygon to the goal, you will be implementing A* search."
   ]
  },
  {
   "cell_type": "code",
   "metadata": {
    "ExecuteTime": {
     "end_time": "2025-03-02T22:29:10.060717Z",
     "start_time": "2025-03-02T22:29:10.058617Z"
    }
   },
   "source": [
    "import itertools\n",
    "from typing import List, Tuple, Dict, Self, Any, Callable\n",
    "from abc import ABC\n",
    "import heapq\n",
    "from collections import OrderedDict\n",
    "from typing import List, Tuple, Set, Union, Self\n",
    "import numpy as np"
   ],
   "outputs": [],
   "execution_count": 21
  },
  {
   "cell_type": "code",
   "metadata": {
    "ExecuteTime": {
     "end_time": "2025-03-02T22:29:10.085255Z",
     "start_time": "2025-03-02T22:29:10.083613Z"
    }
   },
   "source": [
    "GRID_SIZE = 4 # Defines an 8x8 grid"
   ],
   "outputs": [],
   "execution_count": 22
  },
  {
   "cell_type": "markdown",
   "metadata": {
    "deletable": false,
    "editable": false
   },
   "source": [
    "<!-- BEGIN QUESTION -->\n",
    "\n",
    "### **Question 1.** \n",
    "Complete the following class methods for the ```Polygon``` class. The methods you are expected to complete are ```__hash__``` and ```generate_neighbours```."
   ]
  },
  {
   "cell_type": "code",
   "metadata": {
    "deletable": false,
    "editable": false,
    "ExecuteTime": {
     "end_time": "2025-03-02T22:29:10.109395Z",
     "start_time": "2025-03-02T22:29:10.104910Z"
    }
   },
   "source": [
    "class Point:\n",
    "    def __init__(self, x, y):\n",
    "        self.x = x\n",
    "        self.y = y\n",
    "\n",
    "    def as_array(self):\n",
    "        return np.array([self.x, self.y])\n",
    "\n",
    "    def __hash__(self):\n",
    "        return hash((self.x, self.y))\n",
    "\n",
    "    def __eq__(self, other):\n",
    "        return (self.x, self.y) == (other.x, other.y)\n",
    "    \n",
    "    def __lt__(self, other):\n",
    "        return (self.x, self.y) < (other.x, other.y)\n",
    "\n",
    "    def __repr__(self):\n",
    "        return f\"Point({self.x}, {self.y})\""
   ],
   "outputs": [],
   "execution_count": 23
  },
  {
   "metadata": {
    "ExecuteTime": {
     "end_time": "2025-03-02T22:29:10.129280Z",
     "start_time": "2025-03-02T22:29:10.124021Z"
    }
   },
   "cell_type": "code",
   "source": [
    "class Polygon:\n",
    "    def __init__(self, coordinates: Union[List[Tuple[int, int]], List[Point]]):\n",
    "        \"\"\"Instantiate a polygon from a list of points.\"\"\"\n",
    "        if not coordinates:\n",
    "            raise ValueError(\"Polygon requires at least one coordinate.\")\n",
    "        if type(coordinates[0]) == tuple:\n",
    "            coordinates = [Point(point[0], point[1]) for point in coordinates]\n",
    "        unique_coords = list(OrderedDict.fromkeys(coordinates))  # Preserve order and remove duplicates\n",
    "        if len(unique_coords) != len(coordinates):\n",
    "            raise ValueError(\"Polygon has repeated coordinates!\")\n",
    "        self.points = unique_coords\n",
    "\n",
    "    def as_list(self) -> List[Point]:\n",
    "        \"\"\"Return the set of points.\"\"\"\n",
    "        return self.points\n",
    "    \n",
    "    def as_array(self) -> np.array:\n",
    "        \"\"\"Return a representation of the current polygon as a numpy array\"\"\"\n",
    "        return np.array([[point.x, point.y] for point in self.points])\n",
    "\n",
    "    def __hash__(self):\n",
    "        \"\"\"Returns a hash for the current polygon. Isomorphic polygons must produce equivalent hashes.\"\"\"\n",
    "        return hash(tuple(sorted(self.points)))\n",
    "\n",
    "    def __eq__(self, other):\n",
    "        \"\"\"Equality test for polygons compatible with the hash function.\"\"\"\n",
    "        return hash(self) == hash(other)\n",
    "        \n",
    "    def __lt__(self, other):\n",
    "        \"\"\"Allow polygons to be compared.\"\"\"\n",
    "        return self.points < other.points    \n",
    "\n",
    "    def generate_neighbours(self) -> List['Polygon']:\n",
    "        \"\"\"Generates possible neighbours of the current polygon. Ensure that the x and y coordinates of all points are within ±GRID_SIZE\"\"\"\n",
    "        neighbours = []\n",
    "        \n",
    "        for idx, point in enumerate(self.points):\n",
    "            directions = [(0, 1), (0, -1), (1, 0), (-1, 0)]\n",
    "            for i, j in directions:\n",
    "                new_point = Point(point.x + i, point.y + j)\n",
    "                \n",
    "                new_points = self.points.copy()\n",
    "                new_points[idx] = new_point\n",
    "                \n",
    "                if new_point in self.points:\n",
    "                    continue\n",
    "                \n",
    "                if -GRID_SIZE <= new_point.x <= GRID_SIZE and GRID_SIZE >= new_point.y >= -GRID_SIZE:\n",
    "                    poly = Polygon(new_points)\n",
    "                    neighbours.append(poly)\n",
    "        return neighbours"
   ],
   "outputs": [],
   "execution_count": 24
  },
  {
   "cell_type": "code",
   "metadata": {
    "deletable": false,
    "editable": false,
    "ExecuteTime": {
     "end_time": "2025-03-02T22:29:10.148780Z",
     "start_time": "2025-03-02T22:29:10.137583Z"
    }
   },
   "source": [
    "grader.check(\"qB.1\")"
   ],
   "outputs": [
    {
     "data": {
      "text/plain": [
       "qB.1 results: All test cases passed!"
      ],
      "text/html": [
       "<p><strong><pre style='display: inline;'>qB.1</pre></strong> passed! 🍀</p>"
      ]
     },
     "execution_count": 25,
     "metadata": {},
     "output_type": "execute_result"
    }
   ],
   "execution_count": 25
  },
  {
   "cell_type": "markdown",
   "metadata": {
    "deletable": false,
    "editable": false
   },
   "source": [
    "<!-- END QUESTION -->\n",
    "\n",
    "<!-- BEGIN QUESTION -->\n",
    "\n",
    "### **Question 2.**\n",
    "Implement the functions ```difference```, ```minimal```, and ```centroid``` to compute the distance between two polygons."
   ]
  },
  {
   "cell_type": "code",
   "metadata": {
    "tags": [],
    "ExecuteTime": {
     "end_time": "2025-03-02T22:29:11.072781Z",
     "start_time": "2025-03-02T22:29:10.869469Z"
    }
   },
   "source": [
    "from scipy.spatial.distance import cdist\n",
    "\n",
    "def difference(A: Polygon, B: Polygon) -> float:\n",
    "    \"\"\"Returns the number of points in 'a' or 'b' that are not in both polygons.\"\"\"\n",
    "    return len(set(A.points) ^ set(B.points))\n",
    "\n",
    "def minimal(A: Polygon, B: Polygon) -> float:\n",
    "    \"\"\"Returns the smallest non-zero Manhattan (L1) distance between the points of 'a' and 'b' respectively, multiplied by the number of points in the goal that are still unreached.\"\"\"\n",
    "    distances = cdist(A.as_array(), B.as_array(), \"cityblock\").diagonal()\n",
    "    distances = distances[distances > 0]\n",
    "    \n",
    "    min_dist = min(distances)\n",
    "    return min_dist * len(distances)\n",
    "\n",
    "def centroid(A: Polygon, B:Polygon) -> float:\n",
    "    \"\"\"\"Returns the Euclidean distance between the centroids (mean of the points) of the two polygons.\"\"\"\n",
    "    a_mean = np.mean(A.as_array(), axis=0)\n",
    "    b_mean = np.mean(B.as_array(), axis=0)\n",
    "    \n",
    "    dist = np.linalg.norm(a_mean - b_mean)\n",
    "    return dist"
   ],
   "outputs": [],
   "execution_count": 26
  },
  {
   "cell_type": "code",
   "metadata": {
    "deletable": false,
    "editable": false,
    "ExecuteTime": {
     "end_time": "2025-03-02T22:29:11.510791Z",
     "start_time": "2025-03-02T22:29:11.503014Z"
    }
   },
   "source": [
    "grader.check(\"qB.2\")"
   ],
   "outputs": [
    {
     "data": {
      "text/plain": [
       "qB.2 results: All test cases passed!"
      ],
      "text/html": [
       "<p><strong><pre style='display: inline;'>qB.2</pre></strong> passed! 🌈</p>"
      ]
     },
     "execution_count": 27,
     "metadata": {},
     "output_type": "execute_result"
    }
   ],
   "execution_count": 27
  },
  {
   "cell_type": "markdown",
   "metadata": {
    "deletable": false,
    "editable": false
   },
   "source": [
    "<!-- END QUESTION -->\n",
    "\n",
    "<!-- BEGIN QUESTION -->\n",
    "\n",
    "### **Question 3.** \n",
    "State which of the above metrics are admissable. If they are not admissable, find a pair of polygons that overestimate the actual cost. Otherwise, explain why the heuristic will never overestimate the cost. Give your answer in the format described by the type definition."
   ]
  },
  {
   "cell_type": "code",
   "metadata": {
    "otter": {
     "tests": [
      "qB.3"
     ]
    },
    "tags": [],
    "ExecuteTime": {
     "end_time": "2025-03-02T22:29:12.491404Z",
     "start_time": "2025-03-02T22:29:12.488527Z"
    }
   },
   "source": [
    "difference_is_admissable = False \n",
    "difference_counter_example: Tuple[Polygon, Polygon] | str = (Polygon([Point(0,0), Point(2,0), Point(1,2)]), Polygon\n",
    "    ([Point(-1,0), Point(3,0), Point(1,3)])) \n",
    "\n",
    "minimal_is_admissable = True \n",
    "minimal_counter_example: Tuple[Polygon, Polygon] | str = \"\"\"It will never overestimate the actual cost, since it is\n",
    "always choosing the minimal amount of actions for a singular point, where the actual cost would take into account for\n",
    " all points.\"\"\"\n",
    "\n",
    "centroid_is_admissable = True \n",
    "centroid_counter_example: Tuple[Polygon, Polygon] | str = \"\"\"Takes all points into account (compared to minimal), and \n",
    "has the advantage of being able to move diagonally using Euclidean distance. \"\"\""
   ],
   "outputs": [],
   "execution_count": 28
  },
  {
   "cell_type": "markdown",
   "metadata": {
    "deletable": false,
    "editable": false
   },
   "source": [
    "<!-- END QUESTION -->\n",
    "\n",
    "<!-- BEGIN QUESTION -->\n",
    "\n",
    "### **Question 4.**\n",
    "Complete the implementation of the A* algorithm below. The progress bar is optional but is there to help give an indication of how long it will take before all search routes are exhausted."
   ]
  },
  {
   "cell_type": "code",
   "metadata": {
    "tags": [],
    "ExecuteTime": {
     "end_time": "2025-03-02T22:29:13.847724Z",
     "start_time": "2025-03-02T22:29:13.837889Z"
    }
   },
   "source": [
    "from tqdm.notebook import tqdm\n",
    "def a_star(start: Polygon, goal: Polygon, heuristic: Callable[[Polygon, Polygon], float]) -> List[Polygon]:\n",
    "    if len(start.as_list()) != len(goal.as_list()):\n",
    "        raise ValueError(\"Polygons must be of the same size.\")\n",
    "\n",
    "    # Priority queue: elements are tuples (f_score, polygon)\n",
    "    open_set = [(heuristic(start, goal), start)]\n",
    "    heapq.heapify(open_set)\n",
    "\n",
    "    came_from: Dict[Polygon, Polygon] = {}  # Keeps a log of the parent node used to generate the polygon for reconstructing path\n",
    "    g_score: Dict[Polygon, float] = {start: 0}\n",
    "    f_score: Dict[Polygon, float] = {start: heuristic(start, goal)}\n",
    "    \n",
    "    # Create progress bar based on estimated max number of steps\n",
    "    max_steps = cdist(start.as_array(), goal.as_array(), 'cityblock').max(axis=0).sum() \n",
    "    pbar = tqdm(desc='A* Progress', unit='step', total = max_steps)\n",
    "    while open_set:\n",
    "        current_f, current = heapq.heappop(open_set)\n",
    "        # Update progress bar\n",
    "        pbar.n = math.floor(current_f)\n",
    "        pbar.refresh() \n",
    "        \n",
    "        # Check if we have reached the goal\n",
    "        if current == goal:\n",
    "            path = [current] #Reconstruct path\n",
    "            while current in came_from: # Backtrack\n",
    "                current = came_from[current]\n",
    "                path.append(current)\n",
    "            pbar.close()\n",
    "            return path[::-1] #Return path in reverse order\n",
    "        \n",
    "        \n",
    "        for neighbour in current.generate_neighbours():\n",
    "            \n",
    "            #Increment score by one\n",
    "            new_g_score = g_score[current] + 1\n",
    "            \n",
    "            if new_g_score < g_score.get(neighbour, float('inf')): #Assume infinite distance if neighbour has not been \n",
    "                # visited\n",
    "                came_from[neighbour] = current\n",
    "                g_score[neighbour] = new_g_score\n",
    "                f_score[neighbour] = new_g_score + heuristic(neighbour, goal)\n",
    "                heapq.heappush(open_set, (f_score[neighbour], neighbour))\n",
    "    pbar.close()\n",
    "    return []  # return an empty list if no path is found"
   ],
   "outputs": [],
   "execution_count": 29
  },
  {
   "cell_type": "code",
   "metadata": {
    "deletable": false,
    "editable": false,
    "ExecuteTime": {
     "end_time": "2025-03-02T22:29:14.537402Z",
     "start_time": "2025-03-02T22:29:14.501765Z"
    }
   },
   "source": [
    "grader.check(\"qB.4\")"
   ],
   "outputs": [
    {
     "data": {
      "text/plain": [
       "A* Progress:   0%|          | 0/4.0 [00:00<?, ?step/s]"
      ],
      "application/vnd.jupyter.widget-view+json": {
       "version_major": 2,
       "version_minor": 0,
       "model_id": "4c51664d23b34fdba4c0d366c537bb4b"
      }
     },
     "metadata": {},
     "output_type": "display_data"
    },
    {
     "data": {
      "text/plain": [
       "qB.4 results: All test cases passed!"
      ],
      "text/html": [
       "<p><strong><pre style='display: inline;'>qB.4</pre></strong> passed! ✨</p>"
      ]
     },
     "execution_count": 30,
     "metadata": {},
     "output_type": "execute_result"
    }
   ],
   "execution_count": 30
  },
  {
   "cell_type": "markdown",
   "metadata": {
    "deletable": false,
    "editable": false
   },
   "source": [
    "<!-- END QUESTION -->\n",
    "\n",
    "<!-- BEGIN QUESTION -->\n",
    "\n",
    "### **Question 5.** \n",
    "Now, we want to create polygons that do not contain self-intersections. Complete the ```intersecting_lines``` and ```_detect_intersection``` methods. You may define helper methods as needed."
   ]
  },
  {
   "metadata": {
    "tags": [],
    "ExecuteTime": {
     "end_time": "2025-03-02T22:29:15.551720Z",
     "start_time": "2025-03-02T22:29:15.545943Z"
    }
   },
   "cell_type": "code",
   "source": [
    "class NonIntersectingPolygon(Polygon):\n",
    "\n",
    "    @staticmethod\n",
    "    def intersecting_lines(l1: Tuple[Point, Point], l2: Tuple[Point, Point]) -> bool:\n",
    "        \"\"\"Checks whether two line segments (a, b) and (r, q) intersect.\"\"\"\n",
    "        a, b = l1\n",
    "        r, q = l2\n",
    "        \n",
    "        def ccw(a, b, c):\n",
    "            return (c.y - a.y) * (b.x - a.x) > (b.y - a.y) * (c.x - a.x)\n",
    "        \n",
    "        return ccw(a, r, q) != ccw(b, r, q) and ccw(a, b, r) != ccw(a, b, q)\n",
    "    \n",
    "    def _detect_intersection(self) -> bool:\n",
    "        \"\"\"Checks whether the current polygon has any intersecting lines.\"\"\"\n",
    "        return any(self.intersecting_lines((self.points[i], self.points[i + 1]), (self.points[j], self.points[j + 1])) for i in range(len(self.points) - 1) for j in range(i - 1))\n",
    "\n",
    "    def __init__(self, coordinates: Union[List[Tuple[int, int]], List[Point]]):\n",
    "        super(NonIntersectingPolygon, self).__init__(coordinates)\n",
    "        if self._detect_intersection():\n",
    "            raise ValueError(\"These points result in intersecting lines.\")\n",
    "    \n",
    "    def generate_neighbours(self):\n",
    "        polygons = super(NonIntersectingPolygon, self).generate_neighbours()\n",
    "        non_intersecting_polygons = []\n",
    "        for polygon in polygons:\n",
    "            try:\n",
    "                non_intersecting_polygons.append(NonIntersectingPolygon(polygon.points))\n",
    "            except ValueError:\n",
    "                continue\n",
    "        return non_intersecting_polygons"
   ],
   "outputs": [],
   "execution_count": 31
  },
  {
   "metadata": {
    "ExecuteTime": {
     "end_time": "2025-03-02T22:29:16.214389Z",
     "start_time": "2025-03-02T22:29:16.208226Z"
    }
   },
   "cell_type": "code",
   "source": "grader.check(\"qB.5\")",
   "outputs": [
    {
     "data": {
      "text/plain": [
       "qB.5 results: All test cases passed!"
      ],
      "text/html": [
       "<p><strong><pre style='display: inline;'>qB.5</pre></strong> passed! 💯</p>"
      ]
     },
     "execution_count": 32,
     "metadata": {},
     "output_type": "execute_result"
    }
   ],
   "execution_count": 32
  },
  {
   "cell_type": "markdown",
   "metadata": {
    "deletable": false,
    "editable": false
   },
   "source": [
    "<!-- END QUESTION -->\n",
    "\n",
    "<!-- BEGIN QUESTION -->\n",
    "\n",
    "### **Question 6.**\n",
    "Using the helper functions below, create a set of animations. How does the choice of heuristic, NonIntersectingPolygon vs standard Polygon and the shapes of the polygons affect the search algorithm?"
   ]
  },
  {
   "cell_type": "code",
   "metadata": {
    "deletable": false,
    "editable": false,
    "ExecuteTime": {
     "end_time": "2025-03-02T22:29:17.052803Z",
     "start_time": "2025-03-02T22:29:17.041376Z"
    }
   },
   "source": [
    "import matplotlib.patches as patches\n",
    "import matplotlib.pyplot as plt\n",
    "import matplotlib.animation as animation\n",
    "\n",
    "%matplotlib widget\n",
    "\n",
    "def plot_polygon(ax, polygon, color='blue'):\n",
    "    \"\"\"Helper function to plot a single polygon on given axes.\"\"\"\n",
    "    # Creating the patches for each point in the polygon (assuming ordered points)\n",
    "    for i in range(len(polygon)):\n",
    "        next_point = polygon[(i + 1) % len(polygon)]\n",
    "        xs, ys = zip(*[polygon[i], next_point])\n",
    "        ax.plot(xs, ys, marker='o', color=color)\n",
    "\n",
    "def animate_transformation(path: List[Polygon]):\n",
    "    \"\"\"Animates the transformation from start to goal polygon using the path provided.\"\"\"\n",
    "    fig, ax = plt.subplots()\n",
    "    \n",
    "    # Set limits and aspect\n",
    "    ax.set_xlim(-GRID_SIZE, GRID_SIZE)\n",
    "    ax.set_ylim(-GRID_SIZE, GRID_SIZE)\n",
    "    ax.set_aspect('equal')\n",
    "    \n",
    "    # Artists to update in the animation\n",
    "    artists = []\n",
    "\n",
    "    def init():\n",
    "        # Initialize the plot elements\n",
    "        ax.clear()\n",
    "        ax.set_xlim(-GRID_SIZE, GRID_SIZE)\n",
    "        ax.set_ylim(-GRID_SIZE, GRID_SIZE)\n",
    "        return artists\n",
    "\n",
    "    def update(frame):\n",
    "        # This function will be called for each frame of the animation\n",
    "        ax.clear()\n",
    "        ax.set_xlim(-GRID_SIZE, GRID_SIZE)\n",
    "        ax.set_ylim(-GRID_SIZE, GRID_SIZE)\n",
    "        polygon = path[frame]\n",
    "        plot_polygon(ax, polygon.as_array(), color='blue')\n",
    "\n",
    "        return artists\n",
    "    \n",
    "    ani = animation.FuncAnimation(fig, update, frames=len(path), init_func=init,\n",
    "                                  blit=False, interval=500, repeat=True)\n",
    "\n",
    "    # Display animation\n",
    "    plt.show()\n",
    "    return ani\n"
   ],
   "outputs": [],
   "execution_count": 33
  },
  {
   "cell_type": "code",
   "metadata": {
    "ExecuteTime": {
     "end_time": "2025-03-02T22:29:19.088149Z",
     "start_time": "2025-03-02T22:29:17.805236Z"
    }
   },
   "source": [
    "import timeit # To help you measure the runtime if you find it useful\n",
    "\n",
    "# Example usage, this may take a little while to run [took about 10 minutes for me 💀]. Probably better to use smaller polygons\n",
    "\n",
    "start_polygon = Polygon([(1, 1), (3, 0), (1, -1), (0, -3), (-1, -1), (-3, 0), (-1, 1), (0, 3)])\n",
    "goal_polygon = Polygon([(1, 4), (2, 2), (2, 0), (1, -2), (-1, -2), (-2, 0), (-2, 2), (-1, 4)])\n",
    "\n",
    "# A fancy heuristic to speed up the search\n",
    "def fancy_heuristic(a, b):\n",
    "    a = a.as_array()\n",
    "    b = b.as_array()\n",
    "    distance_matrix = cdist(a,b, 'cityblock')\n",
    "    sum = 0\n",
    "    for i in range(distance_matrix.shape[0]):\n",
    "        j = distance_matrix[i].argmin()\n",
    "        sum += distance_matrix[i, j]\n",
    "        distance_matrix = np.delete(distance_matrix, j, axis=1)\n",
    "    return sum\n",
    "\n",
    "transformation_path = a_star(start_polygon, goal_polygon, fancy_heuristic)\n",
    "ani = animate_transformation(transformation_path)"
   ],
   "outputs": [
    {
     "data": {
      "text/plain": [
       "A* Progress:   0%|          | 0/52.0 [00:00<?, ?step/s]"
      ],
      "application/vnd.jupyter.widget-view+json": {
       "version_major": 2,
       "version_minor": 0,
       "model_id": "b138ce5020354bfb8718c1da2e145698"
      }
     },
     "metadata": {},
     "output_type": "display_data"
    },
    {
     "data": {
      "text/plain": [
       "Canvas(toolbar=Toolbar(toolitems=[('Home', 'Reset original view', 'home', 'home'), ('Back', 'Back to previous …"
      ],
      "image/png": "[encoded data removed]",
      "text/html": [
       "\n",
       "            <div style=\"display: inline-block;\">\n",
       "                <div class=\"jupyter-widgets widget-label\" style=\"text-align: center;\">\n",
       "                    Figure\n",
       "                </div>\n",
       "                <img src='data:image/png;base64,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' width=640.0/>\n",
       "            </div>\n",
       "        "
      ],
      "application/vnd.jupyter.widget-view+json": {
       "version_major": 2,
       "version_minor": 0,
       "model_id": "762686d52d2b45868f3736c58c6d699c"
      }
     },
     "metadata": {},
     "output_type": "display_data"
    }
   ],
   "execution_count": 34
  },
  {
   "metadata": {},
   "cell_type": "markdown",
   "source": [
    "Minimal, difference, and centroid were unable to find a solution within 2 minutes. One could simplify the problem \n",
    "using smaller polygons, or by using a more efficient heuristic. "
   ]
  },
  {
   "cell_type": "markdown",
   "metadata": {
    "deletable": false,
    "editable": false
   },
   "source": [
    "---\n",
    "\n",
    "To double-check your work, the cell below will rerun all of the autograder tests."
   ]
  },
  {
   "cell_type": "code",
   "metadata": {
    "deletable": false,
    "editable": false,
    "ExecuteTime": {
     "end_time": "2025-03-02T22:29:22.193684Z",
     "start_time": "2025-03-02T22:29:22.097968Z"
    }
   },
   "source": [
    "grader.check_all()"
   ],
   "outputs": [
    {
     "data": {
      "text/plain": [
       "A* Progress:   0%|          | 0/4.0 [00:00<?, ?step/s]"
      ],
      "application/vnd.jupyter.widget-view+json": {
       "version_major": 2,
       "version_minor": 0,
       "model_id": "b152378a9aaa4ee8955adf6920441306"
      }
     },
     "metadata": {},
     "output_type": "display_data"
    },
    {
     "data": {
      "text/plain": [
       "qA.1 results: All test cases passed!\n",
       "\n",
       "qA.2 results: All test cases passed!\n",
       "\n",
       "qA.3 results: All test cases passed!\n",
       "\n",
       "qA.4 results: All test cases passed!\n",
       "\n",
       "qB.1 results: All test cases passed!\n",
       "\n",
       "qB.2 results: All test cases passed!\n",
       "\n",
       "qB.3 results: All test cases passed!\n",
       "\n",
       "qB.4 results: All test cases passed!\n",
       "\n",
       "qB.5 results: All test cases passed!"
      ]
     },
     "execution_count": 35,
     "metadata": {},
     "output_type": "execute_result"
    }
   ],
   "execution_count": 35
  },
  {
   "cell_type": "markdown",
   "metadata": {
    "deletable": false,
    "editable": false
   },
   "source": [
    "## Submission\n",
    "\n",
    "Make sure you have run all cells in your notebook in order before running the cell below, so that all images/graphs appear in the output. The cell below will generate a zip file for you to submit. **Please save before exporting!**"
   ]
  },
  {
   "cell_type": "code",
   "metadata": {
    "deletable": false,
    "editable": false,
    "ExecuteTime": {
     "end_time": "2025-03-02T22:29:35.879754Z",
     "start_time": "2025-03-02T22:29:35.710216Z"
    }
   },
   "source": [
    "# Save your notebook first, then run this cell to export your submission.\n",
    "grader.export(run_tests=True)"
   ],
   "outputs": [
    {
     "name": "stderr",
     "output_type": "stream",
     "text": [
      "/Users/zoesztandke/Library/Mobile Documents/com~apple~CloudDocs/year 2/ra/cw1/venv/lib/python3.11/site-packages/otter/check/notebook.py:493: UserWarning: Could not locate a PDF to include\n",
      "  warnings.warn(\"Could not locate a PDF to include\")\n"
     ]
    },
    {
     "data": {
      "text/plain": [
       "VBox(children=(HTML(value='<p style=\"margin: 0\">Your notebook could not be exported as a PDF. To continue expo…"
      ],
      "application/vnd.jupyter.widget-view+json": {
       "version_major": 2,
       "version_minor": 0,
       "model_id": "0849c44127c04c328abb441032b45ed5"
      }
     },
     "metadata": {},
     "output_type": "display_data"
    }
   ],
   "execution_count": 36
  },
  {
   "cell_type": "markdown",
   "metadata": {},
   "source": [
    " "
   ]
  }
 ],
 "metadata": {
  "kernelspec": {
   "display_name": "inf2d",
   "language": "python",
   "name": "python3"
  },
  "language_info": {
   "codemirror_mode": {
    "name": "ipython",
    "version": 3
   },
   "file_extension": ".py",
   "mimetype": "text/x-python",
   "name": "python",
   "nbconvert_exporter": "python",
   "pygments_lexer": "ipython3",
   "version": "3.11.11"
  },
  "otter": {
   "OK_FORMAT": false,
   "assignment_name": "CW1",
   "export_pdf_failure_message": null,
   "require_no_pdf_confirmation": true,
   "tests": {
    "qA.1": "from otter.test_files import test_case\n\nOK_FORMAT = False\n\nname = \"qA.1\"\npoints = 10\n\n@test_case(points=2, hidden=False)\ndef test_card_equality(Card):\n    assert Card(['a']) == Card(['a'])\n    assert Card(['a', 'b']) != Card(['a'])\n    assert Card(['b', 'a']) == Card(['a', 'b'])\n\n@test_case(points=1, hidden=False)\ndef test_deck_equality(Deck):\n    assert Deck(['a', 'b', 'd']) == Deck(['a', 'b', 'd'])\n    assert Deck(['a', 'b', 'c', 'd']) != Deck(['a', 'b', 'd'])\n    assert Deck(['a', 'b', 'c', 'd']) == Deck(['d', 'c', 'b', 'a'])\n\n@test_case(points=1, hidden=False)\ndef test_deck_equality_hidden(Deck):\n    assert Deck(['a', 'b', 'd']) == Deck(['a', 'b', 'd'])\n    assert Deck(['a', 'b', 'c', 'd']) != Deck(['a', 'b', 'd'])\n    assert Deck(['a', 'b', 'c', 'd']) == Deck(['d', 'c', 'b', 'a'])\n    assert Deck(['a', 'a', 'b', 'd']) != Deck(['a', 'b', 'd'])\n    assert Deck(['a', 'a', 'b', 'd']) != Deck(['a', 'b', 'd'])\n\n@test_case(points=2, hidden=False)\ndef test_all_configurations(Deck, Card):\n    assert len(Deck.from_all_configurations(list(range(3)), 2).cards) == 3\n    assert len(Deck.from_all_configurations(list(range(22)), 5).cards) == 26334\n    deck = Deck.from_all_configurations(list(range(8)), 4)\n    assert len(deck.cards) == len(set(deck.cards))\n    assert all(map(lambda x: type(x) == Card, deck.cards))\n\n@test_case(points=2, hidden=False)\ndef test_is_valid(Deck, Card):\n    deck = Deck([Card(['a', 'b']), Card(['a', 'd'])])\n    assert deck.is_valid() == True\n    deck = Deck([Card(['a', 'b']), Card(['a', 'd']), Card(['d', 'b'])])\n    assert deck.is_valid() == True\n    deck = Deck([Card(['a', 'b']), Card(['a', 'd']), Card(['d', 'b']), Card(['a', 'd'])])\n    assert deck.is_valid() == False\n\n@test_case(points=2, hidden=False)\ndef test_is_valid_hidden(Deck, Card):\n    deck = Deck([Card(['a', 'b', 'c']), Card(['a', 'd', 'e']), Card(['a', 'f', 'g']), Card(['a', 'h', 'i'])])\n    assert deck.is_valid() == True\n    deck = Deck([Card(['a', 'b', 'c']), Card(['b', 'd', 'e']), Card(['c', 'd', 'g']), Card(['d', 'a', 'j'])])\n    assert deck.is_valid() == True\n    deck = Deck([Card(['a', 'b', 'c']), Card(['b', 'd', 'e']), Card(['c', 'd', 'g']), Card(['d', 'a', 'c'])])\n    assert deck.is_valid() == False\n\n",
    "qA.2": "from otter.test_files import test_case\n\nOK_FORMAT = False\n\nname = \"qA.2\"\npoints = 10\n\n@test_case(points=2, hidden=False)\ndef test_shared_symbol_hidden(SharedSymbolConstraint, Card):\n    assignment = {'a': Card(['cat', 'dog', 'chicken']), 'b': Card(['dog', 'donkey', 'chicken']), 'c': Card(['monkey', 'worm', 'chicken'])}\n    constraint = SharedSymbolConstraint(('a', 'b'))\n    assert constraint.satisfied(assignment) == False\n    constraint = SharedSymbolConstraint(('a', 'c'))\n    assert constraint.satisfied(assignment) == True\n    constraint = SharedSymbolConstraint(('b', 'c'))\n    assert constraint.satisfied(assignment) == True\n\n@test_case(points=2, hidden=False)\ndef test_shared_n_symbols(SharingNSymbolsConstraint, Card):\n    assignment = {'a': Card(['cat', 'dog', 'monkey', 'rat']), 'b': Card(['dog', 'donkey', 'cat', 'chicken']), 'c': Card(['monkey', 'chicken', 'fish', 'duck'])}\n    constraint = SharingNSymbolsConstraint(('a', 'b'), 2)\n    assert constraint.satisfied(assignment) == True\n    constraint = SharingNSymbolsConstraint(('a', 'c'), 1)\n    assert constraint.satisfied(assignment) == True\n    constraint = SharingNSymbolsConstraint(('b', 'c'), 3)\n    assert constraint.satisfied(assignment) == False\n\n",
    "qA.3": "from otter.test_files import test_case\n\nOK_FORMAT = False\n\nname = \"qA.3\"\npoints = 12\n\n@test_case(points=None, hidden=False)\ndef test_consistency1(CSP, SharedSymbolConstraint, Deck, Card):\n    variables = ['a', 'b', 'c', 'd']\n    symbols = list(range(20))\n    domains = {v: Deck.from_all_configurations(symbols, 4).cards for v in variables}\n    constraints = [SharedSymbolConstraint(('a', 'b')), SharedSymbolConstraint(('b', 'c')), SharedSymbolConstraint(('a', 'd'))]\n    csp = CSP(variables, domains, constraints)\n    assignment = {'a': Card([1, 2, 4, 5]), 'b': Card([2, 7, 8, 9])}\n    assert csp.consistent('a', assignment) == True\n\n@test_case(points=4, hidden=False)\ndef test_backtrack(CSP, SharedSymbolConstraint, Deck):\n    symbols = list(range(8))\n    variables = ['X', 'Y']\n    domains = {v: Deck.from_all_configurations(symbols, 4).cards for v in variables}\n    constraints = [SharedSymbolConstraint(('X', 'Y'))]\n    csp = CSP(variables, domains, constraints)\n    solution = csp.solve()\n    assert solution != None\n    assert Deck(list(solution.values())).is_valid()\n\n",
    "qA.4": "from otter.test_files import test_case\n\nOK_FORMAT = False\n\nname = \"qA.4\"\npoints = 5\n\n@test_case(points=1, hidden=False)\ndef test_inputs(variables, domains):\n    assert all((isinstance(x, str) for x in variables))\n    assert len(domains) == len(variables)\n    assert domains[variables[0]] is not domains[variables[1]]\n\n",
    "qB.1": "from otter.test_files import test_case\n\nOK_FORMAT = False\n\nname = \"qB.1\"\npoints = 8\n\n@test_case(points=1, hidden=False)\ndef test_hash_easy(Polygon):\n    shape_1 = Polygon([(0, 1), (1, 1), (1, -1)])\n    shape_2 = Polygon([(1, 1), (1, -1), (0, 1)])\n    assert hash(shape_1) == hash(shape_2)\n\n@test_case(points=1, hidden=False)\ndef test_eq_easy(Polygon):\n    shape_1 = Polygon([(0, 1), (1, 1), (1, -1)])\n    shape_2 = Polygon([(1, 1), (1, -1), (0, 1)])\n    assert shape_1 == shape_2\n\n@test_case(points=1, hidden=False)\ndef test_adjacent_points_easy(Polygon):\n    shape_1 = Polygon([(0, 1)])\n    neighbours = shape_1.generate_neighbours()\n    assert len(neighbours) == 4\n    assert shape_1 not in neighbours\n\n@test_case(points=1, hidden=False)\ndef test_adjacent_points_med(Polygon):\n    shape_1 = Polygon([(0, 1), (4, 1)])\n    neighbours = shape_1.generate_neighbours()\n    assert len(neighbours) == 7\n    assert shape_1 not in neighbours\n\n",
    "qB.2": "from otter.test_files import test_case\n\nOK_FORMAT = False\n\nname = \"qB.2\"\npoints = 4\n\n@test_case(points=None, hidden=False)\ndef test_difference(Polygon, difference):\n    a = Polygon([(0, 1), (1, 1)])\n    b = Polygon([(0, 0), (1, 0)])\n    assert difference(a, b) == 4\n\n@test_case(points=None, hidden=False)\ndef test_minimal(Polygon, minimal):\n    a = Polygon([(0, 1), (4, 0), (4, 1)])\n    b = Polygon([(0, 0), (1, 0), (4, 1)])\n    assert minimal(a, b) == 2.0\n\n@test_case(points=None, hidden=False)\ndef test_centroid(Polygon, centroid):\n    import numpy as np\n    a = Polygon([(0, 1), (4, 0), (4, 1)])\n    b = Polygon([(0, 0), (1, 0), (4, 1)])\n    assert np.isclose(centroid(a, b), 1.0541)\n\n",
    "qB.3": "from otter.test_files import test_case\n\nOK_FORMAT = False\n\nname = \"qB.3\"\npoints = 4\n\n",
    "qB.4": "from otter.test_files import test_case\n\nOK_FORMAT = False\n\nname = \"qB.4\"\npoints = 10\n\n@test_case(points=None, hidden=False)\ndef test_polygons_easy(a_star, Polygon):\n    from scipy.spatial.distance import cdist\n    simple_heuristic = lambda a, b: cdist(a.as_array(), b.as_array()).min(axis=0).sum()\n    start = Polygon([(0, 0), (0, 1)])\n    goal = Polygon([(1, 0), (1, 1)])\n    solution = a_star(start, goal, simple_heuristic)\n    assert len(solution) == 3\n\n",
    "qB.5": "from otter.test_files import test_case\n\nOK_FORMAT = False\n\nname = \"qB.5\"\npoints = 10\n\n@test_case(points=None, hidden=False)\ndef test_intersecting_lines(NonIntersectingPolygon, Point):\n    line_1 = (Point(0, 2), Point(2, 0))\n    line_2 = (Point(0, 1), Point(1, 4))\n    assert NonIntersectingPolygon.intersecting_lines(line_1, line_2) == True\n\n@test_case(points=None, hidden=False)\ndef test_intersecting_polygons(NonIntersectingPolygon, Point, Polygon):\n    try:\n        NonIntersectingPolygon([(-2, -2), (-2, 2), (2, 2), (1, -2)])\n    except ValueError:\n        assert False\n    else:\n        assert True\n\n"
   }
  }
 },
 "nbformat": 4,
 "nbformat_minor": 2
}
