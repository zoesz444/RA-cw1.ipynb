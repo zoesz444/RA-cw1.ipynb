{
 "cells": [
  {
   "cell_type": "code",
   "metadata": {
    "deletable": false,
    "editable": false,
    "ExecuteTime": {
     "end_time": "2025-03-01T15:54:35.686777Z",
     "start_time": "2025-03-01T15:54:35.162212Z"
    }
   },
   "source": [
    "# Initialize Otter\n",
    "import otter\n",
    "grader = otter.Notebook(\"cw1.ipynb\")"
   ],
   "outputs": [],
   "execution_count": 1
  },
  {
   "cell_type": "code",
   "metadata": {
    "ExecuteTime": {
     "end_time": "2025-03-01T15:54:35.692497Z",
     "start_time": "2025-03-01T15:54:35.690452Z"
    }
   },
   "source": [
    "import itertools\n",
    "from collections import defaultdict, Counter\n",
    "from typing import List, Tuple, Dict, Self, Any, Callable\n",
    "from abc import ABC\n",
    "import math\n",
    "\n",
    "# test"
   ],
   "outputs": [],
   "execution_count": 2
  },
  {
   "cell_type": "markdown",
   "metadata": {},
   "source": [
    "# Part A: CSP\n",
    "\n",
    "This part of the assignment will ask you to construct a set of cards for Dobble using CSP algorithms. Dobble is a card game with 55 cards, each printed with 8 symbols. In each round of Dobble, each player is handed a card face up with a pile of cards in the middle facing down. When the top card in the middle pile is flipped, players must race to call out the symbol on the middle card that matches a symbol in their hand. \n",
    "\n",
    "The game works because the cards have the special property that each pair of cards share exactly one symbol between them. Some fancy maths tells us that given $n$ symbols per card, a Dobble deck will require exactly $k = n^2 - n + 1$ cards and symbols.  "
   ]
  },
  {
   "cell_type": "markdown",
   "metadata": {
    "deletable": false,
    "editable": false
   },
   "source": [
    "<!-- BEGIN QUESTION -->\n",
    "\n",
    "### **Question 1.** \n",
    "Complete the following class methods for the ```Card``` and ```Deck``` classes. The methods you are expected to complete are ```Card.__eq__```, ```Deck.__eq__```, ```Deck.from_all_combinations```, ```Deck.is_valid```."
   ]
  },
  {
   "metadata": {
    "tags": [],
    "ExecuteTime": {
     "end_time": "2025-03-01T15:54:35.758755Z",
     "start_time": "2025-03-01T15:54:35.756261Z"
    }
   },
   "cell_type": "code",
   "source": [
    "def generate_symbols(num_symbols: int) -> List[str]:\n",
    "    return [f\"Symbol_{i}\" for i in range(n)]\n",
    "\n",
    "class Card:\n",
    "    def __init__(self, symbols: List[str]):\n",
    "        self.symbols = set(symbols)\n",
    "    \n",
    "    def __hash__(self):\n",
    "        \"\"\"\n",
    "        Hash function that is compatible with card equality.\n",
    "        \"\"\"\n",
    "        sorted_symbols = tuple(sorted(self.symbols))\n",
    "        return hash(sorted_symbols)\n",
    "    \n",
    "    def __eq__(self, other: Self) -> bool:\n",
    "        \"\"\"\n",
    "        Check if two cards are the same.\n",
    "        \"\"\"\n",
    "        # ...\n",
    "        return self.symbols == other.symbols "
   ],
   "outputs": [],
   "execution_count": 3
  },
  {
   "metadata": {
    "tags": [],
    "ExecuteTime": {
     "end_time": "2025-03-01T15:54:35.766409Z",
     "start_time": "2025-03-01T15:54:35.763234Z"
    }
   },
   "cell_type": "code",
   "source": [
    "class Deck:\n",
    "    def __init__(self, cards: List[Card] = []):\n",
    "        self.cards: List[Card] = cards \n",
    "    \n",
    "    def __eq__(self, other: Self) -> bool:\n",
    "        \"\"\"Equality test: two Decks are equal if one is a permutation of the other.\n",
    "        \n",
    "        Creates a dictionary of counts for each type of card (in the format Counter(cards) = {Card(['x', 'y', 'z']): \n",
    "        1, Card(['a', 'b', 'c']): ..})\n",
    "        \"\"\"\n",
    "        # ...\n",
    "        return Counter(self.cards) == Counter(other.cards)\n",
    "\n",
    "    def from_all_configurations(symbols, symbols_per_card) -> Self:\n",
    "        \"\"\"\n",
    "        Return a deck containing all possible dobble cards from a set of symbols. This is not a valid dobble set.\n",
    "        \n",
    "        Creates an empty array of cards. For each combination of symbols with length symbols_per_card, adds the \n",
    "        combination to the list. Returns a deck with the list of cards.  \n",
    "        \"\"\"\n",
    "        # ...\n",
    "        cards = []\n",
    "        \n",
    "        for combination in itertools.combinations(symbols, symbols_per_card):\n",
    "            card = Card(combination)\n",
    "            cards.append(card)\n",
    "        return Deck(cards)\n",
    "    \n",
    "    def is_valid(self) -> bool:\n",
    "        \"\"\"\n",
    "        Check if the deck is a valid dobble deck.\n",
    "        \n",
    "        For each card in the deck, enumerate to assign an integer value index to it (to prevent from returning False\n",
    "         when a card is checked against itself. \n",
    "         \n",
    "         The rules for a valid set of dobble cards are:\n",
    "            1. Each card has the same number of symbols.\n",
    "            2. Each pair of cards has exactly one symbol in common.\n",
    "            3. There are no duplicate cards.\n",
    "            \n",
    "        Here we check rule 2 and 3. Rule 1 cannot be broken as in the previous question we generated all the \n",
    "        combinations from the set number given. \n",
    "        \"\"\"\n",
    "        # ...\n",
    "        for i, card in enumerate(self.cards):\n",
    "            for j, other_card in enumerate(self.cards):\n",
    "                if i == j:\n",
    "                    continue\n",
    "                if card == other_card or len(card.symbols.intersection(other_card.symbols)) != 1:\n",
    "                    return False\n",
    "        return True\n",
    "    \n",
    "\n",
    "    def __iter__(self):\n",
    "        \"\"\"Allow iteration through a deck\"\"\"\n",
    "        return iter(self.cards)"
   ],
   "outputs": [],
   "execution_count": 4
  },
  {
   "cell_type": "code",
   "metadata": {
    "deletable": false,
    "editable": false,
    "ExecuteTime": {
     "end_time": "2025-03-01T15:54:35.795320Z",
     "start_time": "2025-03-01T15:54:35.774335Z"
    }
   },
   "source": [
    "grader.check(\"qA.1\")"
   ],
   "outputs": [
    {
     "data": {
      "text/plain": [
       "qA.1 results: All test cases passed!"
      ],
      "text/html": [
       "<p><strong><pre style='display: inline;'>qA.1</pre></strong> passed! ✨</p>"
      ]
     },
     "execution_count": 5,
     "metadata": {},
     "output_type": "execute_result"
    }
   ],
   "execution_count": 5
  },
  {
   "cell_type": "markdown",
   "metadata": {
    "deletable": false,
    "editable": false
   },
   "source": [
    "<!-- END QUESTION -->\n",
    "\n",
    "<!-- BEGIN QUESTION -->\n",
    "\n",
    "### **Question 2.** \n",
    "Complete the ```satisfied``` method for ```SharedSymbolConstraint``` and ```SharingNSymbolsConstraint```."
   ]
  },
  {
   "cell_type": "code",
   "metadata": {
    "tags": [],
    "ExecuteTime": {
     "end_time": "2025-03-01T15:54:35.804260Z",
     "start_time": "2025-03-01T15:54:35.800736Z"
    }
   },
   "source": [
    "class Constraint(ABC):\n",
    "    # This is an abstract class, nothing to implement here.\n",
    "    def __init__(self, cards: Tuple[str, str]):\n",
    "        self.cards = cards\n",
    "\n",
    "    def satisfied(self, assignment: Dict[str, Card]) -> bool:\n",
    "        raise NotImplementedError\n",
    "    \n",
    "class SharedSymbolConstraint(Constraint):\n",
    "    \"\"\"\n",
    "    This constraint checks to see if two cards share exactly one symbol.\n",
    "    \"\"\"\n",
    "    def __init__(self, cards):\n",
    "        super(SharedSymbolConstraint, self).__init__(cards)\n",
    "    \n",
    "    def satisfied(self, assignment: Dict[str, Card]) -> bool:\n",
    "        \"\"\"\n",
    "        Check if the constraint is satisfied based on the current variable assignment.\n",
    "    \n",
    "        Verifies if the two cards assigned to the constraint share exactly one symbol. \n",
    "        Checks the following conditions:\n",
    "            1. If either cardID is not present in the assignment, the constraint is considered satisfied (returning True).\n",
    "            2. If both cards are present in the assignment, it ensures:\n",
    "            - The two cards are not identical.\n",
    "            - The two cards share exactly one symbol in common.\n",
    "            \n",
    "        If both cards share one symbol in common and are distinct, the constraint is satisfied and the function returns True. \n",
    "        Otherwise, it returns False.\n",
    "        \n",
    "        \n",
    "        \n",
    "        \"\"\"\n",
    "        #...\n",
    "        id1, id2 = self.cards # a tuple of 2 str containing the variable ID for the cards\n",
    "        \n",
    "        if id1 not in assignment or id2 not in assignment: # check if the cards are already in the assignment\n",
    "            return True # if they are, there are no constraints to check\n",
    "        \n",
    "        card1, card2 = assignment[id1], assignment[id2] # if they have been assigned to cards, get the cards\n",
    "        \n",
    "        if card1 == card2 or len(card1.symbols.intersection(card2.symbols)) != 1: \n",
    "            return False\n",
    "        else:\n",
    "            return True\n",
    "\n",
    "class SharingNSymbolsConstraint(Constraint):\n",
    "    \"\"\"\n",
    "    This constraint checks to see if two cards share exactly N symbols.\n",
    "    \"\"\"\n",
    "    def __init__(self, cards, N:int):\n",
    "        super(SharingNSymbolsConstraint, self).__init__(cards)\n",
    "        self.N = N\n",
    "\n",
    "    def satisfied(self, assignment: Dict[str, Card]) -> bool:\n",
    "        \"\"\"\n",
    "        The same as the previous class, but instead of only for 1 shared symbol, checks for N shared symbols.\n",
    "        \"\"\"\n",
    "        #...\n",
    "        id1, id2 = self.cards\n",
    "        \n",
    "        card1, card2 = assignment[id1], assignment[id2]\n",
    "        \n",
    "        if card1 == card2:\n",
    "            return False\n",
    "        elif len(card1.symbols.intersection(card2.symbols)) != self.N:\n",
    "            return False\n",
    "        else:\n",
    "            return True"
   ],
   "outputs": [],
   "execution_count": 6
  },
  {
   "cell_type": "code",
   "metadata": {
    "deletable": false,
    "editable": false,
    "ExecuteTime": {
     "end_time": "2025-03-01T15:54:35.822779Z",
     "start_time": "2025-03-01T15:54:35.819316Z"
    }
   },
   "source": [
    "grader.check(\"qA.2\")"
   ],
   "outputs": [
    {
     "data": {
      "text/plain": [
       "qA.2 results: All test cases passed!"
      ],
      "text/html": [
       "<p><strong><pre style='display: inline;'>qA.2</pre></strong> passed! 🙌</p>"
      ]
     },
     "execution_count": 7,
     "metadata": {},
     "output_type": "execute_result"
    }
   ],
   "execution_count": 7
  },
  {
   "cell_type": "markdown",
   "metadata": {
    "deletable": false,
    "editable": false,
    "vscode": {
     "languageId": "raw"
    }
   },
   "source": [
    "<!-- END QUESTION -->\n",
    "\n",
    "<!-- BEGIN QUESTION -->\n",
    "\n",
    "### **Question 3.** \n",
    "The CSP class is defined by a list of variable names, a dictionary of domains for each variable, and a list of constraints. Complete the ```consistent``` and ```backtrack``` methods for ```CSP```."
   ]
  },
  {
   "cell_type": "code",
   "metadata": {
    "tags": [],
    "ExecuteTime": {
     "end_time": "2025-03-01T15:54:35.836044Z",
     "start_time": "2025-03-01T15:54:35.832809Z"
    }
   },
   "source": [
    "class CSP:\n",
    "    \"\"\"\n",
    "    A class representing a Constraint Satisfaction Problem.\n",
    "    \"\"\"\n",
    "    def __init__(self, variables: List[str], domains: Dict[str, List[Card]], constraints: List[Constraint]):\n",
    "        self.variables: List[str] = variables\n",
    "        self.domains: Dict[str, Any] = domains\n",
    "\n",
    "        # Store constraints in a dict for easier lookup during search\n",
    "        self.constraints = defaultdict(list)\n",
    "        for constraint in constraints:\n",
    "            variable1, variable2 = constraint.cards\n",
    "            self.constraints[variable1].append(constraint)\n",
    "            self.constraints[variable2].append(constraint) \n",
    "            \n",
    "    def consistent(self, variable: str, assignment: Dict[str, Card]) -> bool:\n",
    "        \"\"\"Return true if the assignment of variable is consistent with the constraints\"\"\"\n",
    "        # ...\n",
    "        \n",
    "        for constraint in self.constraints[variable]:\n",
    "            if not constraint.satisfied(assignment):\n",
    "                return False\n",
    "        return True\n",
    "\n",
    "    def backtrack(self, assignment: Dict[str, Card]) -> Dict[str, Card]:\n",
    "        \"\"\"Recursive function that performs assigns a value to the next unassigned card \"\"\"\n",
    "        if len(assignment) == len(self.variables): # Return if all variables have been assigned\n",
    "            return assignment\n",
    "\n",
    "        # Set 'first' to be the first unassigned variable\n",
    "        first = [var for var in self.variables if var not in assignment][0]\n",
    "        \n",
    "        for value in self.domains[first]:\n",
    "            local_assignment = assignment.copy()\n",
    "            local_assignment[first] = value\n",
    "            if self.consistent(first, local_assignment):\n",
    "                result = self.backtrack(local_assignment)\n",
    "                if result is not None:\n",
    "                    return result\n",
    "\n",
    "    def solve(self):\n",
    "        return self.backtrack({})"
   ],
   "outputs": [],
   "execution_count": 8
  },
  {
   "cell_type": "code",
   "metadata": {
    "deletable": false,
    "editable": false,
    "ExecuteTime": {
     "end_time": "2025-03-01T15:54:35.893842Z",
     "start_time": "2025-03-01T15:54:35.851801Z"
    }
   },
   "source": [
    "grader.check(\"qA.3\")"
   ],
   "outputs": [
    {
     "data": {
      "text/plain": [
       "qA.3 results: All test cases passed!"
      ],
      "text/html": [
       "<p><strong><pre style='display: inline;'>qA.3</pre></strong> passed! 🙌</p>"
      ]
     },
     "execution_count": 9,
     "metadata": {},
     "output_type": "execute_result"
    }
   ],
   "execution_count": 9
  },
  {
   "cell_type": "markdown",
   "metadata": {
    "deletable": false,
    "editable": false
   },
   "source": [
    "<!-- END QUESTION -->\n",
    "\n",
    "<!-- BEGIN QUESTION -->\n",
    "\n",
    "### **Question 4.** \n",
    "Define the set of constraints and run the CSP search to produce a result."
   ]
  },
  {
   "cell_type": "code",
   "metadata": {
    "deletable": false,
    "editable": false,
    "ExecuteTime": {
     "end_time": "2025-03-01T15:54:35.902290Z",
     "start_time": "2025-03-01T15:54:35.900166Z"
    }
   },
   "source": [
    "def generate_symbols(num_symbols: int) -> List[str]:\n",
    "    return [f\"Symbol_{i}\" for i in range(num_symbols)]\n",
    "\n",
    "s = 4  # Symbols per card\n",
    "k = int(s*(s+1)/2)  # The total number of unique symbols\n",
    "n = s+1 # number of cards\n"
   ],
   "outputs": [],
   "execution_count": 10
  },
  {
   "cell_type": "code",
   "metadata": {
    "tags": [],
    "ExecuteTime": {
     "end_time": "2025-03-01T15:54:35.924453Z",
     "start_time": "2025-03-01T15:54:35.921419Z"
    }
   },
   "source": [
    "# Define the variables and domains.\n",
    "variables = ['card1', 'card2', 'card3', 'card4', 'card5']\n",
    "domains = {var: [Card(symbols) for symbols in itertools.combinations(generate_symbols(k), s)] for var in variables}\n",
    "...\n"
   ],
   "outputs": [
    {
     "data": {
      "text/plain": [
       "Ellipsis"
      ]
     },
     "execution_count": 11,
     "metadata": {},
     "output_type": "execute_result"
    }
   ],
   "execution_count": 11
  },
  {
   "cell_type": "code",
   "metadata": {
    "tags": [],
    "ExecuteTime": {
     "end_time": "2025-03-01T15:54:35.950070Z",
     "start_time": "2025-03-01T15:54:35.947350Z"
    }
   },
   "source": [
    "# Define the list of constraints between all the cards.\n",
    "\n",
    "constraints = [SharedSymbolConstraint(('card1', 'card2')), SharedSymbolConstraint(('card1', 'card3')), \n",
    "               SharedSymbolConstraint(('card1', 'card4')), SharedSymbolConstraint(('card1', 'card5')), \n",
    "               SharedSymbolConstraint(('card2', 'card3')), SharedSymbolConstraint(('card2', 'card4')), \n",
    "               SharedSymbolConstraint(('card2', 'card5')), SharedSymbolConstraint(('card3', 'card4')), \n",
    "               SharedSymbolConstraint(('card3', 'card5')), SharedSymbolConstraint(('card4', 'card5'))] \n",
    "...\n",
    "\n",
    "# fix this!!!!!!!!!!!!!!!!!!!!!!!!!!!!!!!"
   ],
   "outputs": [
    {
     "data": {
      "text/plain": [
       "Ellipsis"
      ]
     },
     "execution_count": 12,
     "metadata": {},
     "output_type": "execute_result"
    }
   ],
   "execution_count": 12
  },
  {
   "cell_type": "code",
   "metadata": {
    "deletable": false,
    "editable": false,
    "ExecuteTime": {
     "end_time": "2025-03-01T15:54:35.977636Z",
     "start_time": "2025-03-01T15:54:35.975546Z"
    }
   },
   "source": [
    "csp = CSP(variables, domains, constraints)\n",
    "solution = csp.solve()\n"
   ],
   "outputs": [],
   "execution_count": 13
  },
  {
   "cell_type": "code",
   "metadata": {
    "deletable": false,
    "editable": false,
    "ExecuteTime": {
     "end_time": "2025-03-01T15:54:35.995867Z",
     "start_time": "2025-03-01T15:54:35.988730Z"
    }
   },
   "source": [
    "csp.domains"
   ],
   "outputs": [
    {
     "data": {
      "text/plain": [
       "{'card1': [<__main__.Card at 0x116a6ef90>,\n",
       "  <__main__.Card at 0x116a6f210>,\n",
       "  <__main__.Card at 0x116a6f250>,\n",
       "  <__main__.Card at 0x116a6f290>,\n",
       "  <__main__.Card at 0x116a6f2d0>,\n",
       "  <__main__.Card at 0x116a6f390>,\n",
       "  <__main__.Card at 0x116a6f3d0>,\n",
       "  <__main__.Card at 0x116a6f410>,\n",
       "  <__main__.Card at 0x116a6f450>,\n",
       "  <__main__.Card at 0x116a6f310>,\n",
       "  <__main__.Card at 0x116a6f490>,\n",
       "  <__main__.Card at 0x116a6f4d0>,\n",
       "  <__main__.Card at 0x116a6f510>,\n",
       "  <__main__.Card at 0x116a6f550>,\n",
       "  <__main__.Card at 0x116a6f590>,\n",
       "  <__main__.Card at 0x116a6f5d0>,\n",
       "  <__main__.Card at 0x116a6f610>,\n",
       "  <__main__.Card at 0x116a6f650>,\n",
       "  <__main__.Card at 0x116a6f690>,\n",
       "  <__main__.Card at 0x116a6f6d0>,\n",
       "  <__main__.Card at 0x116a6f710>,\n",
       "  <__main__.Card at 0x116a6f750>,\n",
       "  <__main__.Card at 0x116a6f790>,\n",
       "  <__main__.Card at 0x116a6f7d0>,\n",
       "  <__main__.Card at 0x116a6f810>,\n",
       "  <__main__.Card at 0x116a6f850>,\n",
       "  <__main__.Card at 0x116a6f890>,\n",
       "  <__main__.Card at 0x116a6f8d0>,\n",
       "  <__main__.Card at 0x116a6fa90>,\n",
       "  <__main__.Card at 0x116a6fad0>,\n",
       "  <__main__.Card at 0x116a6fb10>,\n",
       "  <__main__.Card at 0x116a6fb50>,\n",
       "  <__main__.Card at 0x116a6fb90>,\n",
       "  <__main__.Card at 0x116a6fbd0>,\n",
       "  <__main__.Card at 0x116a6fc10>,\n",
       "  <__main__.Card at 0x116a6fc50>,\n",
       "  <__main__.Card at 0x116a6fc90>,\n",
       "  <__main__.Card at 0x116a6fcd0>,\n",
       "  <__main__.Card at 0x116a6fd10>,\n",
       "  <__main__.Card at 0x116a6fd50>,\n",
       "  <__main__.Card at 0x116a6fd90>,\n",
       "  <__main__.Card at 0x116a6fdd0>,\n",
       "  <__main__.Card at 0x116a6fe10>,\n",
       "  <__main__.Card at 0x116a6fe50>,\n",
       "  <__main__.Card at 0x116a6fe90>,\n",
       "  <__main__.Card at 0x116a6fed0>,\n",
       "  <__main__.Card at 0x116a6ff10>,\n",
       "  <__main__.Card at 0x116a6ff50>,\n",
       "  <__main__.Card at 0x116a6ff90>,\n",
       "  <__main__.Card at 0x116a6ffd0>,\n",
       "  <__main__.Card at 0x116a94050>,\n",
       "  <__main__.Card at 0x116a94090>,\n",
       "  <__main__.Card at 0x116a940d0>,\n",
       "  <__main__.Card at 0x116a94110>,\n",
       "  <__main__.Card at 0x116a94150>,\n",
       "  <__main__.Card at 0x116a94190>,\n",
       "  <__main__.Card at 0x116a941d0>,\n",
       "  <__main__.Card at 0x116a94210>,\n",
       "  <__main__.Card at 0x116a94250>,\n",
       "  <__main__.Card at 0x116a94290>,\n",
       "  <__main__.Card at 0x116a942d0>,\n",
       "  <__main__.Card at 0x116a94310>,\n",
       "  <__main__.Card at 0x116a94350>,\n",
       "  <__main__.Card at 0x116a94390>,\n",
       "  <__main__.Card at 0x116a943d0>,\n",
       "  <__main__.Card at 0x116a94410>,\n",
       "  <__main__.Card at 0x116a94450>,\n",
       "  <__main__.Card at 0x116a94490>,\n",
       "  <__main__.Card at 0x116a944d0>,\n",
       "  <__main__.Card at 0x116a94510>,\n",
       "  <__main__.Card at 0x116a94550>,\n",
       "  <__main__.Card at 0x116a94590>,\n",
       "  <__main__.Card at 0x116a945d0>,\n",
       "  <__main__.Card at 0x116a94610>,\n",
       "  <__main__.Card at 0x116a94650>,\n",
       "  <__main__.Card at 0x116a94690>,\n",
       "  <__main__.Card at 0x116a946d0>,\n",
       "  <__main__.Card at 0x116a94710>,\n",
       "  <__main__.Card at 0x116a94750>,\n",
       "  <__main__.Card at 0x116a94790>,\n",
       "  <__main__.Card at 0x116a947d0>,\n",
       "  <__main__.Card at 0x116a94810>,\n",
       "  <__main__.Card at 0x116a94850>,\n",
       "  <__main__.Card at 0x116a94890>,\n",
       "  <__main__.Card at 0x116a948d0>,\n",
       "  <__main__.Card at 0x116a94910>,\n",
       "  <__main__.Card at 0x116a94950>,\n",
       "  <__main__.Card at 0x116a94990>,\n",
       "  <__main__.Card at 0x116a949d0>,\n",
       "  <__main__.Card at 0x116a94a10>,\n",
       "  <__main__.Card at 0x116a94a50>,\n",
       "  <__main__.Card at 0x116a94a90>,\n",
       "  <__main__.Card at 0x116a94ad0>,\n",
       "  <__main__.Card at 0x116a94b10>,\n",
       "  <__main__.Card at 0x116a94b50>,\n",
       "  <__main__.Card at 0x116a94b90>,\n",
       "  <__main__.Card at 0x116a94bd0>,\n",
       "  <__main__.Card at 0x116a94c10>,\n",
       "  <__main__.Card at 0x116a94c50>,\n",
       "  <__main__.Card at 0x116a94c90>,\n",
       "  <__main__.Card at 0x116a94cd0>,\n",
       "  <__main__.Card at 0x116a94d10>,\n",
       "  <__main__.Card at 0x116a94d50>,\n",
       "  <__main__.Card at 0x116a94d90>,\n",
       "  <__main__.Card at 0x116a94dd0>,\n",
       "  <__main__.Card at 0x116a94e10>,\n",
       "  <__main__.Card at 0x116a94e50>,\n",
       "  <__main__.Card at 0x116a94e90>,\n",
       "  <__main__.Card at 0x116a94ed0>,\n",
       "  <__main__.Card at 0x116a94f10>,\n",
       "  <__main__.Card at 0x116a94f50>,\n",
       "  <__main__.Card at 0x116a94f90>,\n",
       "  <__main__.Card at 0x116a94fd0>,\n",
       "  <__main__.Card at 0x116a95010>,\n",
       "  <__main__.Card at 0x116a95050>,\n",
       "  <__main__.Card at 0x116a95090>,\n",
       "  <__main__.Card at 0x116a950d0>,\n",
       "  <__main__.Card at 0x116a95110>,\n",
       "  <__main__.Card at 0x116a95150>,\n",
       "  <__main__.Card at 0x116a95190>,\n",
       "  <__main__.Card at 0x116a951d0>,\n",
       "  <__main__.Card at 0x116a95210>,\n",
       "  <__main__.Card at 0x116a95250>,\n",
       "  <__main__.Card at 0x116a95410>,\n",
       "  <__main__.Card at 0x116a95450>,\n",
       "  <__main__.Card at 0x116a95490>,\n",
       "  <__main__.Card at 0x116a954d0>,\n",
       "  <__main__.Card at 0x116a95510>,\n",
       "  <__main__.Card at 0x116a95550>,\n",
       "  <__main__.Card at 0x116a95590>,\n",
       "  <__main__.Card at 0x116a955d0>,\n",
       "  <__main__.Card at 0x116a95610>,\n",
       "  <__main__.Card at 0x116a95650>,\n",
       "  <__main__.Card at 0x116a95690>,\n",
       "  <__main__.Card at 0x116a956d0>,\n",
       "  <__main__.Card at 0x116a95710>,\n",
       "  <__main__.Card at 0x116a95750>,\n",
       "  <__main__.Card at 0x116a95790>,\n",
       "  <__main__.Card at 0x116a957d0>,\n",
       "  <__main__.Card at 0x116a95810>,\n",
       "  <__main__.Card at 0x116a95850>,\n",
       "  <__main__.Card at 0x116a95890>,\n",
       "  <__main__.Card at 0x116a958d0>,\n",
       "  <__main__.Card at 0x116a95910>,\n",
       "  <__main__.Card at 0x116a95950>,\n",
       "  <__main__.Card at 0x116a95990>,\n",
       "  <__main__.Card at 0x116a959d0>,\n",
       "  <__main__.Card at 0x116a95a10>,\n",
       "  <__main__.Card at 0x116a95a50>,\n",
       "  <__main__.Card at 0x116a95a90>,\n",
       "  <__main__.Card at 0x116a95ad0>,\n",
       "  <__main__.Card at 0x116a95b10>,\n",
       "  <__main__.Card at 0x116a95b50>,\n",
       "  <__main__.Card at 0x116a95b90>,\n",
       "  <__main__.Card at 0x116a95bd0>,\n",
       "  <__main__.Card at 0x116a95c10>,\n",
       "  <__main__.Card at 0x116a95c50>,\n",
       "  <__main__.Card at 0x116a95c90>,\n",
       "  <__main__.Card at 0x116a95cd0>,\n",
       "  <__main__.Card at 0x116a95d10>,\n",
       "  <__main__.Card at 0x116a95d50>,\n",
       "  <__main__.Card at 0x116a95d90>,\n",
       "  <__main__.Card at 0x116a95dd0>,\n",
       "  <__main__.Card at 0x116a95e10>,\n",
       "  <__main__.Card at 0x116a95e50>,\n",
       "  <__main__.Card at 0x116a95e90>,\n",
       "  <__main__.Card at 0x116a95ed0>,\n",
       "  <__main__.Card at 0x116a95f10>,\n",
       "  <__main__.Card at 0x116a95f50>,\n",
       "  <__main__.Card at 0x116a95f90>,\n",
       "  <__main__.Card at 0x116a95fd0>,\n",
       "  <__main__.Card at 0x116a96010>,\n",
       "  <__main__.Card at 0x116a96050>,\n",
       "  <__main__.Card at 0x116a96090>,\n",
       "  <__main__.Card at 0x116a960d0>,\n",
       "  <__main__.Card at 0x116a96110>,\n",
       "  <__main__.Card at 0x116a96150>,\n",
       "  <__main__.Card at 0x116a96310>,\n",
       "  <__main__.Card at 0x116a96350>,\n",
       "  <__main__.Card at 0x116a96390>,\n",
       "  <__main__.Card at 0x116a963d0>,\n",
       "  <__main__.Card at 0x116a96410>,\n",
       "  <__main__.Card at 0x116a96450>,\n",
       "  <__main__.Card at 0x116a96490>,\n",
       "  <__main__.Card at 0x116a964d0>,\n",
       "  <__main__.Card at 0x116a96510>,\n",
       "  <__main__.Card at 0x116a96550>,\n",
       "  <__main__.Card at 0x116a96590>,\n",
       "  <__main__.Card at 0x116a965d0>,\n",
       "  <__main__.Card at 0x116a96610>,\n",
       "  <__main__.Card at 0x116a96650>,\n",
       "  <__main__.Card at 0x116a96690>,\n",
       "  <__main__.Card at 0x116a966d0>,\n",
       "  <__main__.Card at 0x116a96710>,\n",
       "  <__main__.Card at 0x116a96750>,\n",
       "  <__main__.Card at 0x116a96790>,\n",
       "  <__main__.Card at 0x116a967d0>,\n",
       "  <__main__.Card at 0x116a96810>,\n",
       "  <__main__.Card at 0x116a96850>,\n",
       "  <__main__.Card at 0x116a96890>,\n",
       "  <__main__.Card at 0x116a968d0>,\n",
       "  <__main__.Card at 0x116a96910>,\n",
       "  <__main__.Card at 0x116a96950>,\n",
       "  <__main__.Card at 0x116a96990>,\n",
       "  <__main__.Card at 0x116a969d0>,\n",
       "  <__main__.Card at 0x116a96a10>,\n",
       "  <__main__.Card at 0x116a96a50>,\n",
       "  <__main__.Card at 0x116a96a90>,\n",
       "  <__main__.Card at 0x116a96ad0>,\n",
       "  <__main__.Card at 0x116a96b10>],\n",
       " 'card2': [<__main__.Card at 0x116a96b50>,\n",
       "  <__main__.Card at 0x116a96e10>,\n",
       "  <__main__.Card at 0x116a96e50>,\n",
       "  <__main__.Card at 0x116a96e90>,\n",
       "  <__main__.Card at 0x116a96ed0>,\n",
       "  <__main__.Card at 0x116a96f50>,\n",
       "  <__main__.Card at 0x116a96f90>,\n",
       "  <__main__.Card at 0x116a96fd0>,\n",
       "  <__main__.Card at 0x116a97010>,\n",
       "  <__main__.Card at 0x116a96f10>,\n",
       "  <__main__.Card at 0x116a97050>,\n",
       "  <__main__.Card at 0x116a97090>,\n",
       "  <__main__.Card at 0x116a970d0>,\n",
       "  <__main__.Card at 0x116a97110>,\n",
       "  <__main__.Card at 0x116a97150>,\n",
       "  <__main__.Card at 0x116a97190>,\n",
       "  <__main__.Card at 0x116a971d0>,\n",
       "  <__main__.Card at 0x116a97210>,\n",
       "  <__main__.Card at 0x116a97250>,\n",
       "  <__main__.Card at 0x116a97290>,\n",
       "  <__main__.Card at 0x116a972d0>,\n",
       "  <__main__.Card at 0x116a97310>,\n",
       "  <__main__.Card at 0x116a97350>,\n",
       "  <__main__.Card at 0x116a97390>,\n",
       "  <__main__.Card at 0x116a973d0>,\n",
       "  <__main__.Card at 0x116a97410>,\n",
       "  <__main__.Card at 0x116a97450>,\n",
       "  <__main__.Card at 0x116a97490>,\n",
       "  <__main__.Card at 0x116a974d0>,\n",
       "  <__main__.Card at 0x116a97510>,\n",
       "  <__main__.Card at 0x116a97550>,\n",
       "  <__main__.Card at 0x116a97590>,\n",
       "  <__main__.Card at 0x116a975d0>,\n",
       "  <__main__.Card at 0x116a97610>,\n",
       "  <__main__.Card at 0x116a97650>,\n",
       "  <__main__.Card at 0x116a97690>,\n",
       "  <__main__.Card at 0x116a976d0>,\n",
       "  <__main__.Card at 0x116a97710>,\n",
       "  <__main__.Card at 0x116a97750>,\n",
       "  <__main__.Card at 0x116a97790>,\n",
       "  <__main__.Card at 0x116a977d0>,\n",
       "  <__main__.Card at 0x116a97810>,\n",
       "  <__main__.Card at 0x116a97850>,\n",
       "  <__main__.Card at 0x116a97890>,\n",
       "  <__main__.Card at 0x116a978d0>,\n",
       "  <__main__.Card at 0x116a97910>,\n",
       "  <__main__.Card at 0x116a97950>,\n",
       "  <__main__.Card at 0x116a97990>,\n",
       "  <__main__.Card at 0x116a979d0>,\n",
       "  <__main__.Card at 0x116a97a10>,\n",
       "  <__main__.Card at 0x116a97a50>,\n",
       "  <__main__.Card at 0x116a97a90>,\n",
       "  <__main__.Card at 0x116a97ad0>,\n",
       "  <__main__.Card at 0x116a97b10>,\n",
       "  <__main__.Card at 0x116a97b50>,\n",
       "  <__main__.Card at 0x116a97b90>,\n",
       "  <__main__.Card at 0x116a97bd0>,\n",
       "  <__main__.Card at 0x116a97c10>,\n",
       "  <__main__.Card at 0x116a97c50>,\n",
       "  <__main__.Card at 0x116a97c90>,\n",
       "  <__main__.Card at 0x116a97cd0>,\n",
       "  <__main__.Card at 0x116a97d10>,\n",
       "  <__main__.Card at 0x116a97d50>,\n",
       "  <__main__.Card at 0x116a97d90>,\n",
       "  <__main__.Card at 0x116a97dd0>,\n",
       "  <__main__.Card at 0x116a97e10>,\n",
       "  <__main__.Card at 0x116a97e50>,\n",
       "  <__main__.Card at 0x116a97e90>,\n",
       "  <__main__.Card at 0x116a97ed0>,\n",
       "  <__main__.Card at 0x116a97f10>,\n",
       "  <__main__.Card at 0x116a97f50>,\n",
       "  <__main__.Card at 0x116a97f90>,\n",
       "  <__main__.Card at 0x116a97fd0>,\n",
       "  <__main__.Card at 0x116aaac10>,\n",
       "  <__main__.Card at 0x116aa8050>,\n",
       "  <__main__.Card at 0x116aa8090>,\n",
       "  <__main__.Card at 0x116aa80d0>,\n",
       "  <__main__.Card at 0x116aa8110>,\n",
       "  <__main__.Card at 0x116aa8150>,\n",
       "  <__main__.Card at 0x116aa8190>,\n",
       "  <__main__.Card at 0x116aa81d0>,\n",
       "  <__main__.Card at 0x116aa8210>,\n",
       "  <__main__.Card at 0x116aa8250>,\n",
       "  <__main__.Card at 0x116aa8290>,\n",
       "  <__main__.Card at 0x116aa82d0>,\n",
       "  <__main__.Card at 0x116aa8310>,\n",
       "  <__main__.Card at 0x116aa8350>,\n",
       "  <__main__.Card at 0x116aa8390>,\n",
       "  <__main__.Card at 0x116aa83d0>,\n",
       "  <__main__.Card at 0x116aa8410>,\n",
       "  <__main__.Card at 0x116aa8450>,\n",
       "  <__main__.Card at 0x116aa8490>,\n",
       "  <__main__.Card at 0x116aa84d0>,\n",
       "  <__main__.Card at 0x116aa8510>,\n",
       "  <__main__.Card at 0x116aa8550>,\n",
       "  <__main__.Card at 0x116aa8590>,\n",
       "  <__main__.Card at 0x116aa85d0>,\n",
       "  <__main__.Card at 0x116aa8610>,\n",
       "  <__main__.Card at 0x116aa8650>,\n",
       "  <__main__.Card at 0x116aa8690>,\n",
       "  <__main__.Card at 0x116aa86d0>,\n",
       "  <__main__.Card at 0x116aa8710>,\n",
       "  <__main__.Card at 0x116aa8750>,\n",
       "  <__main__.Card at 0x116aa8790>,\n",
       "  <__main__.Card at 0x116aa87d0>,\n",
       "  <__main__.Card at 0x116aa8810>,\n",
       "  <__main__.Card at 0x116aa8850>,\n",
       "  <__main__.Card at 0x116aa8890>,\n",
       "  <__main__.Card at 0x116aa88d0>,\n",
       "  <__main__.Card at 0x116aa8910>,\n",
       "  <__main__.Card at 0x116aa8950>,\n",
       "  <__main__.Card at 0x116aa8990>,\n",
       "  <__main__.Card at 0x116aa89d0>,\n",
       "  <__main__.Card at 0x116aa8a10>,\n",
       "  <__main__.Card at 0x116aa8a50>,\n",
       "  <__main__.Card at 0x116aa8a90>,\n",
       "  <__main__.Card at 0x116aa8ad0>,\n",
       "  <__main__.Card at 0x116aa8b10>,\n",
       "  <__main__.Card at 0x116aa8b50>,\n",
       "  <__main__.Card at 0x116aa8b90>,\n",
       "  <__main__.Card at 0x116aa8bd0>,\n",
       "  <__main__.Card at 0x116aa8c10>,\n",
       "  <__main__.Card at 0x116aa8c50>,\n",
       "  <__main__.Card at 0x116aa8c90>,\n",
       "  <__main__.Card at 0x116aa8cd0>,\n",
       "  <__main__.Card at 0x116aa8d10>,\n",
       "  <__main__.Card at 0x116aa8d50>,\n",
       "  <__main__.Card at 0x116aa8d90>,\n",
       "  <__main__.Card at 0x116aa8dd0>,\n",
       "  <__main__.Card at 0x116aa8e10>,\n",
       "  <__main__.Card at 0x116aa8e50>,\n",
       "  <__main__.Card at 0x116aa8e90>,\n",
       "  <__main__.Card at 0x116aa8ed0>,\n",
       "  <__main__.Card at 0x116aa8f10>,\n",
       "  <__main__.Card at 0x116aa8f50>,\n",
       "  <__main__.Card at 0x116aa8f90>,\n",
       "  <__main__.Card at 0x116aa8fd0>,\n",
       "  <__main__.Card at 0x116aa9010>,\n",
       "  <__main__.Card at 0x116aa9050>,\n",
       "  <__main__.Card at 0x116aa9090>,\n",
       "  <__main__.Card at 0x116aa90d0>,\n",
       "  <__main__.Card at 0x116aa9110>,\n",
       "  <__main__.Card at 0x116aa9150>,\n",
       "  <__main__.Card at 0x116aa9190>,\n",
       "  <__main__.Card at 0x116aa91d0>,\n",
       "  <__main__.Card at 0x116aa9210>,\n",
       "  <__main__.Card at 0x116aa9250>,\n",
       "  <__main__.Card at 0x116aa9290>,\n",
       "  <__main__.Card at 0x116aa92d0>,\n",
       "  <__main__.Card at 0x116aa9310>,\n",
       "  <__main__.Card at 0x116aa9350>,\n",
       "  <__main__.Card at 0x116aa9390>,\n",
       "  <__main__.Card at 0x116aa93d0>,\n",
       "  <__main__.Card at 0x116aa9410>,\n",
       "  <__main__.Card at 0x116aa9450>,\n",
       "  <__main__.Card at 0x116aa9490>,\n",
       "  <__main__.Card at 0x116aa94d0>,\n",
       "  <__main__.Card at 0x116aa9510>,\n",
       "  <__main__.Card at 0x116aa9550>,\n",
       "  <__main__.Card at 0x116aa9590>,\n",
       "  <__main__.Card at 0x116aa95d0>,\n",
       "  <__main__.Card at 0x116aa9610>,\n",
       "  <__main__.Card at 0x116aa9650>,\n",
       "  <__main__.Card at 0x116aa9690>,\n",
       "  <__main__.Card at 0x116aa96d0>,\n",
       "  <__main__.Card at 0x116aa9710>,\n",
       "  <__main__.Card at 0x116aa9750>,\n",
       "  <__main__.Card at 0x116aa9790>,\n",
       "  <__main__.Card at 0x116aa97d0>,\n",
       "  <__main__.Card at 0x116aa9810>,\n",
       "  <__main__.Card at 0x116aa9850>,\n",
       "  <__main__.Card at 0x116aa9890>,\n",
       "  <__main__.Card at 0x116aa98d0>,\n",
       "  <__main__.Card at 0x116aa9910>,\n",
       "  <__main__.Card at 0x116aa9950>,\n",
       "  <__main__.Card at 0x116aa9990>,\n",
       "  <__main__.Card at 0x116aa99d0>,\n",
       "  <__main__.Card at 0x116aa9a10>,\n",
       "  <__main__.Card at 0x116aa9a50>,\n",
       "  <__main__.Card at 0x116aa9a90>,\n",
       "  <__main__.Card at 0x116aa9ad0>,\n",
       "  <__main__.Card at 0x116aa9b10>,\n",
       "  <__main__.Card at 0x116aa9b50>,\n",
       "  <__main__.Card at 0x116aa9b90>,\n",
       "  <__main__.Card at 0x116aa9bd0>,\n",
       "  <__main__.Card at 0x116aa9c10>,\n",
       "  <__main__.Card at 0x116aa9c50>,\n",
       "  <__main__.Card at 0x116aa9c90>,\n",
       "  <__main__.Card at 0x116aa9cd0>,\n",
       "  <__main__.Card at 0x116aa9d10>,\n",
       "  <__main__.Card at 0x116aa9d50>,\n",
       "  <__main__.Card at 0x116aa9d90>,\n",
       "  <__main__.Card at 0x116aa9dd0>,\n",
       "  <__main__.Card at 0x116aa9e10>,\n",
       "  <__main__.Card at 0x116aa9e50>,\n",
       "  <__main__.Card at 0x116aa9e90>,\n",
       "  <__main__.Card at 0x116aa9ed0>,\n",
       "  <__main__.Card at 0x116aa9f10>,\n",
       "  <__main__.Card at 0x116aa9f50>,\n",
       "  <__main__.Card at 0x116aa9f90>,\n",
       "  <__main__.Card at 0x116aa9fd0>,\n",
       "  <__main__.Card at 0x116aaa010>,\n",
       "  <__main__.Card at 0x116aaa050>,\n",
       "  <__main__.Card at 0x116aaa090>,\n",
       "  <__main__.Card at 0x116aaa0d0>,\n",
       "  <__main__.Card at 0x116aaa110>,\n",
       "  <__main__.Card at 0x116aaa150>,\n",
       "  <__main__.Card at 0x116aaa190>,\n",
       "  <__main__.Card at 0x116aaa1d0>,\n",
       "  <__main__.Card at 0x116aaa210>],\n",
       " 'card3': [<__main__.Card at 0x116aaa250>,\n",
       "  <__main__.Card at 0x116aaa510>,\n",
       "  <__main__.Card at 0x116aaa550>,\n",
       "  <__main__.Card at 0x116aaa590>,\n",
       "  <__main__.Card at 0x116aaa5d0>,\n",
       "  <__main__.Card at 0x116aaa650>,\n",
       "  <__main__.Card at 0x116aaa690>,\n",
       "  <__main__.Card at 0x116aaa6d0>,\n",
       "  <__main__.Card at 0x116aaa710>,\n",
       "  <__main__.Card at 0x116aaa610>,\n",
       "  <__main__.Card at 0x116aaa750>,\n",
       "  <__main__.Card at 0x116aaa790>,\n",
       "  <__main__.Card at 0x116aaa7d0>,\n",
       "  <__main__.Card at 0x116aaa810>,\n",
       "  <__main__.Card at 0x116aaa850>,\n",
       "  <__main__.Card at 0x116aaa890>,\n",
       "  <__main__.Card at 0x116aaa8d0>,\n",
       "  <__main__.Card at 0x116aaa910>,\n",
       "  <__main__.Card at 0x116aaa950>,\n",
       "  <__main__.Card at 0x116aaa990>,\n",
       "  <__main__.Card at 0x116aaa9d0>,\n",
       "  <__main__.Card at 0x116aaaa10>,\n",
       "  <__main__.Card at 0x116aaaa50>,\n",
       "  <__main__.Card at 0x116aaaa90>,\n",
       "  <__main__.Card at 0x116aaaad0>,\n",
       "  <__main__.Card at 0x116aaab10>,\n",
       "  <__main__.Card at 0x116aaab50>,\n",
       "  <__main__.Card at 0x116aaab90>,\n",
       "  <__main__.Card at 0x116aaad50>,\n",
       "  <__main__.Card at 0x116aaad90>,\n",
       "  <__main__.Card at 0x116aaadd0>,\n",
       "  <__main__.Card at 0x116aaae10>,\n",
       "  <__main__.Card at 0x116aaae50>,\n",
       "  <__main__.Card at 0x116aaae90>,\n",
       "  <__main__.Card at 0x116aaaed0>,\n",
       "  <__main__.Card at 0x116aaaf10>,\n",
       "  <__main__.Card at 0x116aaaf50>,\n",
       "  <__main__.Card at 0x116aaaf90>,\n",
       "  <__main__.Card at 0x116aaafd0>,\n",
       "  <__main__.Card at 0x116aab010>,\n",
       "  <__main__.Card at 0x116aab050>,\n",
       "  <__main__.Card at 0x116aab090>,\n",
       "  <__main__.Card at 0x116aab0d0>,\n",
       "  <__main__.Card at 0x116aab110>,\n",
       "  <__main__.Card at 0x116aab150>,\n",
       "  <__main__.Card at 0x116aab190>,\n",
       "  <__main__.Card at 0x116aab1d0>,\n",
       "  <__main__.Card at 0x116aab210>,\n",
       "  <__main__.Card at 0x116aab250>,\n",
       "  <__main__.Card at 0x116aab290>,\n",
       "  <__main__.Card at 0x116aab2d0>,\n",
       "  <__main__.Card at 0x116aab310>,\n",
       "  <__main__.Card at 0x116aab350>,\n",
       "  <__main__.Card at 0x116aab390>,\n",
       "  <__main__.Card at 0x116aab3d0>,\n",
       "  <__main__.Card at 0x116aab410>,\n",
       "  <__main__.Card at 0x116aab450>,\n",
       "  <__main__.Card at 0x116aab490>,\n",
       "  <__main__.Card at 0x116aab4d0>,\n",
       "  <__main__.Card at 0x116aab510>,\n",
       "  <__main__.Card at 0x116aab550>,\n",
       "  <__main__.Card at 0x116aab590>,\n",
       "  <__main__.Card at 0x116aab5d0>,\n",
       "  <__main__.Card at 0x116aab610>,\n",
       "  <__main__.Card at 0x116aab650>,\n",
       "  <__main__.Card at 0x116aab690>,\n",
       "  <__main__.Card at 0x116aab6d0>,\n",
       "  <__main__.Card at 0x116aab710>,\n",
       "  <__main__.Card at 0x116aab750>,\n",
       "  <__main__.Card at 0x116aab790>,\n",
       "  <__main__.Card at 0x116aab7d0>,\n",
       "  <__main__.Card at 0x116aab810>,\n",
       "  <__main__.Card at 0x116aab850>,\n",
       "  <__main__.Card at 0x116aab890>,\n",
       "  <__main__.Card at 0x116aab8d0>,\n",
       "  <__main__.Card at 0x116aab910>,\n",
       "  <__main__.Card at 0x116aab950>,\n",
       "  <__main__.Card at 0x116aab990>,\n",
       "  <__main__.Card at 0x116aab9d0>,\n",
       "  <__main__.Card at 0x116aaba10>,\n",
       "  <__main__.Card at 0x116aaba50>,\n",
       "  <__main__.Card at 0x116aaba90>,\n",
       "  <__main__.Card at 0x116aabad0>,\n",
       "  <__main__.Card at 0x116aabb10>,\n",
       "  <__main__.Card at 0x116aabb50>,\n",
       "  <__main__.Card at 0x116aabb90>,\n",
       "  <__main__.Card at 0x116aabbd0>,\n",
       "  <__main__.Card at 0x116aabc10>,\n",
       "  <__main__.Card at 0x116aabc50>,\n",
       "  <__main__.Card at 0x116aabc90>,\n",
       "  <__main__.Card at 0x116aabcd0>,\n",
       "  <__main__.Card at 0x116aabd10>,\n",
       "  <__main__.Card at 0x116aabd50>,\n",
       "  <__main__.Card at 0x116aabd90>,\n",
       "  <__main__.Card at 0x116aabdd0>,\n",
       "  <__main__.Card at 0x116aabe10>,\n",
       "  <__main__.Card at 0x116aabe50>,\n",
       "  <__main__.Card at 0x116aabe90>,\n",
       "  <__main__.Card at 0x116aabed0>,\n",
       "  <__main__.Card at 0x116aabf10>,\n",
       "  <__main__.Card at 0x116aabf50>,\n",
       "  <__main__.Card at 0x116aabf90>,\n",
       "  <__main__.Card at 0x116aabfd0>,\n",
       "  <__main__.Card at 0x116aaad10>,\n",
       "  <__main__.Card at 0x113cac050>,\n",
       "  <__main__.Card at 0x113cac090>,\n",
       "  <__main__.Card at 0x113cac0d0>,\n",
       "  <__main__.Card at 0x113cac290>,\n",
       "  <__main__.Card at 0x113cac2d0>,\n",
       "  <__main__.Card at 0x113cac310>,\n",
       "  <__main__.Card at 0x113cac350>,\n",
       "  <__main__.Card at 0x113cac3d0>,\n",
       "  <__main__.Card at 0x113cac410>,\n",
       "  <__main__.Card at 0x113cac390>,\n",
       "  <__main__.Card at 0x113cac450>,\n",
       "  <__main__.Card at 0x113cac550>,\n",
       "  <__main__.Card at 0x113cac510>,\n",
       "  <__main__.Card at 0x113cac4d0>,\n",
       "  <__main__.Card at 0x113cac590>,\n",
       "  <__main__.Card at 0x113cac5d0>,\n",
       "  <__main__.Card at 0x113cac610>,\n",
       "  <__main__.Card at 0x113cac650>,\n",
       "  <__main__.Card at 0x113cac690>,\n",
       "  <__main__.Card at 0x113cac6d0>,\n",
       "  <__main__.Card at 0x113cac710>,\n",
       "  <__main__.Card at 0x113cac750>,\n",
       "  <__main__.Card at 0x113cac790>,\n",
       "  <__main__.Card at 0x113cac7d0>,\n",
       "  <__main__.Card at 0x113cac810>,\n",
       "  <__main__.Card at 0x113cac850>,\n",
       "  <__main__.Card at 0x113cac890>,\n",
       "  <__main__.Card at 0x113cac8d0>,\n",
       "  <__main__.Card at 0x113cac910>,\n",
       "  <__main__.Card at 0x113cac950>,\n",
       "  <__main__.Card at 0x113cac990>,\n",
       "  <__main__.Card at 0x113cac9d0>,\n",
       "  <__main__.Card at 0x113caca10>,\n",
       "  <__main__.Card at 0x113caca50>,\n",
       "  <__main__.Card at 0x113caca90>,\n",
       "  <__main__.Card at 0x113cacad0>,\n",
       "  <__main__.Card at 0x113cacb10>,\n",
       "  <__main__.Card at 0x113cacb50>,\n",
       "  <__main__.Card at 0x113cacb90>,\n",
       "  <__main__.Card at 0x113cacbd0>,\n",
       "  <__main__.Card at 0x113cacc10>,\n",
       "  <__main__.Card at 0x113cacc50>,\n",
       "  <__main__.Card at 0x113cacc90>,\n",
       "  <__main__.Card at 0x113caccd0>,\n",
       "  <__main__.Card at 0x113cacd10>,\n",
       "  <__main__.Card at 0x113cacd50>,\n",
       "  <__main__.Card at 0x113cacd90>,\n",
       "  <__main__.Card at 0x113cacdd0>,\n",
       "  <__main__.Card at 0x113cace10>,\n",
       "  <__main__.Card at 0x113cace50>,\n",
       "  <__main__.Card at 0x113cace90>,\n",
       "  <__main__.Card at 0x113caced0>,\n",
       "  <__main__.Card at 0x113cacf10>,\n",
       "  <__main__.Card at 0x113cacf50>,\n",
       "  <__main__.Card at 0x113cacf90>,\n",
       "  <__main__.Card at 0x113cacfd0>,\n",
       "  <__main__.Card at 0x113cad010>,\n",
       "  <__main__.Card at 0x113cad050>,\n",
       "  <__main__.Card at 0x113cad090>,\n",
       "  <__main__.Card at 0x113cad0d0>,\n",
       "  <__main__.Card at 0x113cad110>,\n",
       "  <__main__.Card at 0x113cad150>,\n",
       "  <__main__.Card at 0x113cad190>,\n",
       "  <__main__.Card at 0x113cad1d0>,\n",
       "  <__main__.Card at 0x113cad210>,\n",
       "  <__main__.Card at 0x113cad250>,\n",
       "  <__main__.Card at 0x113cad290>,\n",
       "  <__main__.Card at 0x113cad2d0>,\n",
       "  <__main__.Card at 0x113cad310>,\n",
       "  <__main__.Card at 0x113cad350>,\n",
       "  <__main__.Card at 0x113cad390>,\n",
       "  <__main__.Card at 0x113cad3d0>,\n",
       "  <__main__.Card at 0x113cad410>,\n",
       "  <__main__.Card at 0x113cad450>,\n",
       "  <__main__.Card at 0x113cad490>,\n",
       "  <__main__.Card at 0x113cad4d0>,\n",
       "  <__main__.Card at 0x113cad510>,\n",
       "  <__main__.Card at 0x113cad550>,\n",
       "  <__main__.Card at 0x113cad590>,\n",
       "  <__main__.Card at 0x113cad5d0>,\n",
       "  <__main__.Card at 0x113cad610>,\n",
       "  <__main__.Card at 0x113cad650>,\n",
       "  <__main__.Card at 0x113cad690>,\n",
       "  <__main__.Card at 0x113cad6d0>,\n",
       "  <__main__.Card at 0x113cad710>,\n",
       "  <__main__.Card at 0x113cad750>,\n",
       "  <__main__.Card at 0x113cad790>,\n",
       "  <__main__.Card at 0x113cad7d0>,\n",
       "  <__main__.Card at 0x113cad810>,\n",
       "  <__main__.Card at 0x113cad850>,\n",
       "  <__main__.Card at 0x113cad890>,\n",
       "  <__main__.Card at 0x113cad8d0>,\n",
       "  <__main__.Card at 0x113cad910>,\n",
       "  <__main__.Card at 0x113cad950>,\n",
       "  <__main__.Card at 0x113cad990>,\n",
       "  <__main__.Card at 0x113cad9d0>,\n",
       "  <__main__.Card at 0x113cada10>,\n",
       "  <__main__.Card at 0x113cada50>,\n",
       "  <__main__.Card at 0x113cada90>,\n",
       "  <__main__.Card at 0x113cadad0>,\n",
       "  <__main__.Card at 0x113cadb10>,\n",
       "  <__main__.Card at 0x113cadb50>,\n",
       "  <__main__.Card at 0x113cadb90>,\n",
       "  <__main__.Card at 0x113cadbd0>,\n",
       "  <__main__.Card at 0x113cadc10>,\n",
       "  <__main__.Card at 0x113cadc50>],\n",
       " 'card4': [<__main__.Card at 0x113cadc90>,\n",
       "  <__main__.Card at 0x113cadf50>,\n",
       "  <__main__.Card at 0x113cadf90>,\n",
       "  <__main__.Card at 0x113cadfd0>,\n",
       "  <__main__.Card at 0x113cae010>,\n",
       "  <__main__.Card at 0x113cae090>,\n",
       "  <__main__.Card at 0x113cae0d0>,\n",
       "  <__main__.Card at 0x113cae110>,\n",
       "  <__main__.Card at 0x113cae150>,\n",
       "  <__main__.Card at 0x113cae050>,\n",
       "  <__main__.Card at 0x113cae190>,\n",
       "  <__main__.Card at 0x113cae1d0>,\n",
       "  <__main__.Card at 0x113cae210>,\n",
       "  <__main__.Card at 0x113cae250>,\n",
       "  <__main__.Card at 0x113cae290>,\n",
       "  <__main__.Card at 0x113cae2d0>,\n",
       "  <__main__.Card at 0x113cae310>,\n",
       "  <__main__.Card at 0x113cae350>,\n",
       "  <__main__.Card at 0x113cae390>,\n",
       "  <__main__.Card at 0x113cae3d0>,\n",
       "  <__main__.Card at 0x113cae410>,\n",
       "  <__main__.Card at 0x113cae450>,\n",
       "  <__main__.Card at 0x113cae490>,\n",
       "  <__main__.Card at 0x113cae4d0>,\n",
       "  <__main__.Card at 0x113cae510>,\n",
       "  <__main__.Card at 0x113cae550>,\n",
       "  <__main__.Card at 0x113cae590>,\n",
       "  <__main__.Card at 0x113cae5d0>,\n",
       "  <__main__.Card at 0x113cae610>,\n",
       "  <__main__.Card at 0x113cae650>,\n",
       "  <__main__.Card at 0x113cae690>,\n",
       "  <__main__.Card at 0x113cae6d0>,\n",
       "  <__main__.Card at 0x113cae710>,\n",
       "  <__main__.Card at 0x113cae750>,\n",
       "  <__main__.Card at 0x113cae790>,\n",
       "  <__main__.Card at 0x113cae7d0>,\n",
       "  <__main__.Card at 0x113cae810>,\n",
       "  <__main__.Card at 0x113cae850>,\n",
       "  <__main__.Card at 0x113cae890>,\n",
       "  <__main__.Card at 0x113cae8d0>,\n",
       "  <__main__.Card at 0x113cae910>,\n",
       "  <__main__.Card at 0x113cae950>,\n",
       "  <__main__.Card at 0x113cae990>,\n",
       "  <__main__.Card at 0x113cae9d0>,\n",
       "  <__main__.Card at 0x113caea10>,\n",
       "  <__main__.Card at 0x113caea50>,\n",
       "  <__main__.Card at 0x113caea90>,\n",
       "  <__main__.Card at 0x113caead0>,\n",
       "  <__main__.Card at 0x113caeb10>,\n",
       "  <__main__.Card at 0x113caeb50>,\n",
       "  <__main__.Card at 0x113caeb90>,\n",
       "  <__main__.Card at 0x113caebd0>,\n",
       "  <__main__.Card at 0x113caec10>,\n",
       "  <__main__.Card at 0x113caec50>,\n",
       "  <__main__.Card at 0x113caec90>,\n",
       "  <__main__.Card at 0x113caecd0>,\n",
       "  <__main__.Card at 0x113caed10>,\n",
       "  <__main__.Card at 0x113caed50>,\n",
       "  <__main__.Card at 0x113caed90>,\n",
       "  <__main__.Card at 0x113caedd0>,\n",
       "  <__main__.Card at 0x113caee10>,\n",
       "  <__main__.Card at 0x113caee50>,\n",
       "  <__main__.Card at 0x113caee90>,\n",
       "  <__main__.Card at 0x113caeed0>,\n",
       "  <__main__.Card at 0x113caef10>,\n",
       "  <__main__.Card at 0x113caef50>,\n",
       "  <__main__.Card at 0x113caef90>,\n",
       "  <__main__.Card at 0x113caefd0>,\n",
       "  <__main__.Card at 0x113caf010>,\n",
       "  <__main__.Card at 0x113caf050>,\n",
       "  <__main__.Card at 0x113caf090>,\n",
       "  <__main__.Card at 0x113caf0d0>,\n",
       "  <__main__.Card at 0x113caf110>,\n",
       "  <__main__.Card at 0x113caf150>,\n",
       "  <__main__.Card at 0x113caf190>,\n",
       "  <__main__.Card at 0x113caf1d0>,\n",
       "  <__main__.Card at 0x113caf210>,\n",
       "  <__main__.Card at 0x113caf250>,\n",
       "  <__main__.Card at 0x113caf290>,\n",
       "  <__main__.Card at 0x113caf2d0>,\n",
       "  <__main__.Card at 0x113caf310>,\n",
       "  <__main__.Card at 0x113caf350>,\n",
       "  <__main__.Card at 0x113caf390>,\n",
       "  <__main__.Card at 0x113caf3d0>,\n",
       "  <__main__.Card at 0x113caf410>,\n",
       "  <__main__.Card at 0x113caf450>,\n",
       "  <__main__.Card at 0x113caf490>,\n",
       "  <__main__.Card at 0x113caf4d0>,\n",
       "  <__main__.Card at 0x113caf510>,\n",
       "  <__main__.Card at 0x113caf550>,\n",
       "  <__main__.Card at 0x113caf590>,\n",
       "  <__main__.Card at 0x113caf5d0>,\n",
       "  <__main__.Card at 0x113caf610>,\n",
       "  <__main__.Card at 0x113caf650>,\n",
       "  <__main__.Card at 0x113caf690>,\n",
       "  <__main__.Card at 0x113caf6d0>,\n",
       "  <__main__.Card at 0x113caf710>,\n",
       "  <__main__.Card at 0x113caf750>,\n",
       "  <__main__.Card at 0x113caf790>,\n",
       "  <__main__.Card at 0x113caf7d0>,\n",
       "  <__main__.Card at 0x113caf810>,\n",
       "  <__main__.Card at 0x113caf850>,\n",
       "  <__main__.Card at 0x113caf890>,\n",
       "  <__main__.Card at 0x113caf8d0>,\n",
       "  <__main__.Card at 0x113caf910>,\n",
       "  <__main__.Card at 0x113caf950>,\n",
       "  <__main__.Card at 0x113caf990>,\n",
       "  <__main__.Card at 0x113caf9d0>,\n",
       "  <__main__.Card at 0x113cafa10>,\n",
       "  <__main__.Card at 0x113cafa50>,\n",
       "  <__main__.Card at 0x113cafa90>,\n",
       "  <__main__.Card at 0x113cafad0>,\n",
       "  <__main__.Card at 0x113cafb10>,\n",
       "  <__main__.Card at 0x113cafb50>,\n",
       "  <__main__.Card at 0x113cafb90>,\n",
       "  <__main__.Card at 0x113cafbd0>,\n",
       "  <__main__.Card at 0x113cafc10>,\n",
       "  <__main__.Card at 0x113cafc50>,\n",
       "  <__main__.Card at 0x113cafc90>,\n",
       "  <__main__.Card at 0x113cafcd0>,\n",
       "  <__main__.Card at 0x113cafd10>,\n",
       "  <__main__.Card at 0x113cafd50>,\n",
       "  <__main__.Card at 0x113cafd90>,\n",
       "  <__main__.Card at 0x113cafdd0>,\n",
       "  <__main__.Card at 0x113cafe10>,\n",
       "  <__main__.Card at 0x113cafe50>,\n",
       "  <__main__.Card at 0x113cafe90>,\n",
       "  <__main__.Card at 0x113cafed0>,\n",
       "  <__main__.Card at 0x113caff10>,\n",
       "  <__main__.Card at 0x113caff50>,\n",
       "  <__main__.Card at 0x113caff90>,\n",
       "  <__main__.Card at 0x113caffd0>,\n",
       "  <__main__.Card at 0x1137c59d0>,\n",
       "  <__main__.Card at 0x1137c5a10>,\n",
       "  <__main__.Card at 0x1137c53d0>,\n",
       "  <__main__.Card at 0x1137c5a50>,\n",
       "  <__main__.Card at 0x1137c6390>,\n",
       "  <__main__.Card at 0x1137c5490>,\n",
       "  <__main__.Card at 0x1137c6a10>,\n",
       "  <__main__.Card at 0x1137c6dd0>,\n",
       "  <__main__.Card at 0x10670b3d0>,\n",
       "  <__main__.Card at 0x1139fde50>,\n",
       "  <__main__.Card at 0x1139fd610>,\n",
       "  <__main__.Card at 0x1139fd350>,\n",
       "  <__main__.Card at 0x1139fef10>,\n",
       "  <__main__.Card at 0x1139fddd0>,\n",
       "  <__main__.Card at 0x1139feb50>,\n",
       "  <__main__.Card at 0x1139fe5d0>,\n",
       "  <__main__.Card at 0x1139fe590>,\n",
       "  <__main__.Card at 0x1139fe8d0>,\n",
       "  <__main__.Card at 0x1139fe890>,\n",
       "  <__main__.Card at 0x1139fe010>,\n",
       "  <__main__.Card at 0x1139feb90>,\n",
       "  <__main__.Card at 0x1139fd190>,\n",
       "  <__main__.Card at 0x1139fe790>,\n",
       "  <__main__.Card at 0x1139fe750>,\n",
       "  <__main__.Card at 0x1139fe610>,\n",
       "  <__main__.Card at 0x1139fe110>,\n",
       "  <__main__.Card at 0x1139fe150>,\n",
       "  <__main__.Card at 0x1139fec50>,\n",
       "  <__main__.Card at 0x1139fdc50>,\n",
       "  <__main__.Card at 0x1139fc890>,\n",
       "  <__main__.Card at 0x1139fd7d0>,\n",
       "  <__main__.Card at 0x1139fc4d0>,\n",
       "  <__main__.Card at 0x1139fd890>,\n",
       "  <__main__.Card at 0x1139ff690>,\n",
       "  <__main__.Card at 0x1139fecd0>,\n",
       "  <__main__.Card at 0x1139fe390>,\n",
       "  <__main__.Card at 0x1139fed90>,\n",
       "  <__main__.Card at 0x1139fd810>,\n",
       "  <__main__.Card at 0x1139fd290>,\n",
       "  <__main__.Card at 0x1139fe1d0>,\n",
       "  <__main__.Card at 0x1139ff450>,\n",
       "  <__main__.Card at 0x1139fd790>,\n",
       "  <__main__.Card at 0x1139fe4d0>,\n",
       "  <__main__.Card at 0x1139ff910>,\n",
       "  <__main__.Card at 0x1139ff650>,\n",
       "  <__main__.Card at 0x1139fefd0>,\n",
       "  <__main__.Card at 0x1139ff710>,\n",
       "  <__main__.Card at 0x1139ff4d0>,\n",
       "  <__main__.Card at 0x1139fec90>,\n",
       "  <__main__.Card at 0x1139fda90>,\n",
       "  <__main__.Card at 0x1139fe810>,\n",
       "  <__main__.Card at 0x1139fd2d0>,\n",
       "  <__main__.Card at 0x1139fe210>,\n",
       "  <__main__.Card at 0x1139ff090>,\n",
       "  <__main__.Card at 0x1139fd910>,\n",
       "  <__main__.Card at 0x1139fd1d0>,\n",
       "  <__main__.Card at 0x1139fd590>,\n",
       "  <__main__.Card at 0x1139febd0>,\n",
       "  <__main__.Card at 0x1139ff610>,\n",
       "  <__main__.Card at 0x1139fea50>,\n",
       "  <__main__.Card at 0x1139fe910>,\n",
       "  <__main__.Card at 0x1139fdd10>,\n",
       "  <__main__.Card at 0x1139fe950>,\n",
       "  <__main__.Card at 0x1139ff110>,\n",
       "  <__main__.Card at 0x1139ff2d0>,\n",
       "  <__main__.Card at 0x1138541d0>,\n",
       "  <__main__.Card at 0x113854510>,\n",
       "  <__main__.Card at 0x113854390>,\n",
       "  <__main__.Card at 0x113854910>,\n",
       "  <__main__.Card at 0x113854ad0>,\n",
       "  <__main__.Card at 0x113854bd0>,\n",
       "  <__main__.Card at 0x113854d90>,\n",
       "  <__main__.Card at 0x113854f90>,\n",
       "  <__main__.Card at 0x113855150>,\n",
       "  <__main__.Card at 0x113855310>,\n",
       "  <__main__.Card at 0x1138554d0>,\n",
       "  <__main__.Card at 0x113855690>,\n",
       "  <__main__.Card at 0x113855810>],\n",
       " 'card5': [<__main__.Card at 0x113855a10>,\n",
       "  <__main__.Card at 0x113856f10>,\n",
       "  <__main__.Card at 0x113857090>,\n",
       "  <__main__.Card at 0x113856b90>,\n",
       "  <__main__.Card at 0x113857450>,\n",
       "  <__main__.Card at 0x113857790>,\n",
       "  <__main__.Card at 0x113857610>,\n",
       "  <__main__.Card at 0x113857b50>,\n",
       "  <__main__.Card at 0x113857d10>,\n",
       "  <__main__.Card at 0x113857290>,\n",
       "  <__main__.Card at 0x113857ed0>,\n",
       "  <__main__.Card at 0x113857950>,\n",
       "  <__main__.Card at 0x1138509d0>,\n",
       "  <__main__.Card at 0x1138514d0>,\n",
       "  <__main__.Card at 0x1138516d0>,\n",
       "  <__main__.Card at 0x113851610>,\n",
       "  <__main__.Card at 0x113851150>,\n",
       "  <__main__.Card at 0x113850ad0>,\n",
       "  <__main__.Card at 0x113850950>,\n",
       "  <__main__.Card at 0x113850d50>,\n",
       "  <__main__.Card at 0x1138511d0>,\n",
       "  <__main__.Card at 0x1138501d0>,\n",
       "  <__main__.Card at 0x113852210>,\n",
       "  <__main__.Card at 0x113852110>,\n",
       "  <__main__.Card at 0x113852410>,\n",
       "  <__main__.Card at 0x113852610>,\n",
       "  <__main__.Card at 0x1138529d0>,\n",
       "  <__main__.Card at 0x113852bd0>,\n",
       "  <__main__.Card at 0x113852e10>,\n",
       "  <__main__.Card at 0x113852f90>,\n",
       "  <__main__.Card at 0x113852790>,\n",
       "  <__main__.Card at 0x113853190>,\n",
       "  <__main__.Card at 0x113853590>,\n",
       "  <__main__.Card at 0x113853750>,\n",
       "  <__main__.Card at 0x113853350>,\n",
       "  <__main__.Card at 0x1138538d0>,\n",
       "  <__main__.Card at 0x1138539d0>,\n",
       "  <__main__.Card at 0x113900410>,\n",
       "  <__main__.Card at 0x113900110>,\n",
       "  <__main__.Card at 0x1138f8110>,\n",
       "  <__main__.Card at 0x1138f8410>,\n",
       "  <__main__.Card at 0x1138f85d0>,\n",
       "  <__main__.Card at 0x1138f8790>,\n",
       "  <__main__.Card at 0x1138f8910>,\n",
       "  <__main__.Card at 0x1138f8ad0>,\n",
       "  <__main__.Card at 0x1138f8210>,\n",
       "  <__main__.Card at 0x1138f8e50>,\n",
       "  <__main__.Card at 0x1138f9210>,\n",
       "  <__main__.Card at 0x1138f9390>,\n",
       "  <__main__.Card at 0x1138f9550>,\n",
       "  <__main__.Card at 0x1138f9050>,\n",
       "  <__main__.Card at 0x1138f96d0>,\n",
       "  <__main__.Card at 0x1138f9890>,\n",
       "  <__main__.Card at 0x1138f9b10>,\n",
       "  <__main__.Card at 0x1138f9bd0>,\n",
       "  <__main__.Card at 0x1138f9850>,\n",
       "  <__main__.Card at 0x1138f9d10>,\n",
       "  <__main__.Card at 0x1138f9e10>,\n",
       "  <__main__.Card at 0x1138fa190>,\n",
       "  <__main__.Card at 0x1138f9f10>,\n",
       "  <__main__.Card at 0x1138fa290>,\n",
       "  <__main__.Card at 0x1138fa550>,\n",
       "  <__main__.Card at 0x1138fa6d0>,\n",
       "  <__main__.Card at 0x1138fa410>,\n",
       "  <__main__.Card at 0x1138fabd0>,\n",
       "  <__main__.Card at 0x1138fac50>,\n",
       "  <__main__.Card at 0x1138fa890>,\n",
       "  <__main__.Card at 0x1138facd0>,\n",
       "  <__main__.Card at 0x1138fac10>,\n",
       "  <__main__.Card at 0x1138fb050>,\n",
       "  <__main__.Card at 0x1138fb450>,\n",
       "  <__main__.Card at 0x1138fb650>,\n",
       "  <__main__.Card at 0x1138fb6d0>,\n",
       "  <__main__.Card at 0x1138fb7d0>,\n",
       "  <__main__.Card at 0x1138faf90>,\n",
       "  <__main__.Card at 0x1138fb390>,\n",
       "  <__main__.Card at 0x1138fb8d0>,\n",
       "  <__main__.Card at 0x1138fb850>,\n",
       "  <__main__.Card at 0x1138fb490>,\n",
       "  <__main__.Card at 0x1138fb4d0>,\n",
       "  <__main__.Card at 0x1138fb810>,\n",
       "  <__main__.Card at 0x1138fb750>,\n",
       "  <__main__.Card at 0x1138fb610>,\n",
       "  <__main__.Card at 0x1138fb910>,\n",
       "  <__main__.Card at 0x1138fb990>,\n",
       "  <__main__.Card at 0x1138fbad0>,\n",
       "  <__main__.Card at 0x1138fb890>,\n",
       "  <__main__.Card at 0x1138fb510>,\n",
       "  <__main__.Card at 0x1138fbdd0>,\n",
       "  <__main__.Card at 0x1138fba90>,\n",
       "  <__main__.Card at 0x1138fbd90>,\n",
       "  <__main__.Card at 0x1138fbc10>,\n",
       "  <__main__.Card at 0x1138fb690>,\n",
       "  <__main__.Card at 0x1138fbc50>,\n",
       "  <__main__.Card at 0x113501010>,\n",
       "  <__main__.Card at 0x113500c50>,\n",
       "  <__main__.Card at 0x113501c10>,\n",
       "  <__main__.Card at 0x113533a90>,\n",
       "  <__main__.Card at 0x113533a50>,\n",
       "  <__main__.Card at 0x113532c10>,\n",
       "  <__main__.Card at 0x113532e90>,\n",
       "  <__main__.Card at 0x113533890>,\n",
       "  <__main__.Card at 0x113532c50>,\n",
       "  <__main__.Card at 0x113533950>,\n",
       "  <__main__.Card at 0x113533610>,\n",
       "  <__main__.Card at 0x113533650>,\n",
       "  <__main__.Card at 0x1135337d0>,\n",
       "  <__main__.Card at 0x113532c90>,\n",
       "  <__main__.Card at 0x113533810>,\n",
       "  <__main__.Card at 0x113532b50>,\n",
       "  <__main__.Card at 0x113532d90>,\n",
       "  <__main__.Card at 0x113532e50>,\n",
       "  <__main__.Card at 0x113532dd0>,\n",
       "  <__main__.Card at 0x113532d50>,\n",
       "  <__main__.Card at 0x113532d10>,\n",
       "  <__main__.Card at 0x113532cd0>,\n",
       "  <__main__.Card at 0x113532850>,\n",
       "  <__main__.Card at 0x113532a10>,\n",
       "  <__main__.Card at 0x1135327d0>,\n",
       "  <__main__.Card at 0x113532650>,\n",
       "  <__main__.Card at 0x1135329d0>,\n",
       "  <__main__.Card at 0x113532710>,\n",
       "  <__main__.Card at 0x1135323d0>,\n",
       "  <__main__.Card at 0x113532410>,\n",
       "  <__main__.Card at 0x113532590>,\n",
       "  <__main__.Card at 0x113532990>,\n",
       "  <__main__.Card at 0x1135325d0>,\n",
       "  <__main__.Card at 0x113532950>,\n",
       "  <__main__.Card at 0x113531c50>,\n",
       "  <__main__.Card at 0x113531c10>,\n",
       "  <__main__.Card at 0x113532910>,\n",
       "  <__main__.Card at 0x113531b50>,\n",
       "  <__main__.Card at 0x113531a10>,\n",
       "  <__main__.Card at 0x1135328d0>,\n",
       "  <__main__.Card at 0x113531ad0>,\n",
       "  <__main__.Card at 0x113531790>,\n",
       "  <__main__.Card at 0x1135317d0>,\n",
       "  <__main__.Card at 0x113531950>,\n",
       "  <__main__.Card at 0x113532890>,\n",
       "  <__main__.Card at 0x113531990>,\n",
       "  <__main__.Card at 0x113532690>,\n",
       "  <__main__.Card at 0x113530310>,\n",
       "  <__main__.Card at 0x113531010>,\n",
       "  <__main__.Card at 0x1135301d0>,\n",
       "  <__main__.Card at 0x113530f50>,\n",
       "  <__main__.Card at 0x113530e10>,\n",
       "  <__main__.Card at 0x113530210>,\n",
       "  <__main__.Card at 0x113530ed0>,\n",
       "  <__main__.Card at 0x113530b90>,\n",
       "  <__main__.Card at 0x113530bd0>,\n",
       "  <__main__.Card at 0x113530d50>,\n",
       "  <__main__.Card at 0x113530250>,\n",
       "  <__main__.Card at 0x113530d90>,\n",
       "  <__main__.Card at 0x113530110>,\n",
       "  <__main__.Card at 0x113530410>,\n",
       "  <__main__.Card at 0x1135303d0>,\n",
       "  <__main__.Card at 0x113530350>,\n",
       "  <__main__.Card at 0x1135302d0>,\n",
       "  <__main__.Card at 0x113530290>,\n",
       "  <__main__.Card at 0x113532a90>,\n",
       "  <__main__.Card at 0x113530050>,\n",
       "  <__main__.Card at 0x113530090>,\n",
       "  <__main__.Card at 0x11352fcd0>,\n",
       "  <__main__.Card at 0x11352ff90>,\n",
       "  <__main__.Card at 0x11352fc50>,\n",
       "  <__main__.Card at 0x11352fad0>,\n",
       "  <__main__.Card at 0x11352ff50>,\n",
       "  <__main__.Card at 0x11352fb90>,\n",
       "  <__main__.Card at 0x11352f850>,\n",
       "  <__main__.Card at 0x11352f890>,\n",
       "  <__main__.Card at 0x11352fa10>,\n",
       "  <__main__.Card at 0x11352ff10>,\n",
       "  <__main__.Card at 0x11352fa50>,\n",
       "  <__main__.Card at 0x11352fed0>,\n",
       "  <__main__.Card at 0x11352f0d0>,\n",
       "  <__main__.Card at 0x11352f090>,\n",
       "  <__main__.Card at 0x11352fe90>,\n",
       "  <__main__.Card at 0x11352efd0>,\n",
       "  <__main__.Card at 0x11352ee90>,\n",
       "  <__main__.Card at 0x11352fe50>,\n",
       "  <__main__.Card at 0x11352ef50>,\n",
       "  <__main__.Card at 0x11352fe10>,\n",
       "  <__main__.Card at 0x11352ee10>,\n",
       "  <__main__.Card at 0x11352fdd0>,\n",
       "  <__main__.Card at 0x11352ed90>,\n",
       "  <__main__.Card at 0x11352ed10>,\n",
       "  <__main__.Card at 0x11352fd90>,\n",
       "  <__main__.Card at 0x11352ec50>,\n",
       "  <__main__.Card at 0x11352eb10>,\n",
       "  <__main__.Card at 0x11352fd50>,\n",
       "  <__main__.Card at 0x11352ebd0>,\n",
       "  <__main__.Card at 0x11352fd10>,\n",
       "  <__main__.Card at 0x11352ea90>,\n",
       "  <__main__.Card at 0x11352fb10>,\n",
       "  <__main__.Card at 0x11352ea10>,\n",
       "  <__main__.Card at 0x11352e990>,\n",
       "  <__main__.Card at 0x11352e410>,\n",
       "  <__main__.Card at 0x11352e690>,\n",
       "  <__main__.Card at 0x11352e7d0>,\n",
       "  <__main__.Card at 0x11352e450>,\n",
       "  <__main__.Card at 0x11352e890>,\n",
       "  <__main__.Card at 0x11352e490>,\n",
       "  <__main__.Card at 0x11352e750>,\n",
       "  <__main__.Card at 0x11352e350>,\n",
       "  <__main__.Card at 0x11352e6d0>,\n",
       "  <__main__.Card at 0x11352e650>,\n",
       "  <__main__.Card at 0x11352e5d0>,\n",
       "  <__main__.Card at 0x11352e550>,\n",
       "  <__main__.Card at 0x11352e510>,\n",
       "  <__main__.Card at 0x11352e4d0>]}"
      ]
     },
     "execution_count": 14,
     "metadata": {},
     "output_type": "execute_result"
    }
   ],
   "execution_count": 14
  },
  {
   "cell_type": "code",
   "metadata": {
    "deletable": false,
    "editable": false,
    "ExecuteTime": {
     "end_time": "2025-03-01T15:54:36.079792Z",
     "start_time": "2025-03-01T15:54:36.075518Z"
    }
   },
   "source": [
    "grader.check(\"qA.4\")"
   ],
   "outputs": [
    {
     "data": {
      "text/plain": [
       "qA.4 results: All test cases passed!"
      ],
      "text/html": [
       "<p><strong><pre style='display: inline;'>qA.4</pre></strong> passed! 🍀</p>"
      ]
     },
     "execution_count": 15,
     "metadata": {},
     "output_type": "execute_result"
    }
   ],
   "execution_count": 15
  },
  {
   "cell_type": "markdown",
   "metadata": {
    "deletable": false,
    "editable": false,
    "vscode": {
     "languageId": "raw"
    }
   },
   "source": [
    "<!-- END QUESTION -->\n",
    "\n",
    "<!-- BEGIN QUESTION -->\n",
    "\n",
    "### **Question 5.** \n",
    "Produce a set of plots that show how the time taken to find a solution varies against $n$ the number of symbols per card, $k$ the number of cards in the deck, $s$ number of available symbols and $m$ the number of symbols shared between cards. Don't make your numbers too large since it will take a long time to run. Analyse and discuss your plots."
   ]
  },
  {
   "cell_type": "code",
   "metadata": {
    "tags": [],
    "ExecuteTime": {
     "end_time": "2025-03-01T15:56:00.946063Z",
     "start_time": "2025-03-01T15:56:00.941417Z"
    }
   },
   "source": [
    "import timeout_decorator\n",
    "\n",
    "# Define the function to create and solve the CSP problem allowing variables to be varied\n",
    "\n",
    "@timeout_decorator.timeout(60) # This will make sure one search run does not run for more than 60 seconds. You can change this number as needed.\n",
    "def run_csp(n_symbols: int, n_cards: int, symbols_per_card: int, n_shared_symbols: int):\n",
    "    s = symbols_per_card # Symbols per card\n",
    "    k = n_symbols # The total number of unique symbols\n",
    "    n = n_cards # number of cards\n",
    "    \n",
    "    # Define the variables and domains.\n",
    "    variables = [f'card{i}' for i in range(n_cards)]\n",
    "    domains = {var: [Card(symbols) for symbols in itertools.combinations(generate_symbols(k), s)] for var in variables}\n",
    "    \n",
    "    # Define the list of constraints between all the cards.\n",
    "    constraints = []\n",
    "    \n",
    "    for i, card in enumerate(variables):\n",
    "        for j, other_card in enumerate(variables):\n",
    "            if i == j:\n",
    "                continue\n",
    "            else: \n",
    "                constraints.append(SharingNSymbolsConstraint((card, other_card), n_shared_symbols))\n",
    "                \n",
    "    csp = CSP(variables, domains, constraints)\n",
    "    solution = csp.solve()\n",
    "    \n",
    "    return solution"
   ],
   "outputs": [],
   "execution_count": 32
  },
  {
   "cell_type": "code",
   "metadata": {
    "tags": [],
    "ExecuteTime": {
     "end_time": "2025-03-01T19:21:02.484247Z",
     "start_time": "2025-03-01T19:21:02.481486Z"
    }
   },
   "source": [
    "from matplotlib import pyplot as plt\n",
    "import timeit # This will allow you to calculate runtimes, see https://docs.python.org/3/library/timeit.html for more info\n",
    "\n",
    "# Make your plots here\n"
   ],
   "outputs": [],
   "execution_count": 33
  },
  {
   "cell_type": "markdown",
   "metadata": {},
   "source": [
    "_Discuss your results here... What are the main patterns you notice? Why do the plots look the way they do? What impact do the parameters have on the runtime of the search algorithm?_"
   ]
  },
  {
   "cell_type": "markdown",
   "metadata": {
    "deletable": false,
    "editable": false
   },
   "source": [
    "<!-- END QUESTION -->\n",
    "\n",
    "# Part B: A* Search\n",
    "\n",
    "In this part of the assignment you will be working on some animation! Given two polyons (sets of points in discrete 2D space connected by a line), your task is to create a 'smooth' transition from the first to the second. In order to make the transition, you are only allowed to move a single point at a time to an adjacent point either up or down. In order to find the fewest possible steps to go from the starting polygon to the goal, you will be implementing A* search."
   ]
  },
  {
   "cell_type": "code",
   "metadata": {
    "ExecuteTime": {
     "end_time": "2025-03-01T19:21:16.561773Z",
     "start_time": "2025-03-01T19:21:16.558941Z"
    }
   },
   "source": [
    "import itertools\n",
    "from typing import List, Tuple, Dict, Self, Any, Callable\n",
    "from abc import ABC\n",
    "import heapq\n",
    "from collections import OrderedDict\n",
    "from typing import List, Tuple, Set, Union, Self\n",
    "import numpy as np\n"
   ],
   "outputs": [],
   "execution_count": 34
  },
  {
   "cell_type": "code",
   "metadata": {
    "ExecuteTime": {
     "end_time": "2025-03-01T19:21:19.141024Z",
     "start_time": "2025-03-01T19:21:19.138322Z"
    }
   },
   "source": [
    "GRID_SIZE = 4 # Defines an 8x8 grid"
   ],
   "outputs": [],
   "execution_count": 35
  },
  {
   "cell_type": "markdown",
   "metadata": {
    "deletable": false,
    "editable": false
   },
   "source": [
    "<!-- BEGIN QUESTION -->\n",
    "\n",
    "### **Question 1.** \n",
    "Complete the following class methods for the ```Polygon``` class. The methods you are expected to complete are ```__hash__``` and ```generate_neighbours```."
   ]
  },
  {
   "cell_type": "code",
   "metadata": {
    "deletable": false,
    "editable": false,
    "ExecuteTime": {
     "end_time": "2025-03-01T19:27:36.567819Z",
     "start_time": "2025-03-01T19:27:36.563080Z"
    }
   },
   "source": [
    "class Point:\n",
    "    def __init__(self, x, y):\n",
    "        self.x = x\n",
    "        self.y = y\n",
    "\n",
    "    def as_array(self):\n",
    "        return np.array([self.x, self.y])\n",
    "\n",
    "    def __hash__(self):\n",
    "        return hash((self.x, self.y))\n",
    "\n",
    "    def __eq__(self, other):\n",
    "        return (self.x, self.y) == (other.x, other.y)\n",
    "    \n",
    "    def __lt__(self, other):\n",
    "        return (self.x, self.y) < (other.x, other.y)\n",
    "\n",
    "    def __repr__(self):\n",
    "        return f\"Point({self.x}, {self.y})\""
   ],
   "outputs": [],
   "execution_count": 37
  },
  {
   "metadata": {
    "ExecuteTime": {
     "end_time": "2025-03-01T20:32:40.208546Z",
     "start_time": "2025-03-01T20:32:40.201434Z"
    }
   },
   "cell_type": "code",
   "source": [
    "class Polygon:\n",
    "    def __init__(self, coordinates: Union[List[Tuple[int, int]], List[Point]]):\n",
    "        \"\"\"Instantiate a polygon from a list of points.\"\"\"\n",
    "        if not coordinates:\n",
    "            raise ValueError(\"Polygon requires at least one coordinate.\")\n",
    "        if type(coordinates[0]) == tuple:\n",
    "            coordinates = [Point(point[0], point[1]) for point in coordinates]\n",
    "        unique_coords = list(OrderedDict.fromkeys(coordinates))  # Preserve order and remove duplicates\n",
    "        if len(unique_coords) != len(coordinates):\n",
    "            raise ValueError(\"Polygon has repeated coordinates!\")\n",
    "        self.points = unique_coords\n",
    "\n",
    "    def as_list(self) -> List[Point]:\n",
    "        \"\"\"Return the set of points.\"\"\"\n",
    "        return self.points\n",
    "    \n",
    "    def as_array(self) -> np.array:\n",
    "        \"\"\"Return a representation of the current polygon as a numpy array\"\"\"\n",
    "        return np.array([[point.x, point.y] for point in self.points])\n",
    "\n",
    "    def __hash__(self):\n",
    "        \"\"\"Returns a hash for the current polygon. Isomorphic polygons must produce equivalent hashes.\"\"\"\n",
    "        # ...\n",
    "        self.points = sorted(self.points)\n",
    "        return hash(tuple(self.points))\n",
    "\n",
    "    def __eq__(self, other):\n",
    "        \"\"\"Equality test for polygons compatible with the hash function.\"\"\"\n",
    "        # ...\n",
    "        return hash(self) == hash(other)\n",
    "        \n",
    "    def __lt__(self, other):\n",
    "        \"\"\"Allow polygons to be compared.\"\"\"\n",
    "        return self.points < other.points    \n",
    "\n",
    "    def generate_neighbours(self) -> List['Polygon']:\n",
    "        \"\"\"Generates possible neighbours of the current polygon. Ensure that the x and y coordinates of all points are within ±GRID_SIZE\"\"\"\n",
    "        # ...\n",
    "        neighbours = []\n",
    "        \n",
    "        for idx, point in enumerate(self.points):\n",
    "            directions = [(0, 1), (0, -1), (1, 0), (-1, 0)]\n",
    "            for i, j in directions:\n",
    "                new_point = Point(point.x + i, point.y + j)\n",
    "                \n",
    "                new_points = self.points.copy()\n",
    "                new_points[idx] = new_point\n",
    "                \n",
    "                if new_point in self.points:\n",
    "                    continue\n",
    "                \n",
    "                if -GRID_SIZE <= new_point.x <= GRID_SIZE and GRID_SIZE >= new_point.y >= -GRID_SIZE:\n",
    "                    poly = Polygon(new_points)\n",
    "                    neighbours.append(poly)\n",
    "        return neighbours"
   ],
   "outputs": [],
   "execution_count": 42
  },
  {
   "cell_type": "code",
   "metadata": {
    "deletable": false,
    "editable": false,
    "ExecuteTime": {
     "end_time": "2025-03-01T20:32:40.975131Z",
     "start_time": "2025-03-01T20:32:40.970041Z"
    }
   },
   "source": [
    "grader.check(\"qB.1\")"
   ],
   "outputs": [
    {
     "data": {
      "text/plain": [
       "qB.1 results: All test cases passed!"
      ],
      "text/html": [
       "<p><strong><pre style='display: inline;'>qB.1</pre></strong> passed! ✨</p>"
      ]
     },
     "execution_count": 43,
     "metadata": {},
     "output_type": "execute_result"
    }
   ],
   "execution_count": 43
  },
  {
   "cell_type": "markdown",
   "metadata": {
    "deletable": false,
    "editable": false
   },
   "source": [
    "<!-- END QUESTION -->\n",
    "\n",
    "<!-- BEGIN QUESTION -->\n",
    "\n",
    "### **Question 2.**\n",
    "Implement the functions ```difference```, ```minimal```, and ```centroid``` to compute the distance between two polygons."
   ]
  },
  {
   "cell_type": "code",
   "metadata": {
    "tags": [],
    "ExecuteTime": {
     "end_time": "2025-03-01T20:54:26.354542Z",
     "start_time": "2025-03-01T20:54:26.350156Z"
    }
   },
   "source": [
    "from scipy.spatial.distance import cdist\n",
    "\n",
    "def difference(A: Polygon, B: Polygon) -> float:\n",
    "    \"\"\"Returns the number of points in 'a' or 'b' that are not in both polygons.\"\"\"\n",
    "    # ...\n",
    "    return len(set(A.points) ^ set(B.points))\n",
    "\n",
    "def minimal(A: Polygon, B: Polygon) -> float:\n",
    "    \"\"\"Returns the smallest non-zero Manhattan (L1) distance between the points of 'a' and 'b' respectively, multiplied by the number of points in the goal that are still unreached.\"\"\"\n",
    "    # ...\n",
    "    distances = cdist(A.as_array(), B.as_array(), \"cityblock\").diagonal()\n",
    "    distances = distances[distances > 0]\n",
    "    \n",
    "    min_dist = min(distances)\n",
    "    \n",
    "    return min_dist * len(distances)\n",
    "\n",
    "def centroid(A: Polygon, B:Polygon) -> float:\n",
    "    \"\"\"\"Returns the Euclidean distance between the centroids (mean of the points) of the two polygons.\"\"\"\n",
    "    ...\n",
    "    a_mean = np.mean(A.as_array(), axis=0)\n",
    "    b_mean = np.mean(B.as_array(), axis=0)\n",
    "    \n",
    "    dist = np.linalg.norm(a_mean - b_mean)\n",
    "    \n",
    "    return dist"
   ],
   "outputs": [],
   "execution_count": 48
  },
  {
   "cell_type": "code",
   "metadata": {
    "deletable": false,
    "editable": false,
    "ExecuteTime": {
     "end_time": "2025-03-01T20:54:26.762720Z",
     "start_time": "2025-03-01T20:54:26.757058Z"
    }
   },
   "source": [
    "grader.check(\"qB.2\")"
   ],
   "outputs": [
    {
     "data": {
      "text/plain": [
       "qB.2 results: All test cases passed!"
      ],
      "text/html": [
       "<p><strong><pre style='display: inline;'>qB.2</pre></strong> passed! 🚀</p>"
      ]
     },
     "execution_count": 49,
     "metadata": {},
     "output_type": "execute_result"
    }
   ],
   "execution_count": 49
  },
  {
   "cell_type": "markdown",
   "metadata": {
    "deletable": false,
    "editable": false
   },
   "source": [
    "<!-- END QUESTION -->\n",
    "\n",
    "<!-- BEGIN QUESTION -->\n",
    "\n",
    "### **Question 3.** \n",
    "State which of the above metrics are admissable. If they are not admissable, find a pair of polygons that overestimate the actual cost. Otherwise, explain why the heuristic will never overestimate the cost. Give your answer in the format described by the type definition."
   ]
  },
  {
   "cell_type": "code",
   "metadata": {
    "otter": {
     "tests": [
      "qB.3"
     ]
    },
    "tags": [],
    "ExecuteTime": {
     "end_time": "2025-03-01T20:54:43.534434Z",
     "start_time": "2025-03-01T20:54:43.531748Z"
    }
   },
   "source": [
    "difference_is_admissable = ... # True or False\n",
    "difference_counter_example: Tuple[Polygon, Polygon] | str = ... # Explanation if admissable, else tuple of 2 Polygons\n",
    "\n",
    "minimal_is_admissable = ... # True or False\n",
    "minimal_counter_example: Tuple[Polygon, Polygon] | str = ... # Explanation if admissable, else tuple of 2 Polygons\n",
    "\n",
    "centroid_is_admissable = ... # True or False\n",
    "centroid_counter_example: Tuple[Polygon, Polygon] | str = ... # Explanation if admissable, else tuple of 2 Polygons"
   ],
   "outputs": [],
   "execution_count": 50
  },
  {
   "cell_type": "markdown",
   "metadata": {
    "deletable": false,
    "editable": false
   },
   "source": [
    "<!-- END QUESTION -->\n",
    "\n",
    "<!-- BEGIN QUESTION -->\n",
    "\n",
    "### **Question 4.**\n",
    "Complete the implementation of the A* algorithm below. The progress bar is optional but is there to help give an indication of how long it will take before all search routes are exhausted."
   ]
  },
  {
   "cell_type": "code",
   "metadata": {
    "tags": [],
    "ExecuteTime": {
     "end_time": "2025-03-01T15:54:36.589037Z",
     "start_time": "2025-03-01T15:54:36.580463Z"
    }
   },
   "source": [
    "from tqdm.notebook import tqdm\n",
    "def a_star(start: Polygon, goal: Polygon, heuristic: Callable[[Polygon, Polygon], float]) -> List[Polygon]:\n",
    "    if len(start.as_list()) != len(goal.as_list()):\n",
    "        raise ValueError(\"Polygons must be of the same size.\")\n",
    "\n",
    "    # Priority queue: elements are tuples (f_score, polygon)\n",
    "    open_set = [(heuristic(start, goal), start)]\n",
    "    heapq.heapify(open_set)\n",
    "\n",
    "    came_from: Dict[Polygon, Polygon] = {}  # Keeps a log of the parent node used to generate the polygon for reconstructing path\n",
    "    g_score: Dict[Polygon, float] = {start: 0}\n",
    "    f_score: Dict[Polygon, float] = {start: heuristic(start, goal)}\n",
    "    \n",
    "    # Create progress bar based on estimated max number of steps\n",
    "    max_steps = cdist(start.as_array(), goal.as_array(), 'cityblock').max(axis=0).sum() \n",
    "    pbar = tqdm(desc='A* Progress', unit='step', total = max_steps)\n",
    "    while open_set:\n",
    "        current_f, current = heapq.heappop(open_set)\n",
    "        # Update progress bar\n",
    "        pbar.n = math.floor(current_f)\n",
    "        pbar.refresh() \n",
    "    ...\n",
    "    \n",
    "    return []  # return an empty list if no path is found\n"
   ],
   "outputs": [],
   "execution_count": 26
  },
  {
   "cell_type": "code",
   "metadata": {
    "deletable": false,
    "editable": false,
    "ExecuteTime": {
     "end_time": "2025-03-01T15:54:36.596551Z",
     "start_time": "2025-03-01T15:54:36.593810Z"
    }
   },
   "source": [
    "grader.check(\"qB.4\")"
   ],
   "outputs": [
    {
     "data": {
      "text/plain": [
       "qB.4 results:\n",
       "    qB.4 - 1 result:\n",
       "        ❌ Test case failed\n",
       "        Error at line 14 in test qB.4:\n",
       "              solution = a_star(start, goal, simple_heuristic)\n",
       "        TypeError: __hash__ method should return an integer"
      ],
      "text/html": [
       "<p><strong style='color: red;'><pre style='display: inline;'>qB.4</pre> results:</strong></p><p><strong><pre style='display: inline;'>qB.4 - 1</pre> result:</strong></p><pre>    ❌ Test case failed\n",
       "    Error at line 14 in test qB.4:\n",
       "          solution = a_star(start, goal, simple_heuristic)\n",
       "    TypeError: __hash__ method should return an integer</pre>"
      ]
     },
     "execution_count": 27,
     "metadata": {},
     "output_type": "execute_result"
    }
   ],
   "execution_count": 27
  },
  {
   "cell_type": "markdown",
   "metadata": {
    "deletable": false,
    "editable": false
   },
   "source": [
    "<!-- END QUESTION -->\n",
    "\n",
    "<!-- BEGIN QUESTION -->\n",
    "\n",
    "### **Question 5.** \n",
    "Now, we want to create polygons that do not contain self-intersections. Complete the ```intersecting_lines``` and ```_detect_intersection``` methods. You may define helper methods as needed."
   ]
  },
  {
   "cell_type": "code",
   "metadata": {
    "tags": [],
    "ExecuteTime": {
     "end_time": "2025-03-01T15:54:36.609405Z",
     "start_time": "2025-03-01T15:54:36.606713Z"
    }
   },
   "source": [
    "class NonIntersectingPolygon(Polygon):\n",
    "\n",
    "    @staticmethod\n",
    "    def intersecting_lines(l1: Tuple[Point, Point], l2: Tuple[Point, Point]) -> bool:\n",
    "        \"\"\"Checks whether two line segments (a, b) and (r, q) intersect.\"\"\"\n",
    "        ...\n",
    "\n",
    "    def _detect_intersection(self) -> bool:\n",
    "        \"\"\"Checks whether the current polygon has any intersecting lines.\"\"\"\n",
    "        ...\n",
    "\n",
    "    def __init__(self, coordinates: Union[List[Tuple[int, int]], List[Point]]):\n",
    "        super(NonIntersectingPolygon, self).__init__(coordinates)\n",
    "        if self._detect_intersection():\n",
    "            raise ValueError(\"These points result in intersecting lines.\")\n",
    "    \n",
    "    def generate_neighbours(self):\n",
    "        polygons = super(NonIntersectingPolygon, self).generate_neighbours()\n",
    "        non_intersecting_polygons = []\n",
    "        for polygon in polygons:\n",
    "            try:\n",
    "                non_intersecting_polygons.append(NonIntersectingPolygon(polygon.points))\n",
    "            except ValueError:\n",
    "                continue\n",
    "        return non_intersecting_polygons\n"
   ],
   "outputs": [],
   "execution_count": 28
  },
  {
   "cell_type": "code",
   "metadata": {
    "deletable": false,
    "editable": false,
    "ExecuteTime": {
     "end_time": "2025-03-01T15:54:36.618433Z",
     "start_time": "2025-03-01T15:54:36.615681Z"
    }
   },
   "source": [
    "grader.check(\"qB.5\")"
   ],
   "outputs": [
    {
     "data": {
      "text/plain": [
       "qB.5 results:\n",
       "    qB.5 - 1 result:\n",
       "        ❌ Test case failed\n",
       "        Error at line 12 in test qB.5:\n",
       "              assert NonIntersectingPolygon.intersecting_lines(line_1, line_2) == True\n",
       "        AssertionError:\n",
       "\n",
       "    qB.5 - 2 result:\n",
       "        ✅ Test case passed"
      ],
      "text/html": [
       "<p><strong style='color: red;'><pre style='display: inline;'>qB.5</pre> results:</strong></p><p><strong><pre style='display: inline;'>qB.5 - 1</pre> result:</strong></p><pre>    ❌ Test case failed\n",
       "    Error at line 12 in test qB.5:\n",
       "          assert NonIntersectingPolygon.intersecting_lines(line_1, line_2) == True\n",
       "    AssertionError: </pre><p><strong><pre style='display: inline;'>qB.5 - 2</pre> result:</strong></p><pre>    ✅ Test case passed</pre>"
      ]
     },
     "execution_count": 29,
     "metadata": {},
     "output_type": "execute_result"
    }
   ],
   "execution_count": 29
  },
  {
   "cell_type": "markdown",
   "metadata": {
    "deletable": false,
    "editable": false
   },
   "source": [
    "<!-- END QUESTION -->\n",
    "\n",
    "<!-- BEGIN QUESTION -->\n",
    "\n",
    "### **Question 6.**\n",
    "Using the helper functions below, create a set of animations. How does the choice of heuristic, NonIntersectingPolygon vs standard Polygon and the shapes of the polygons affect the search algorithm?"
   ]
  },
  {
   "cell_type": "code",
   "metadata": {
    "deletable": false,
    "editable": false,
    "ExecuteTime": {
     "end_time": "2025-03-01T15:54:36.646555Z",
     "start_time": "2025-03-01T15:54:36.632083Z"
    }
   },
   "source": [
    "import matplotlib.patches as patches\n",
    "import matplotlib.pyplot as plt\n",
    "import matplotlib.animation as animation\n",
    "\n",
    "%matplotlib widget\n",
    "\n",
    "def plot_polygon(ax, polygon, color='blue'):\n",
    "    \"\"\"Helper function to plot a single polygon on given axes.\"\"\"\n",
    "    # Creating the patches for each point in the polygon (assuming ordered points)\n",
    "    for i in range(len(polygon)):\n",
    "        next_point = polygon[(i + 1) % len(polygon)]\n",
    "        xs, ys = zip(*[polygon[i], next_point])\n",
    "        ax.plot(xs, ys, marker='o', color=color)\n",
    "\n",
    "def animate_transformation(path: List[Polygon]):\n",
    "    \"\"\"Animates the transformation from start to goal polygon using the path provided.\"\"\"\n",
    "    fig, ax = plt.subplots()\n",
    "    \n",
    "    # Set limits and aspect\n",
    "    ax.set_xlim(-GRID_SIZE, GRID_SIZE)\n",
    "    ax.set_ylim(-GRID_SIZE, GRID_SIZE)\n",
    "    ax.set_aspect('equal')\n",
    "    \n",
    "    \n",
    "    # Artists to update in the animation\n",
    "    artists = []\n",
    "\n",
    "    def init():\n",
    "        # Initialize the plot elements\n",
    "        ax.clear()\n",
    "        ax.set_xlim(-GRID_SIZE, GRID_SIZE)\n",
    "        ax.set_ylim(-GRID_SIZE, GRID_SIZE)\n",
    "        return artists\n",
    "\n",
    "    def update(frame):\n",
    "        # This function will be called for each frame of the animation\n",
    "        ax.clear()\n",
    "        ax.set_xlim(-GRID_SIZE, GRID_SIZE)\n",
    "        ax.set_ylim(-GRID_SIZE, GRID_SIZE)\n",
    "        polygon = path[frame]\n",
    "        plot_polygon(ax, polygon.as_array(), color='blue')\n",
    "\n",
    "        return artists\n",
    "    \n",
    "    ani = animation.FuncAnimation(fig, update, frames=len(path), init_func=init,\n",
    "                                  blit=False, interval=500, repeat=True)\n",
    "\n",
    "    # Display animation\n",
    "    plt.show()\n",
    "    return ani\n"
   ],
   "outputs": [],
   "execution_count": 30
  },
  {
   "cell_type": "code",
   "metadata": {
    "ExecuteTime": {
     "end_time": "2025-03-01T15:54:36.915772Z",
     "start_time": "2025-03-01T15:54:36.652692Z"
    }
   },
   "source": [
    "import timeit # To help you measure the runtime if you find it useful\n",
    "\n",
    "# Example usage, this may take a little while to run [took about 10 minutes for me 💀]. Probably better to use smaller polygons\n",
    "\n",
    "start_polygon = Polygon([(1, 1), (3, 0), (1, -1), (0, -3), (-1, -1), (-3, 0), (-1, 1), (0, 3)])\n",
    "goal_polygon = Polygon([(1, 4), (2, 2), (2, 0), (1, -2), (-1, -2), (-2, 0), (-2, 2), (-1, 4)])\n",
    "\n",
    "# A fancy heuristic to speed up the search\n",
    "def fancy_heuristic(a, b):\n",
    "    a = a.as_array()\n",
    "    b = b.as_array()\n",
    "    distance_matrix = cdist(a,b, 'cityblock')\n",
    "    sum = 0\n",
    "    for i in range(distance_matrix.shape[0]):\n",
    "        j = distance_matrix[i].argmin()\n",
    "        sum += distance_matrix[i, j]\n",
    "        distance_matrix = np.delete(distance_matrix, j, axis=1)\n",
    "    return sum\n",
    "\n",
    "transformation_path = a_star(start_polygon, goal_polygon, fancy_heuristic)\n",
    "ani = animate_transformation(transformation_path)\n"
   ],
   "outputs": [
    {
     "ename": "TypeError",
     "evalue": "__hash__ method should return an integer",
     "output_type": "error",
     "traceback": [
      "\u001B[0;31m---------------------------------------------------------------------------\u001B[0m",
      "\u001B[0;31mTypeError\u001B[0m                                 Traceback (most recent call last)",
      "Cell \u001B[0;32mIn[31], line 20\u001B[0m\n\u001B[1;32m     17\u001B[0m         distance_matrix \u001B[38;5;241m=\u001B[39m np\u001B[38;5;241m.\u001B[39mdelete(distance_matrix, j, axis\u001B[38;5;241m=\u001B[39m\u001B[38;5;241m1\u001B[39m)\n\u001B[1;32m     18\u001B[0m     \u001B[38;5;28;01mreturn\u001B[39;00m \u001B[38;5;28msum\u001B[39m\n\u001B[0;32m---> 20\u001B[0m transformation_path \u001B[38;5;241m=\u001B[39m \u001B[43ma_star\u001B[49m\u001B[43m(\u001B[49m\u001B[43mstart_polygon\u001B[49m\u001B[43m,\u001B[49m\u001B[43m \u001B[49m\u001B[43mgoal_polygon\u001B[49m\u001B[43m,\u001B[49m\u001B[43m \u001B[49m\u001B[43mfancy_heuristic\u001B[49m\u001B[43m)\u001B[49m\n\u001B[1;32m     21\u001B[0m ani \u001B[38;5;241m=\u001B[39m animate_transformation(transformation_path)\n",
      "Cell \u001B[0;32mIn[26], line 11\u001B[0m, in \u001B[0;36ma_star\u001B[0;34m(start, goal, heuristic)\u001B[0m\n\u001B[1;32m      8\u001B[0m heapq\u001B[38;5;241m.\u001B[39mheapify(open_set)\n\u001B[1;32m     10\u001B[0m came_from: Dict[Polygon, Polygon] \u001B[38;5;241m=\u001B[39m {}  \u001B[38;5;66;03m# Keeps a log of the parent node used to generate the polygon for reconstructing path\u001B[39;00m\n\u001B[0;32m---> 11\u001B[0m g_score: Dict[Polygon, \u001B[38;5;28mfloat\u001B[39m] \u001B[38;5;241m=\u001B[39m {start: \u001B[38;5;241m0\u001B[39m}\n\u001B[1;32m     12\u001B[0m f_score: Dict[Polygon, \u001B[38;5;28mfloat\u001B[39m] \u001B[38;5;241m=\u001B[39m {start: heuristic(start, goal)}\n\u001B[1;32m     14\u001B[0m \u001B[38;5;66;03m# Create progress bar based on estimated max number of steps\u001B[39;00m\n",
      "\u001B[0;31mTypeError\u001B[0m: __hash__ method should return an integer"
     ]
    }
   ],
   "execution_count": 31
  },
  {
   "cell_type": "markdown",
   "metadata": {},
   "source": [
    "_Discuss your findings here..._"
   ]
  },
  {
   "cell_type": "markdown",
   "metadata": {
    "deletable": false,
    "editable": false
   },
   "source": [
    "<!-- END QUESTION -->\n",
    "\n"
   ]
  },
  {
   "cell_type": "markdown",
   "metadata": {
    "deletable": false,
    "editable": false
   },
   "source": [
    "---\n",
    "\n",
    "To double-check your work, the cell below will rerun all of the autograder tests."
   ]
  },
  {
   "cell_type": "code",
   "execution_count": null,
   "metadata": {
    "deletable": false,
    "editable": false
   },
   "outputs": [],
   "source": [
    "grader.check_all()"
   ]
  },
  {
   "cell_type": "markdown",
   "metadata": {
    "deletable": false,
    "editable": false
   },
   "source": [
    "## Submission\n",
    "\n",
    "Make sure you have run all cells in your notebook in order before running the cell below, so that all images/graphs appear in the output. The cell below will generate a zip file for you to submit. **Please save before exporting!**"
   ]
  },
  {
   "cell_type": "code",
   "execution_count": null,
   "metadata": {
    "deletable": false,
    "editable": false
   },
   "outputs": [],
   "source": [
    "# Save your notebook first, then run this cell to export your submission.\n",
    "grader.export(run_tests=True)"
   ]
  },
  {
   "cell_type": "markdown",
   "metadata": {},
   "source": [
    " "
   ]
  }
 ],
 "metadata": {
  "kernelspec": {
   "display_name": "inf2d",
   "language": "python",
   "name": "python3"
  },
  "language_info": {
   "codemirror_mode": {
    "name": "ipython",
    "version": 3
   },
   "file_extension": ".py",
   "mimetype": "text/x-python",
   "name": "python",
   "nbconvert_exporter": "python",
   "pygments_lexer": "ipython3",
   "version": "3.11.11"
  },
  "otter": {
   "OK_FORMAT": false,
   "assignment_name": "CW1",
   "export_pdf_failure_message": null,
   "require_no_pdf_confirmation": true,
   "tests": {
    "qA.1": "from otter.test_files import test_case\n\nOK_FORMAT = False\n\nname = \"qA.1\"\npoints = 10\n\n@test_case(points=2, hidden=False)\ndef test_card_equality(Card):\n    assert Card(['a']) == Card(['a'])\n    assert Card(['a', 'b']) != Card(['a'])\n    assert Card(['b', 'a']) == Card(['a', 'b'])\n\n@test_case(points=1, hidden=False)\ndef test_deck_equality(Deck):\n    assert Deck(['a', 'b', 'd']) == Deck(['a', 'b', 'd'])\n    assert Deck(['a', 'b', 'c', 'd']) != Deck(['a', 'b', 'd'])\n    assert Deck(['a', 'b', 'c', 'd']) == Deck(['d', 'c', 'b', 'a'])\n\n@test_case(points=1, hidden=False)\ndef test_deck_equality_hidden(Deck):\n    assert Deck(['a', 'b', 'd']) == Deck(['a', 'b', 'd'])\n    assert Deck(['a', 'b', 'c', 'd']) != Deck(['a', 'b', 'd'])\n    assert Deck(['a', 'b', 'c', 'd']) == Deck(['d', 'c', 'b', 'a'])\n    assert Deck(['a', 'a', 'b', 'd']) != Deck(['a', 'b', 'd'])\n    assert Deck(['a', 'a', 'b', 'd']) != Deck(['a', 'b', 'd'])\n\n@test_case(points=2, hidden=False)\ndef test_all_configurations(Deck, Card):\n    assert len(Deck.from_all_configurations(list(range(3)), 2).cards) == 3\n    assert len(Deck.from_all_configurations(list(range(22)), 5).cards) == 26334\n    deck = Deck.from_all_configurations(list(range(8)), 4)\n    assert len(deck.cards) == len(set(deck.cards))\n    assert all(map(lambda x: type(x) == Card, deck.cards))\n\n@test_case(points=2, hidden=False)\ndef test_is_valid(Deck, Card):\n    deck = Deck([Card(['a', 'b']), Card(['a', 'd'])])\n    assert deck.is_valid() == True\n    deck = Deck([Card(['a', 'b']), Card(['a', 'd']), Card(['d', 'b'])])\n    assert deck.is_valid() == True\n    deck = Deck([Card(['a', 'b']), Card(['a', 'd']), Card(['d', 'b']), Card(['a', 'd'])])\n    assert deck.is_valid() == False\n\n@test_case(points=2, hidden=False)\ndef test_is_valid_hidden(Deck, Card):\n    deck = Deck([Card(['a', 'b', 'c']), Card(['a', 'd', 'e']), Card(['a', 'f', 'g']), Card(['a', 'h', 'i'])])\n    assert deck.is_valid() == True\n    deck = Deck([Card(['a', 'b', 'c']), Card(['b', 'd', 'e']), Card(['c', 'd', 'g']), Card(['d', 'a', 'j'])])\n    assert deck.is_valid() == True\n    deck = Deck([Card(['a', 'b', 'c']), Card(['b', 'd', 'e']), Card(['c', 'd', 'g']), Card(['d', 'a', 'c'])])\n    assert deck.is_valid() == False\n\n",
    "qA.2": "from otter.test_files import test_case\n\nOK_FORMAT = False\n\nname = \"qA.2\"\npoints = 10\n\n@test_case(points=2, hidden=False)\ndef test_shared_symbol_hidden(SharedSymbolConstraint, Card):\n    assignment = {'a': Card(['cat', 'dog', 'chicken']), 'b': Card(['dog', 'donkey', 'chicken']), 'c': Card(['monkey', 'worm', 'chicken'])}\n    constraint = SharedSymbolConstraint(('a', 'b'))\n    assert constraint.satisfied(assignment) == False\n    constraint = SharedSymbolConstraint(('a', 'c'))\n    assert constraint.satisfied(assignment) == True\n    constraint = SharedSymbolConstraint(('b', 'c'))\n    assert constraint.satisfied(assignment) == True\n\n@test_case(points=2, hidden=False)\ndef test_shared_n_symbols(SharingNSymbolsConstraint, Card):\n    assignment = {'a': Card(['cat', 'dog', 'monkey', 'rat']), 'b': Card(['dog', 'donkey', 'cat', 'chicken']), 'c': Card(['monkey', 'chicken', 'fish', 'duck'])}\n    constraint = SharingNSymbolsConstraint(('a', 'b'), 2)\n    assert constraint.satisfied(assignment) == True\n    constraint = SharingNSymbolsConstraint(('a', 'c'), 1)\n    assert constraint.satisfied(assignment) == True\n    constraint = SharingNSymbolsConstraint(('b', 'c'), 3)\n    assert constraint.satisfied(assignment) == False\n\n",
    "qA.3": "from otter.test_files import test_case\n\nOK_FORMAT = False\n\nname = \"qA.3\"\npoints = 12\n\n@test_case(points=None, hidden=False)\ndef test_consistency1(CSP, SharedSymbolConstraint, Deck, Card):\n    variables = ['a', 'b', 'c', 'd']\n    symbols = list(range(20))\n    domains = {v: Deck.from_all_configurations(symbols, 4).cards for v in variables}\n    constraints = [SharedSymbolConstraint(('a', 'b')), SharedSymbolConstraint(('b', 'c')), SharedSymbolConstraint(('a', 'd'))]\n    csp = CSP(variables, domains, constraints)\n    assignment = {'a': Card([1, 2, 4, 5]), 'b': Card([2, 7, 8, 9])}\n    assert csp.consistent('a', assignment) == True\n\n@test_case(points=4, hidden=False)\ndef test_backtrack(CSP, SharedSymbolConstraint, Deck):\n    symbols = list(range(8))\n    variables = ['X', 'Y']\n    domains = {v: Deck.from_all_configurations(symbols, 4).cards for v in variables}\n    constraints = [SharedSymbolConstraint(('X', 'Y'))]\n    csp = CSP(variables, domains, constraints)\n    solution = csp.solve()\n    assert solution != None\n    assert Deck(list(solution.values())).is_valid()\n\n",
    "qA.4": "from otter.test_files import test_case\n\nOK_FORMAT = False\n\nname = \"qA.4\"\npoints = 5\n\n@test_case(points=1, hidden=False)\ndef test_inputs(variables, domains):\n    assert all((isinstance(x, str) for x in variables))\n    assert len(domains) == len(variables)\n    assert domains[variables[0]] is not domains[variables[1]]\n\n",
    "qB.1": "from otter.test_files import test_case\n\nOK_FORMAT = False\n\nname = \"qB.1\"\npoints = 8\n\n@test_case(points=1, hidden=False)\ndef test_hash_easy(Polygon):\n    shape_1 = Polygon([(0, 1), (1, 1), (1, -1)])\n    shape_2 = Polygon([(1, 1), (1, -1), (0, 1)])\n    assert hash(shape_1) == hash(shape_2)\n\n@test_case(points=1, hidden=False)\ndef test_eq_easy(Polygon):\n    shape_1 = Polygon([(0, 1), (1, 1), (1, -1)])\n    shape_2 = Polygon([(1, 1), (1, -1), (0, 1)])\n    assert shape_1 == shape_2\n\n@test_case(points=1, hidden=False)\ndef test_adjacent_points_easy(Polygon):\n    shape_1 = Polygon([(0, 1)])\n    neighbours = shape_1.generate_neighbours()\n    assert len(neighbours) == 4\n    assert shape_1 not in neighbours\n\n@test_case(points=1, hidden=False)\ndef test_adjacent_points_med(Polygon):\n    shape_1 = Polygon([(0, 1), (4, 1)])\n    neighbours = shape_1.generate_neighbours()\n    assert len(neighbours) == 7\n    assert shape_1 not in neighbours\n\n",
    "qB.2": "from otter.test_files import test_case\n\nOK_FORMAT = False\n\nname = \"qB.2\"\npoints = 4\n\n@test_case(points=None, hidden=False)\ndef test_difference(Polygon, difference):\n    a = Polygon([(0, 1), (1, 1)])\n    b = Polygon([(0, 0), (1, 0)])\n    assert difference(a, b) == 4\n\n@test_case(points=None, hidden=False)\ndef test_minimal(Polygon, minimal):\n    a = Polygon([(0, 1), (4, 0), (4, 1)])\n    b = Polygon([(0, 0), (1, 0), (4, 1)])\n    assert minimal(a, b) == 2.0\n\n@test_case(points=None, hidden=False)\ndef test_centroid(Polygon, centroid):\n    import numpy as np\n    a = Polygon([(0, 1), (4, 0), (4, 1)])\n    b = Polygon([(0, 0), (1, 0), (4, 1)])\n    assert np.isclose(centroid(a, b), 1.0541)\n\n",
    "qB.3": "from otter.test_files import test_case\n\nOK_FORMAT = False\n\nname = \"qB.3\"\npoints = 4\n\n",
    "qB.4": "from otter.test_files import test_case\n\nOK_FORMAT = False\n\nname = \"qB.4\"\npoints = 10\n\n@test_case(points=None, hidden=False)\ndef test_polygons_easy(a_star, Polygon):\n    from scipy.spatial.distance import cdist\n    simple_heuristic = lambda a, b: cdist(a.as_array(), b.as_array()).min(axis=0).sum()\n    start = Polygon([(0, 0), (0, 1)])\n    goal = Polygon([(1, 0), (1, 1)])\n    solution = a_star(start, goal, simple_heuristic)\n    assert len(solution) == 3\n\n",
    "qB.5": "from otter.test_files import test_case\n\nOK_FORMAT = False\n\nname = \"qB.5\"\npoints = 10\n\n@test_case(points=None, hidden=False)\ndef test_intersecting_lines(NonIntersectingPolygon, Point):\n    line_1 = (Point(0, 2), Point(2, 0))\n    line_2 = (Point(0, 1), Point(1, 4))\n    assert NonIntersectingPolygon.intersecting_lines(line_1, line_2) == True\n\n@test_case(points=None, hidden=False)\ndef test_intersecting_polygons(NonIntersectingPolygon, Point, Polygon):\n    try:\n        NonIntersectingPolygon([(-2, -2), (-2, 2), (2, 2), (1, -2)])\n    except ValueError:\n        assert False\n    else:\n        assert True\n\n"
   }
  }
 },
 "nbformat": 4,
 "nbformat_minor": 2
}
