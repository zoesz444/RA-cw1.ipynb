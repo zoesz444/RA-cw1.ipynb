{
 "cells": [
  {
   "cell_type": "code",
   "metadata": {
    "deletable": false,
    "editable": false
   },
   "source": [
    "# Initialize Otter\n",
    "import otter\n",
    "grader = otter.Notebook(\"cw1.ipynb\")"
   ],
   "outputs": [],
   "execution_count": 682
  },
  {
   "cell_type": "code",
   "metadata": {
    "ExecuteTime": {
     "end_time": "2025-03-02T13:24:11.166606Z",
     "start_time": "2025-03-02T13:24:11.162174Z"
    }
   },
   "source": [
    "import itertools\n",
    "from collections import defaultdict, Counter\n",
    "from typing import List, Tuple, Dict, Self, Any, Callable\n",
    "from abc import ABC\n",
    "import math\n",
    "\n",
    "# test"
   ],
   "outputs": [],
   "execution_count": 683
  },
  {
   "cell_type": "markdown",
   "metadata": {},
   "source": [
    "# Part A: CSP\n",
    "\n",
    "This part of the assignment will ask you to construct a set of cards for Dobble using CSP algorithms. Dobble is a card game with 55 cards, each printed with 8 symbols. In each round of Dobble, each player is handed a card face up with a pile of cards in the middle facing down. When the top card in the middle pile is flipped, players must race to call out the symbol on the middle card that matches a symbol in their hand. \n",
    "\n",
    "The game works because the cards have the special property that each pair of cards share exactly one symbol between them. Some fancy maths tells us that given $n$ symbols per card, a Dobble deck will require exactly $k = n^2 - n + 1$ cards and symbols.  "
   ]
  },
  {
   "cell_type": "markdown",
   "metadata": {
    "deletable": false,
    "editable": false
   },
   "source": [
    "<!-- BEGIN QUESTION -->\n",
    "\n",
    "### **Question 1.** \n",
    "Complete the following class methods for the ```Card``` and ```Deck``` classes. The methods you are expected to complete are ```Card.__eq__```, ```Deck.__eq__```, ```Deck.from_all_combinations```, ```Deck.is_valid```."
   ]
  },
  {
   "metadata": {
    "tags": []
   },
   "cell_type": "code",
   "source": [
    "def generate_symbols(num_symbols: int) -> List[str]:\n",
    "    return [f\"Symbol_{i}\" for i in range(n)]\n",
    "\n",
    "class Card:\n",
    "    def __init__(self, symbols: List[str]):\n",
    "        self.symbols = set(symbols)\n",
    "    \n",
    "    def __hash__(self):\n",
    "        \"\"\"\n",
    "        Hash function that is compatible with card equality.\n",
    "        \"\"\"\n",
    "        sorted_symbols = tuple(sorted(self.symbols))\n",
    "        return hash(sorted_symbols)\n",
    "    \n",
    "    def __eq__(self, other: Self) -> bool:\n",
    "        \"\"\"\n",
    "        Check if two cards are the same.\n",
    "        \"\"\"\n",
    "        # ...\n",
    "        return self.symbols == other.symbols "
   ],
   "outputs": [],
   "execution_count": 684
  },
  {
   "metadata": {
    "tags": []
   },
   "cell_type": "code",
   "source": [
    "class Deck:\n",
    "    def __init__(self, cards: List[Card] = []):\n",
    "        self.cards: List[Card] = cards \n",
    "    \n",
    "    def __eq__(self, other: Self) -> bool:\n",
    "        \"\"\"Equality test: two Decks are equal if one is a permutation of the other.\n",
    "        \n",
    "        Creates a dictionary of counts for each type of card (in the format Counter(cards) = {Card(['x', 'y', 'z']): \n",
    "        1, Card(['a', 'b', 'c']): ..})\n",
    "        \"\"\"\n",
    "        # ...\n",
    "        return Counter(self.cards) == Counter(other.cards)\n",
    "\n",
    "    def from_all_configurations(symbols, symbols_per_card) -> Self:\n",
    "        \"\"\"\n",
    "        Return a deck containing all possible dobble cards from a set of symbols. This is not a valid dobble set.\n",
    "        \n",
    "        Creates an empty array of cards. For each combination of symbols with length symbols_per_card, adds the \n",
    "        combination to the list. Returns a deck with the list of cards.  \n",
    "        \"\"\"\n",
    "        # ...\n",
    "        cards = []\n",
    "        \n",
    "        for combination in itertools.combinations(symbols, symbols_per_card):\n",
    "            card = Card(combination)\n",
    "            cards.append(card)\n",
    "        return Deck(cards)\n",
    "    \n",
    "    def is_valid(self) -> bool:\n",
    "        \"\"\"\n",
    "        Check if the deck is a valid dobble deck.\n",
    "        \n",
    "        For each card in the deck, enumerate to assign an integer value index to it (to prevent from returning False\n",
    "         when a card is checked against itself. \n",
    "         \n",
    "         The rules for a valid set of dobble cards are:\n",
    "            1. Each card has the same number of symbols.\n",
    "            2. Each pair of cards has exactly one symbol in common.\n",
    "            3. There are no duplicate cards.\n",
    "            \n",
    "        Here we check rule 2 and 3. Rule 1 cannot be broken as in the previous question we generated all the \n",
    "        combinations from the set number given. \n",
    "        \"\"\"\n",
    "        # ...\n",
    "        for i, card in enumerate(self.cards):\n",
    "            for j, other_card in enumerate(self.cards):\n",
    "                if i == j:\n",
    "                    continue\n",
    "                if card == other_card or len(card.symbols.intersection(other_card.symbols)) != 1:\n",
    "                    return False\n",
    "        return True\n",
    "    \n",
    "\n",
    "    def __iter__(self):\n",
    "        \"\"\"Allow iteration through a deck\"\"\"\n",
    "        return iter(self.cards)"
   ],
   "outputs": [],
   "execution_count": 685
  },
  {
   "cell_type": "code",
   "metadata": {
    "deletable": false,
    "editable": false,
    "ExecuteTime": {
     "end_time": "2025-03-02T13:24:11.454308Z",
     "start_time": "2025-03-02T13:24:11.331471Z"
    }
   },
   "source": [
    "grader.check(\"qA.1\")"
   ],
   "outputs": [
    {
     "data": {
      "text/plain": [
       "qA.1 results: All test cases passed!"
      ],
      "text/html": [
       "<p><strong><pre style='display: inline;'>qA.1</pre></strong> passed! 🌈</p>"
      ]
     },
     "execution_count": 686,
     "metadata": {},
     "output_type": "execute_result"
    }
   ],
   "execution_count": 686
  },
  {
   "cell_type": "markdown",
   "metadata": {
    "deletable": false,
    "editable": false
   },
   "source": [
    "<!-- END QUESTION -->\n",
    "\n",
    "<!-- BEGIN QUESTION -->\n",
    "\n",
    "### **Question 2.** \n",
    "Complete the ```satisfied``` method for ```SharedSymbolConstraint``` and ```SharingNSymbolsConstraint```."
   ]
  },
  {
   "cell_type": "code",
   "metadata": {
    "tags": [],
    "ExecuteTime": {
     "end_time": "2025-03-02T13:24:11.469575Z",
     "start_time": "2025-03-02T13:24:11.462891Z"
    }
   },
   "source": [
    "class Constraint(ABC):\n",
    "    # This is an abstract class, nothing to implement here.\n",
    "    def __init__(self, cards: Tuple[str, str]):\n",
    "        self.cards = cards\n",
    "\n",
    "    def satisfied(self, assignment: Dict[str, Card]) -> bool:\n",
    "        raise NotImplementedError\n",
    "    \n",
    "class SharedSymbolConstraint(Constraint):\n",
    "    \"\"\"\n",
    "    This constraint checks to see if two cards share exactly one symbol.\n",
    "    \"\"\"\n",
    "    def __init__(self, cards):\n",
    "        super(SharedSymbolConstraint, self).__init__(cards)\n",
    "    \n",
    "    def satisfied(self, assignment: Dict[str, Card]) -> bool:\n",
    "        \"\"\"\n",
    "        Check if the constraint is satisfied based on the current variable assignment.\n",
    "    \n",
    "        Verifies if the two cards assigned to the constraint share exactly one symbol. \n",
    "        Checks the following conditions:\n",
    "            1. If either cardID is not present in the assignment, the constraint is considered satisfied (returning True).\n",
    "            2. If both cards are present in the assignment, it ensures:\n",
    "            - The two cards are not identical.\n",
    "            - The two cards share exactly one symbol in common.\n",
    "            \n",
    "        If both cards share one symbol in common and are distinct, the constraint is satisfied and the function returns True. \n",
    "        Otherwise, it returns False.\n",
    "        \n",
    "        \n",
    "        \n",
    "        \"\"\"\n",
    "        #...\n",
    "        id1, id2 = self.cards # a tuple of 2 str containing the variable ID for the cards\n",
    "        \n",
    "        if id1 not in assignment or id2 not in assignment: # check if the cards are already in the assignment\n",
    "            return True # if they are, there are no constraints to check\n",
    "        \n",
    "        card1, card2 = assignment[id1], assignment[id2] # if they have been assigned to cards, get the cards\n",
    "        \n",
    "        if card1 == card2 or len(card1.symbols.intersection(card2.symbols)) != 1: \n",
    "            return False\n",
    "        else:\n",
    "            return True\n",
    "\n",
    "class SharingNSymbolsConstraint(Constraint):\n",
    "    \"\"\"\n",
    "    This constraint checks to see if two cards share exactly N symbols.\n",
    "    \"\"\"\n",
    "    def __init__(self, cards, N:int):\n",
    "        super(SharingNSymbolsConstraint, self).__init__(cards)\n",
    "        self.N = N\n",
    "\n",
    "    def satisfied(self, assignment: Dict[str, Card]) -> bool:\n",
    "        \"\"\"\n",
    "        The same as the previous class, but instead of only for 1 shared symbol, checks for N shared symbols.\n",
    "        \"\"\"\n",
    "        #...\n",
    "        id1, id2 = self.cards\n",
    "        \n",
    "        card1, card2 = assignment[id1], assignment[id2]\n",
    "        \n",
    "        if card1 == card2:\n",
    "            return False\n",
    "        elif len(card1.symbols.intersection(card2.symbols)) != self.N:\n",
    "            return False\n",
    "        else:\n",
    "            return True"
   ],
   "outputs": [],
   "execution_count": 687
  },
  {
   "cell_type": "code",
   "metadata": {
    "deletable": false,
    "editable": false,
    "ExecuteTime": {
     "end_time": "2025-03-02T13:24:11.486497Z",
     "start_time": "2025-03-02T13:24:11.480883Z"
    }
   },
   "source": [
    "grader.check(\"qA.2\")"
   ],
   "outputs": [
    {
     "data": {
      "text/plain": [
       "qA.2 results: All test cases passed!"
      ],
      "text/html": [
       "<p><strong><pre style='display: inline;'>qA.2</pre></strong> passed! 🙌</p>"
      ]
     },
     "execution_count": 688,
     "metadata": {},
     "output_type": "execute_result"
    }
   ],
   "execution_count": 688
  },
  {
   "cell_type": "markdown",
   "metadata": {
    "deletable": false,
    "editable": false,
    "vscode": {
     "languageId": "raw"
    }
   },
   "source": [
    "<!-- END QUESTION -->\n",
    "\n",
    "<!-- BEGIN QUESTION -->\n",
    "\n",
    "### **Question 3.** \n",
    "The CSP class is defined by a list of variable names, a dictionary of domains for each variable, and a list of constraints. Complete the ```consistent``` and ```backtrack``` methods for ```CSP```."
   ]
  },
  {
   "cell_type": "code",
   "metadata": {
    "tags": []
   },
   "source": [
    "class CSP:\n",
    "    \"\"\"\n",
    "    A class representing a Constraint Satisfaction Problem.\n",
    "    \"\"\"\n",
    "    def __init__(self, variables: List[str], domains: Dict[str, List[Card]], constraints: List[Constraint]):\n",
    "        self.variables: List[str] = variables\n",
    "        self.domains: Dict[str, Any] = domains\n",
    "\n",
    "        # Store constraints in a dict for easier lookup during search\n",
    "        self.constraints = defaultdict(list)\n",
    "        for constraint in constraints:\n",
    "            variable1, variable2 = constraint.cards\n",
    "            self.constraints[variable1].append(constraint)\n",
    "            self.constraints[variable2].append(constraint) \n",
    "            \n",
    "    def consistent(self, variable: str, assignment: Dict[str, Card]) -> bool:\n",
    "        \"\"\"Return true if the assignment of variable is consistent with the constraints\"\"\"\n",
    "        # ...\n",
    "        \n",
    "        for constraint in self.constraints[variable]:\n",
    "            if not constraint.satisfied(assignment):\n",
    "                return False\n",
    "        return True\n",
    "\n",
    "    def backtrack(self, assignment: Dict[str, Card]) -> Dict[str, Card]:\n",
    "        \"\"\"Recursive function that performs assigns a value to the next unassigned card \"\"\"\n",
    "        if len(assignment) == len(self.variables): # Return if all variables have been assigned\n",
    "            return assignment\n",
    "\n",
    "        # Set 'first' to be the first unassigned variable\n",
    "        first = [var for var in self.variables if var not in assignment][0]\n",
    "        \n",
    "        for value in self.domains[first]:\n",
    "            local_assignment = assignment.copy()\n",
    "            local_assignment[first] = value\n",
    "            if self.consistent(first, local_assignment):\n",
    "                result = self.backtrack(local_assignment)\n",
    "                if result is not None:\n",
    "                    return result\n",
    "\n",
    "    def solve(self):\n",
    "        return self.backtrack({})"
   ],
   "outputs": [],
   "execution_count": 689
  },
  {
   "cell_type": "code",
   "metadata": {
    "deletable": false,
    "editable": false,
    "ExecuteTime": {
     "end_time": "2025-03-02T13:24:11.524982Z",
     "start_time": "2025-03-02T13:24:11.511324Z"
    }
   },
   "source": [
    "grader.check(\"qA.3\")"
   ],
   "outputs": [
    {
     "data": {
      "text/plain": [
       "qA.3 results: All test cases passed!"
      ],
      "text/html": [
       "<p><strong><pre style='display: inline;'>qA.3</pre></strong> passed! 🌈</p>"
      ]
     },
     "execution_count": 690,
     "metadata": {},
     "output_type": "execute_result"
    }
   ],
   "execution_count": 690
  },
  {
   "cell_type": "markdown",
   "metadata": {
    "deletable": false,
    "editable": false
   },
   "source": [
    "<!-- END QUESTION -->\n",
    "\n",
    "<!-- BEGIN QUESTION -->\n",
    "\n",
    "### **Question 4.** \n",
    "Define the set of constraints and run the CSP search to produce a result."
   ]
  },
  {
   "cell_type": "code",
   "metadata": {
    "deletable": false,
    "editable": false,
    "ExecuteTime": {
     "end_time": "2025-03-02T13:24:11.553077Z",
     "start_time": "2025-03-02T13:24:11.548523Z"
    }
   },
   "source": [
    "def generate_symbols(num_symbols: int) -> List[str]:\n",
    "    return [f\"Symbol_{i}\" for i in range(num_symbols)]\n",
    "\n",
    "s = 4  # Symbols per card\n",
    "k = int(s*(s+1)/2)  # The total number of unique symbols\n",
    "n = s+1 # number of cards\n"
   ],
   "outputs": [],
   "execution_count": 691
  },
  {
   "cell_type": "code",
   "metadata": {
    "tags": [],
    "ExecuteTime": {
     "end_time": "2025-03-02T13:24:11.599099Z",
     "start_time": "2025-03-02T13:24:11.592261Z"
    }
   },
   "source": [
    "# Define the variables and domains.\n",
    "variables = ['card1', 'card2', 'card3', 'card4', 'card5']\n",
    "domains = {var: [Card(symbols) for symbols in itertools.combinations(generate_symbols(k), s)] for var in variables}\n",
    "...\n"
   ],
   "outputs": [
    {
     "data": {
      "text/plain": [
       "Ellipsis"
      ]
     },
     "execution_count": 692,
     "metadata": {},
     "output_type": "execute_result"
    }
   ],
   "execution_count": 692
  },
  {
   "cell_type": "code",
   "metadata": {
    "tags": []
   },
   "source": [
    "# Define the list of constraints between all the cards.\n",
    "\n",
    "constraints = [SharedSymbolConstraint(('card1', 'card2')), SharedSymbolConstraint(('card1', 'card3')), \n",
    "               SharedSymbolConstraint(('card1', 'card4')), SharedSymbolConstraint(('card1', 'card5')), \n",
    "               SharedSymbolConstraint(('card2', 'card3')), SharedSymbolConstraint(('card2', 'card4')), \n",
    "               SharedSymbolConstraint(('card2', 'card5')), SharedSymbolConstraint(('card3', 'card4')), \n",
    "               SharedSymbolConstraint(('card3', 'card5')), SharedSymbolConstraint(('card4', 'card5'))] \n",
    "...\n",
    "\n",
    "# fix this!!!!!!!!!!!!!!!!!!!!!!!!!!!!!!!"
   ],
   "outputs": [
    {
     "data": {
      "text/plain": [
       "Ellipsis"
      ]
     },
     "execution_count": 693,
     "metadata": {},
     "output_type": "execute_result"
    }
   ],
   "execution_count": 693
  },
  {
   "cell_type": "code",
   "metadata": {
    "deletable": false,
    "editable": false,
    "ExecuteTime": {
     "end_time": "2025-03-02T13:24:11.676798Z",
     "start_time": "2025-03-02T13:24:11.672278Z"
    }
   },
   "source": [
    "csp = CSP(variables, domains, constraints)\n",
    "solution = csp.solve()\n"
   ],
   "outputs": [],
   "execution_count": 694
  },
  {
   "cell_type": "code",
   "metadata": {
    "deletable": false,
    "editable": false,
    "ExecuteTime": {
     "end_time": "2025-03-02T13:24:11.774050Z",
     "start_time": "2025-03-02T13:24:11.761910Z"
    }
   },
   "source": [
    "csp.domains"
   ],
   "outputs": [
    {
     "data": {
      "text/plain": [
       "{'card1': [<__main__.Card at 0x420cf2650>,\n",
       "  <__main__.Card at 0x420cf1750>,\n",
       "  <__main__.Card at 0x420cf0c50>,\n",
       "  <__main__.Card at 0x420cf1f50>,\n",
       "  <__main__.Card at 0x420cf0950>,\n",
       "  <__main__.Card at 0x420cf1190>,\n",
       "  <__main__.Card at 0x420cf2150>,\n",
       "  <__main__.Card at 0x420cf3150>,\n",
       "  <__main__.Card at 0x420cf0310>,\n",
       "  <__main__.Card at 0x420cf08d0>,\n",
       "  <__main__.Card at 0x420cf17d0>,\n",
       "  <__main__.Card at 0x420cf11d0>,\n",
       "  <__main__.Card at 0x420cf1610>,\n",
       "  <__main__.Card at 0x420cf03d0>,\n",
       "  <__main__.Card at 0x420cf1590>,\n",
       "  <__main__.Card at 0x420cf2750>,\n",
       "  <__main__.Card at 0x420cf2410>,\n",
       "  <__main__.Card at 0x420cf3a10>,\n",
       "  <__main__.Card at 0x420cf3f90>,\n",
       "  <__main__.Card at 0x420cf0410>,\n",
       "  <__main__.Card at 0x420cf2690>,\n",
       "  <__main__.Card at 0x420cf1050>,\n",
       "  <__main__.Card at 0x420cf0f10>,\n",
       "  <__main__.Card at 0x420cf2290>,\n",
       "  <__main__.Card at 0x420cf27d0>,\n",
       "  <__main__.Card at 0x420cf0510>,\n",
       "  <__main__.Card at 0x420cf3790>,\n",
       "  <__main__.Card at 0x420cf0c10>,\n",
       "  <__main__.Card at 0x420cf20d0>,\n",
       "  <__main__.Card at 0x420cf23d0>,\n",
       "  <__main__.Card at 0x420cf28d0>,\n",
       "  <__main__.Card at 0x420cf0850>,\n",
       "  <__main__.Card at 0x420cf2d50>,\n",
       "  <__main__.Card at 0x420cf1f10>,\n",
       "  <__main__.Card at 0x420cf1150>,\n",
       "  <__main__.Card at 0x420cf2790>,\n",
       "  <__main__.Card at 0x420cf22d0>,\n",
       "  <__main__.Card at 0x420cf3810>,\n",
       "  <__main__.Card at 0x420cf3210>,\n",
       "  <__main__.Card at 0x420cf1c50>,\n",
       "  <__main__.Card at 0x420cf2c50>,\n",
       "  <__main__.Card at 0x420cf3390>,\n",
       "  <__main__.Card at 0x420cf2950>,\n",
       "  <__main__.Card at 0x420cf3290>,\n",
       "  <__main__.Card at 0x420cf1810>,\n",
       "  <__main__.Card at 0x420cf0b90>,\n",
       "  <__main__.Card at 0x420cf3610>,\n",
       "  <__main__.Card at 0x420cf12d0>,\n",
       "  <__main__.Card at 0x420cf2010>,\n",
       "  <__main__.Card at 0x420cf3a90>,\n",
       "  <__main__.Card at 0x420cf3e10>,\n",
       "  <__main__.Card at 0x420cf2ed0>,\n",
       "  <__main__.Card at 0x420cf3b90>,\n",
       "  <__main__.Card at 0x420cf2810>,\n",
       "  <__main__.Card at 0x420cf0790>,\n",
       "  <__main__.Card at 0x420cf1dd0>,\n",
       "  <__main__.Card at 0x420cf0250>,\n",
       "  <__main__.Card at 0x420cf2510>,\n",
       "  <__main__.Card at 0x420cf3c50>,\n",
       "  <__main__.Card at 0x420cf3490>,\n",
       "  <__main__.Card at 0x420cf2190>,\n",
       "  <__main__.Card at 0x420cf0150>,\n",
       "  <__main__.Card at 0x420cf2050>,\n",
       "  <__main__.Card at 0x420cf3ed0>,\n",
       "  <__main__.Card at 0x420cf3950>,\n",
       "  <__main__.Card at 0x420cf3b50>,\n",
       "  <__main__.Card at 0x420cf1e50>,\n",
       "  <__main__.Card at 0x420cf2dd0>,\n",
       "  <__main__.Card at 0x420cf0c90>,\n",
       "  <__main__.Card at 0x420cf0bd0>,\n",
       "  <__main__.Card at 0x420cf3c10>,\n",
       "  <__main__.Card at 0x420cf1b50>,\n",
       "  <__main__.Card at 0x420cf18d0>,\n",
       "  <__main__.Card at 0x420cf3e50>,\n",
       "  <__main__.Card at 0x420cf0550>,\n",
       "  <__main__.Card at 0x420cf1290>,\n",
       "  <__main__.Card at 0x420cf1490>,\n",
       "  <__main__.Card at 0x420cf1250>,\n",
       "  <__main__.Card at 0x420cf0050>,\n",
       "  <__main__.Card at 0x420cf2610>,\n",
       "  <__main__.Card at 0x420cf1a10>,\n",
       "  <__main__.Card at 0x420cf0610>,\n",
       "  <__main__.Card at 0x420cf1650>,\n",
       "  <__main__.Card at 0x420cf3850>,\n",
       "  <__main__.Card at 0x420cf2c90>,\n",
       "  <__main__.Card at 0x420cf3350>,\n",
       "  <__main__.Card at 0x122727d50>,\n",
       "  <__main__.Card at 0x122727250>,\n",
       "  <__main__.Card at 0x122726910>,\n",
       "  <__main__.Card at 0x122724b90>,\n",
       "  <__main__.Card at 0x122725890>,\n",
       "  <__main__.Card at 0x122725d10>,\n",
       "  <__main__.Card at 0x1227255d0>,\n",
       "  <__main__.Card at 0x145076190>,\n",
       "  <__main__.Card at 0x145074850>,\n",
       "  <__main__.Card at 0x145076110>,\n",
       "  <__main__.Card at 0x145077610>,\n",
       "  <__main__.Card at 0x145074150>,\n",
       "  <__main__.Card at 0x1450759d0>,\n",
       "  <__main__.Card at 0x145074210>,\n",
       "  <__main__.Card at 0x145076b90>,\n",
       "  <__main__.Card at 0x145075190>,\n",
       "  <__main__.Card at 0x145075f50>,\n",
       "  <__main__.Card at 0x1450741d0>,\n",
       "  <__main__.Card at 0x145075290>,\n",
       "  <__main__.Card at 0x143cfe550>,\n",
       "  <__main__.Card at 0x143cfdc50>,\n",
       "  <__main__.Card at 0x143cfc690>,\n",
       "  <__main__.Card at 0x143cfdb90>,\n",
       "  <__main__.Card at 0x143cffc10>,\n",
       "  <__main__.Card at 0x143cfe710>,\n",
       "  <__main__.Card at 0x123c14810>,\n",
       "  <__main__.Card at 0x123c17110>,\n",
       "  <__main__.Card at 0x1225dccd0>,\n",
       "  <__main__.Card at 0x1225dcad0>,\n",
       "  <__main__.Card at 0x1438eb550>,\n",
       "  <__main__.Card at 0x1438eb450>,\n",
       "  <__main__.Card at 0x122724190>,\n",
       "  <__main__.Card at 0x122724f10>,\n",
       "  <__main__.Card at 0x122725fd0>,\n",
       "  <__main__.Card at 0x122725850>,\n",
       "  <__main__.Card at 0x122725bd0>,\n",
       "  <__main__.Card at 0x122725610>,\n",
       "  <__main__.Card at 0x122726290>,\n",
       "  <__main__.Card at 0x122727490>,\n",
       "  <__main__.Card at 0x122727f90>,\n",
       "  <__main__.Card at 0x122724a90>,\n",
       "  <__main__.Card at 0x122725b10>,\n",
       "  <__main__.Card at 0x122727410>,\n",
       "  <__main__.Card at 0x122724150>,\n",
       "  <__main__.Card at 0x122726b10>,\n",
       "  <__main__.Card at 0x122726d90>,\n",
       "  <__main__.Card at 0x122725150>,\n",
       "  <__main__.Card at 0x122726810>,\n",
       "  <__main__.Card at 0x122726490>,\n",
       "  <__main__.Card at 0x122725310>,\n",
       "  <__main__.Card at 0x122724990>,\n",
       "  <__main__.Card at 0x1227264d0>,\n",
       "  <__main__.Card at 0x122727690>,\n",
       "  <__main__.Card at 0x122726f50>,\n",
       "  <__main__.Card at 0x122725a10>,\n",
       "  <__main__.Card at 0x122725c50>,\n",
       "  <__main__.Card at 0x122724cd0>,\n",
       "  <__main__.Card at 0x122726410>,\n",
       "  <__main__.Card at 0x122726150>,\n",
       "  <__main__.Card at 0x1227268d0>,\n",
       "  <__main__.Card at 0x122725990>,\n",
       "  <__main__.Card at 0x1227254d0>,\n",
       "  <__main__.Card at 0x122727c90>,\n",
       "  <__main__.Card at 0x122726e90>,\n",
       "  <__main__.Card at 0x122725950>,\n",
       "  <__main__.Card at 0x122724c50>,\n",
       "  <__main__.Card at 0x122724ad0>,\n",
       "  <__main__.Card at 0x122726a90>,\n",
       "  <__main__.Card at 0x122726110>,\n",
       "  <__main__.Card at 0x122726bd0>,\n",
       "  <__main__.Card at 0x122726c90>,\n",
       "  <__main__.Card at 0x122724d90>,\n",
       "  <__main__.Card at 0x122726e50>,\n",
       "  <__main__.Card at 0x122724250>,\n",
       "  <__main__.Card at 0x122727750>,\n",
       "  <__main__.Card at 0x122725090>,\n",
       "  <__main__.Card at 0x122724110>,\n",
       "  <__main__.Card at 0x122726050>,\n",
       "  <__main__.Card at 0x1227276d0>,\n",
       "  <__main__.Card at 0x122727610>,\n",
       "  <__main__.Card at 0x122727b50>,\n",
       "  <__main__.Card at 0x1227266d0>,\n",
       "  <__main__.Card at 0x122725410>,\n",
       "  <__main__.Card at 0x122727150>,\n",
       "  <__main__.Card at 0x1227275d0>,\n",
       "  <__main__.Card at 0x122726690>,\n",
       "  <__main__.Card at 0x122724810>,\n",
       "  <__main__.Card at 0x122724bd0>,\n",
       "  <__main__.Card at 0x122725e10>,\n",
       "  <__main__.Card at 0x1227267d0>,\n",
       "  <__main__.Card at 0x122725f50>,\n",
       "  <__main__.Card at 0x122727850>,\n",
       "  <__main__.Card at 0x122725250>,\n",
       "  <__main__.Card at 0x122726b90>,\n",
       "  <__main__.Card at 0x122724490>,\n",
       "  <__main__.Card at 0x122727c10>,\n",
       "  <__main__.Card at 0x122726cd0>,\n",
       "  <__main__.Card at 0x122725cd0>,\n",
       "  <__main__.Card at 0x122727f50>,\n",
       "  <__main__.Card at 0x122724290>,\n",
       "  <__main__.Card at 0x122724710>,\n",
       "  <__main__.Card at 0x122725510>,\n",
       "  <__main__.Card at 0x122724550>,\n",
       "  <__main__.Card at 0x122724c90>,\n",
       "  <__main__.Card at 0x122727a90>,\n",
       "  <__main__.Card at 0x1227253d0>,\n",
       "  <__main__.Card at 0x122724090>,\n",
       "  <__main__.Card at 0x122724fd0>,\n",
       "  <__main__.Card at 0x122724690>,\n",
       "  <__main__.Card at 0x122726310>,\n",
       "  <__main__.Card at 0x122727790>,\n",
       "  <__main__.Card at 0x122727cd0>,\n",
       "  <__main__.Card at 0x122724390>,\n",
       "  <__main__.Card at 0x122727710>,\n",
       "  <__main__.Card at 0x122725390>,\n",
       "  <__main__.Card at 0x122724610>,\n",
       "  <__main__.Card at 0x122724510>,\n",
       "  <__main__.Card at 0x122726090>,\n",
       "  <__main__.Card at 0x122724950>,\n",
       "  <__main__.Card at 0x122726790>,\n",
       "  <__main__.Card at 0x1227260d0>,\n",
       "  <__main__.Card at 0x122727210>,\n",
       "  <__main__.Card at 0x122726250>,\n",
       "  <__main__.Card at 0x122724ed0>],\n",
       " 'card2': [<__main__.Card at 0x122726e10>,\n",
       "  <__main__.Card at 0x122726a50>,\n",
       "  <__main__.Card at 0x1227269d0>,\n",
       "  <__main__.Card at 0x122725790>,\n",
       "  <__main__.Card at 0x122725450>,\n",
       "  <__main__.Card at 0x122724410>,\n",
       "  <__main__.Card at 0x1227248d0>,\n",
       "  <__main__.Card at 0x122724f50>,\n",
       "  <__main__.Card at 0x122724650>,\n",
       "  <__main__.Card at 0x122724890>,\n",
       "  <__main__.Card at 0x122725190>,\n",
       "  <__main__.Card at 0x122725050>,\n",
       "  <__main__.Card at 0x122726450>,\n",
       "  <__main__.Card at 0x1227278d0>,\n",
       "  <__main__.Card at 0x1227247d0>,\n",
       "  <__main__.Card at 0x122727dd0>,\n",
       "  <__main__.Card at 0x122724050>,\n",
       "  <__main__.Card at 0x122726dd0>,\n",
       "  <__main__.Card at 0x1227249d0>,\n",
       "  <__main__.Card at 0x122725b50>,\n",
       "  <__main__.Card at 0x122726710>,\n",
       "  <__main__.Card at 0x122727b90>,\n",
       "  <__main__.Card at 0x122724a10>,\n",
       "  <__main__.Card at 0x122725550>,\n",
       "  <__main__.Card at 0x122724210>,\n",
       "  <__main__.Card at 0x122724e50>,\n",
       "  <__main__.Card at 0x122726010>,\n",
       "  <__main__.Card at 0x122725490>,\n",
       "  <__main__.Card at 0x1227256d0>,\n",
       "  <__main__.Card at 0x122725110>,\n",
       "  <__main__.Card at 0x122725e50>,\n",
       "  <__main__.Card at 0x1227252d0>,\n",
       "  <__main__.Card at 0x122727b10>,\n",
       "  <__main__.Card at 0x122727510>,\n",
       "  <__main__.Card at 0x122727890>,\n",
       "  <__main__.Card at 0x122725690>,\n",
       "  <__main__.Card at 0x122727110>,\n",
       "  <__main__.Card at 0x122726ad0>,\n",
       "  <__main__.Card at 0x122726d50>,\n",
       "  <__main__.Card at 0x122725290>,\n",
       "  <__main__.Card at 0x122727290>,\n",
       "  <__main__.Card at 0x122724b10>,\n",
       "  <__main__.Card at 0x122727010>,\n",
       "  <__main__.Card at 0x1227243d0>,\n",
       "  <__main__.Card at 0x122724750>,\n",
       "  <__main__.Card at 0x122727c50>,\n",
       "  <__main__.Card at 0x122724910>,\n",
       "  <__main__.Card at 0x1227250d0>,\n",
       "  <__main__.Card at 0x122725d90>,\n",
       "  <__main__.Card at 0x122726650>,\n",
       "  <__main__.Card at 0x122727990>,\n",
       "  <__main__.Card at 0x1227274d0>,\n",
       "  <__main__.Card at 0x1227251d0>,\n",
       "  <__main__.Card at 0x122726f10>,\n",
       "  <__main__.Card at 0x122725710>,\n",
       "  <__main__.Card at 0x122727310>,\n",
       "  <__main__.Card at 0x122727d90>,\n",
       "  <__main__.Card at 0x122727050>,\n",
       "  <__main__.Card at 0x122727390>,\n",
       "  <__main__.Card at 0x122724f90>,\n",
       "  <__main__.Card at 0x1227245d0>,\n",
       "  <__main__.Card at 0x122724790>,\n",
       "  <__main__.Card at 0x1227265d0>,\n",
       "  <__main__.Card at 0x122724590>,\n",
       "  <__main__.Card at 0x122726610>,\n",
       "  <__main__.Card at 0x122726c50>,\n",
       "  <__main__.Card at 0x122727590>,\n",
       "  <__main__.Card at 0x122726fd0>,\n",
       "  <__main__.Card at 0x122725590>,\n",
       "  <__main__.Card at 0x122727190>,\n",
       "  <__main__.Card at 0x122726d10>,\n",
       "  <__main__.Card at 0x122726350>,\n",
       "  <__main__.Card at 0x1227241d0>,\n",
       "  <__main__.Card at 0x122725b90>,\n",
       "  <__main__.Card at 0x122725910>,\n",
       "  <__main__.Card at 0x122727e90>,\n",
       "  <__main__.Card at 0x122727910>,\n",
       "  <__main__.Card at 0x122724e90>,\n",
       "  <__main__.Card at 0x122727a10>,\n",
       "  <__main__.Card at 0x122725010>,\n",
       "  <__main__.Card at 0x1227263d0>,\n",
       "  <__main__.Card at 0x122727950>,\n",
       "  <__main__.Card at 0x122725210>,\n",
       "  <__main__.Card at 0x122726850>,\n",
       "  <__main__.Card at 0x122724b50>,\n",
       "  <__main__.Card at 0x1227240d0>,\n",
       "  <__main__.Card at 0x124dedd90>,\n",
       "  <__main__.Card at 0x124dec0d0>,\n",
       "  <__main__.Card at 0x124deff50>,\n",
       "  <__main__.Card at 0x124dee010>,\n",
       "  <__main__.Card at 0x124def310>,\n",
       "  <__main__.Card at 0x124ded710>,\n",
       "  <__main__.Card at 0x124dec150>,\n",
       "  <__main__.Card at 0x124ded2d0>,\n",
       "  <__main__.Card at 0x124dec950>,\n",
       "  <__main__.Card at 0x124dede50>,\n",
       "  <__main__.Card at 0x124def5d0>,\n",
       "  <__main__.Card at 0x124dec490>,\n",
       "  <__main__.Card at 0x124ded690>,\n",
       "  <__main__.Card at 0x124defb90>,\n",
       "  <__main__.Card at 0x124dee110>,\n",
       "  <__main__.Card at 0x124dedcd0>,\n",
       "  <__main__.Card at 0x124dee210>,\n",
       "  <__main__.Card at 0x124dec710>,\n",
       "  <__main__.Card at 0x124def7d0>,\n",
       "  <__main__.Card at 0x124def050>,\n",
       "  <__main__.Card at 0x124dee7d0>,\n",
       "  <__main__.Card at 0x124dede90>,\n",
       "  <__main__.Card at 0x124dedc50>,\n",
       "  <__main__.Card at 0x124ded950>,\n",
       "  <__main__.Card at 0x124dec610>,\n",
       "  <__main__.Card at 0x124dec250>,\n",
       "  <__main__.Card at 0x124dee650>,\n",
       "  <__main__.Card at 0x124dec8d0>,\n",
       "  <__main__.Card at 0x124ded210>,\n",
       "  <__main__.Card at 0x124dedbd0>,\n",
       "  <__main__.Card at 0x124dec4d0>,\n",
       "  <__main__.Card at 0x124dec850>,\n",
       "  <__main__.Card at 0x124deccd0>,\n",
       "  <__main__.Card at 0x124dec5d0>,\n",
       "  <__main__.Card at 0x124dee5d0>,\n",
       "  <__main__.Card at 0x124ded590>,\n",
       "  <__main__.Card at 0x124defe90>,\n",
       "  <__main__.Card at 0x124dee490>,\n",
       "  <__main__.Card at 0x124deecd0>,\n",
       "  <__main__.Card at 0x124dec050>,\n",
       "  <__main__.Card at 0x124ded3d0>,\n",
       "  <__main__.Card at 0x124defdd0>,\n",
       "  <__main__.Card at 0x124ded0d0>,\n",
       "  <__main__.Card at 0x124dec310>,\n",
       "  <__main__.Card at 0x124dec750>,\n",
       "  <__main__.Card at 0x124ded610>,\n",
       "  <__main__.Card at 0x124ded410>,\n",
       "  <__main__.Card at 0x124ded050>,\n",
       "  <__main__.Card at 0x124ded990>,\n",
       "  <__main__.Card at 0x124deda50>,\n",
       "  <__main__.Card at 0x124defd50>,\n",
       "  <__main__.Card at 0x124deead0>,\n",
       "  <__main__.Card at 0x124def4d0>,\n",
       "  <__main__.Card at 0x124dec550>,\n",
       "  <__main__.Card at 0x124dee9d0>,\n",
       "  <__main__.Card at 0x124ded4d0>,\n",
       "  <__main__.Card at 0x124def450>,\n",
       "  <__main__.Card at 0x124dec790>,\n",
       "  <__main__.Card at 0x124ded8d0>,\n",
       "  <__main__.Card at 0x124def290>,\n",
       "  <__main__.Card at 0x124def610>,\n",
       "  <__main__.Card at 0x124dec990>,\n",
       "  <__main__.Card at 0x124ded290>,\n",
       "  <__main__.Card at 0x124def090>,\n",
       "  <__main__.Card at 0x124deff10>,\n",
       "  <__main__.Card at 0x124dee590>,\n",
       "  <__main__.Card at 0x124dec450>,\n",
       "  <__main__.Card at 0x124def250>,\n",
       "  <__main__.Card at 0x124ded150>,\n",
       "  <__main__.Card at 0x124dec110>,\n",
       "  <__main__.Card at 0x124defa10>,\n",
       "  <__main__.Card at 0x124dedb50>,\n",
       "  <__main__.Card at 0x124def150>,\n",
       "  <__main__.Card at 0x124deded0>,\n",
       "  <__main__.Card at 0x124def650>,\n",
       "  <__main__.Card at 0x124def3d0>,\n",
       "  <__main__.Card at 0x124deda10>,\n",
       "  <__main__.Card at 0x124dee790>,\n",
       "  <__main__.Card at 0x124dedb10>,\n",
       "  <__main__.Card at 0x124dee850>,\n",
       "  <__main__.Card at 0x124decad0>,\n",
       "  <__main__.Card at 0x124dee750>,\n",
       "  <__main__.Card at 0x124def910>,\n",
       "  <__main__.Card at 0x124dedc10>,\n",
       "  <__main__.Card at 0x124decbd0>,\n",
       "  <__main__.Card at 0x124decd90>,\n",
       "  <__main__.Card at 0x124ded010>,\n",
       "  <__main__.Card at 0x124dece90>,\n",
       "  <__main__.Card at 0x124deedd0>,\n",
       "  <__main__.Card at 0x124dee6d0>,\n",
       "  <__main__.Card at 0x124defed0>,\n",
       "  <__main__.Card at 0x124deca50>,\n",
       "  <__main__.Card at 0x124dec410>,\n",
       "  <__main__.Card at 0x124dee910>,\n",
       "  <__main__.Card at 0x124def390>,\n",
       "  <__main__.Card at 0x124decd10>,\n",
       "  <__main__.Card at 0x124deffd0>,\n",
       "  <__main__.Card at 0x124dec510>,\n",
       "  <__main__.Card at 0x124def810>,\n",
       "  <__main__.Card at 0x124dee410>,\n",
       "  <__main__.Card at 0x124dee890>,\n",
       "  <__main__.Card at 0x124deeb90>,\n",
       "  <__main__.Card at 0x124dee810>,\n",
       "  <__main__.Card at 0x124dee610>,\n",
       "  <__main__.Card at 0x124decb50>,\n",
       "  <__main__.Card at 0x124dedb90>,\n",
       "  <__main__.Card at 0x124defa90>,\n",
       "  <__main__.Card at 0x124ded090>,\n",
       "  <__main__.Card at 0x124dec9d0>,\n",
       "  <__main__.Card at 0x124dec890>,\n",
       "  <__main__.Card at 0x124dee690>,\n",
       "  <__main__.Card at 0x124defc10>,\n",
       "  <__main__.Card at 0x124dec190>,\n",
       "  <__main__.Card at 0x124ded110>,\n",
       "  <__main__.Card at 0x124deea10>,\n",
       "  <__main__.Card at 0x124deda90>,\n",
       "  <__main__.Card at 0x124def690>,\n",
       "  <__main__.Card at 0x124deddd0>,\n",
       "  <__main__.Card at 0x124def510>,\n",
       "  <__main__.Card at 0x124def890>,\n",
       "  <__main__.Card at 0x124ded5d0>,\n",
       "  <__main__.Card at 0x124def710>,\n",
       "  <__main__.Card at 0x124defcd0>,\n",
       "  <__main__.Card at 0x124dedf90>],\n",
       " 'card3': [<__main__.Card at 0x124deef10>,\n",
       "  <__main__.Card at 0x124dee2d0>,\n",
       "  <__main__.Card at 0x124def490>,\n",
       "  <__main__.Card at 0x124dee290>,\n",
       "  <__main__.Card at 0x124defd90>,\n",
       "  <__main__.Card at 0x124dee3d0>,\n",
       "  <__main__.Card at 0x124def8d0>,\n",
       "  <__main__.Card at 0x124dec350>,\n",
       "  <__main__.Card at 0x124ded750>,\n",
       "  <__main__.Card at 0x124defe10>,\n",
       "  <__main__.Card at 0x124ded250>,\n",
       "  <__main__.Card at 0x124deca90>,\n",
       "  <__main__.Card at 0x124def950>,\n",
       "  <__main__.Card at 0x124dec390>,\n",
       "  <__main__.Card at 0x124ded350>,\n",
       "  <__main__.Card at 0x124def850>,\n",
       "  <__main__.Card at 0x124dedad0>,\n",
       "  <__main__.Card at 0x124ded650>,\n",
       "  <__main__.Card at 0x124defc90>,\n",
       "  <__main__.Card at 0x124dee4d0>,\n",
       "  <__main__.Card at 0x124defbd0>,\n",
       "  <__main__.Card at 0x124def1d0>,\n",
       "  <__main__.Card at 0x124ded810>,\n",
       "  <__main__.Card at 0x124decc50>,\n",
       "  <__main__.Card at 0x124dec910>,\n",
       "  <__main__.Card at 0x124dee510>,\n",
       "  <__main__.Card at 0x124dec6d0>,\n",
       "  <__main__.Card at 0x124defb10>,\n",
       "  <__main__.Card at 0x124defb50>,\n",
       "  <__main__.Card at 0x124ded1d0>,\n",
       "  <__main__.Card at 0x124decc90>,\n",
       "  <__main__.Card at 0x124deea90>,\n",
       "  <__main__.Card at 0x124ded790>,\n",
       "  <__main__.Card at 0x124dee710>,\n",
       "  <__main__.Card at 0x124dee310>,\n",
       "  <__main__.Card at 0x124dec1d0>,\n",
       "  <__main__.Card at 0x124def190>,\n",
       "  <__main__.Card at 0x124decdd0>,\n",
       "  <__main__.Card at 0x124dee050>,\n",
       "  <__main__.Card at 0x124dedd50>,\n",
       "  <__main__.Card at 0x124deec50>,\n",
       "  <__main__.Card at 0x124dee1d0>,\n",
       "  <__main__.Card at 0x124deec10>,\n",
       "  <__main__.Card at 0x124defa50>,\n",
       "  <__main__.Card at 0x124ded6d0>,\n",
       "  <__main__.Card at 0x124dedf10>,\n",
       "  <__main__.Card at 0x124ded850>,\n",
       "  <__main__.Card at 0x124dec090>,\n",
       "  <__main__.Card at 0x124ded7d0>,\n",
       "  <__main__.Card at 0x124defc50>,\n",
       "  <__main__.Card at 0x124ded910>,\n",
       "  <__main__.Card at 0x124deff90>,\n",
       "  <__main__.Card at 0x124deca10>,\n",
       "  <__main__.Card at 0x124dec650>,\n",
       "  <__main__.Card at 0x124dec7d0>,\n",
       "  <__main__.Card at 0x124decb90>,\n",
       "  <__main__.Card at 0x124def750>,\n",
       "  <__main__.Card at 0x124def110>,\n",
       "  <__main__.Card at 0x124dee550>,\n",
       "  <__main__.Card at 0x124deed50>,\n",
       "  <__main__.Card at 0x124def2d0>,\n",
       "  <__main__.Card at 0x124decd50>,\n",
       "  <__main__.Card at 0x124deeb10>,\n",
       "  <__main__.Card at 0x124deec90>,\n",
       "  <__main__.Card at 0x124ded450>,\n",
       "  <__main__.Card at 0x124dee990>,\n",
       "  <__main__.Card at 0x124dee190>,\n",
       "  <__main__.Card at 0x124dec290>,\n",
       "  <__main__.Card at 0x124deea50>,\n",
       "  <__main__.Card at 0x124deef90>,\n",
       "  <__main__.Card at 0x124dee450>,\n",
       "  <__main__.Card at 0x124deed90>,\n",
       "  <__main__.Card at 0x124deed10>,\n",
       "  <__main__.Card at 0x124def990>,\n",
       "  <__main__.Card at 0x124ded310>,\n",
       "  <__main__.Card at 0x124deee90>,\n",
       "  <__main__.Card at 0x124dede10>,\n",
       "  <__main__.Card at 0x124dedf50>,\n",
       "  <__main__.Card at 0x124deefd0>,\n",
       "  <__main__.Card at 0x124dec210>,\n",
       "  <__main__.Card at 0x124dee150>,\n",
       "  <__main__.Card at 0x124decf50>,\n",
       "  <__main__.Card at 0x124def350>,\n",
       "  <__main__.Card at 0x124decfd0>,\n",
       "  <__main__.Card at 0x124deebd0>,\n",
       "  <__main__.Card at 0x124deeb50>,\n",
       "  <__main__.Card at 0x124ded550>,\n",
       "  <__main__.Card at 0x124dee8d0>,\n",
       "  <__main__.Card at 0x124def790>,\n",
       "  <__main__.Card at 0x124ded190>,\n",
       "  <__main__.Card at 0x124dedd10>,\n",
       "  <__main__.Card at 0x124ded9d0>,\n",
       "  <__main__.Card at 0x124deced0>,\n",
       "  <__main__.Card at 0x124dec690>,\n",
       "  <__main__.Card at 0x124def550>,\n",
       "  <__main__.Card at 0x124def410>,\n",
       "  <__main__.Card at 0x124ded490>,\n",
       "  <__main__.Card at 0x124ded890>,\n",
       "  <__main__.Card at 0x124def9d0>,\n",
       "  <__main__.Card at 0x14525f990>,\n",
       "  <__main__.Card at 0x14525ce50>,\n",
       "  <__main__.Card at 0x14525f2d0>,\n",
       "  <__main__.Card at 0x14525de90>,\n",
       "  <__main__.Card at 0x14525e210>,\n",
       "  <__main__.Card at 0x14525eed0>,\n",
       "  <__main__.Card at 0x14525eb90>,\n",
       "  <__main__.Card at 0x14525ec10>,\n",
       "  <__main__.Card at 0x14525f010>,\n",
       "  <__main__.Card at 0x14525c250>,\n",
       "  <__main__.Card at 0x14525c490>,\n",
       "  <__main__.Card at 0x14525e650>,\n",
       "  <__main__.Card at 0x14525d1d0>,\n",
       "  <__main__.Card at 0x14525f8d0>,\n",
       "  <__main__.Card at 0x14525c310>,\n",
       "  <__main__.Card at 0x14525ef90>,\n",
       "  <__main__.Card at 0x14525e350>,\n",
       "  <__main__.Card at 0x14525c410>,\n",
       "  <__main__.Card at 0x14525f9d0>,\n",
       "  <__main__.Card at 0x14525c510>,\n",
       "  <__main__.Card at 0x14525ef10>,\n",
       "  <__main__.Card at 0x14525d490>,\n",
       "  <__main__.Card at 0x14525d210>,\n",
       "  <__main__.Card at 0x14525df50>,\n",
       "  <__main__.Card at 0x14525d190>,\n",
       "  <__main__.Card at 0x14525eb10>,\n",
       "  <__main__.Card at 0x14525cb90>,\n",
       "  <__main__.Card at 0x14525d2d0>,\n",
       "  <__main__.Card at 0x14525ebd0>,\n",
       "  <__main__.Card at 0x14525d7d0>,\n",
       "  <__main__.Card at 0x14525de50>,\n",
       "  <__main__.Card at 0x14525ed50>,\n",
       "  <__main__.Card at 0x14525e8d0>,\n",
       "  <__main__.Card at 0x14525e090>,\n",
       "  <__main__.Card at 0x14525ea50>,\n",
       "  <__main__.Card at 0x14525f950>,\n",
       "  <__main__.Card at 0x14525ced0>,\n",
       "  <__main__.Card at 0x14525fe90>,\n",
       "  <__main__.Card at 0x14525d0d0>,\n",
       "  <__main__.Card at 0x14525c390>,\n",
       "  <__main__.Card at 0x14525c9d0>,\n",
       "  <__main__.Card at 0x14525d550>,\n",
       "  <__main__.Card at 0x14525e5d0>,\n",
       "  <__main__.Card at 0x14525ea90>,\n",
       "  <__main__.Card at 0x14525e010>,\n",
       "  <__main__.Card at 0x14525e710>,\n",
       "  <__main__.Card at 0x14525d590>,\n",
       "  <__main__.Card at 0x14525da10>,\n",
       "  <__main__.Card at 0x14525f650>,\n",
       "  <__main__.Card at 0x14525e310>,\n",
       "  <__main__.Card at 0x14525d850>,\n",
       "  <__main__.Card at 0x14525df10>,\n",
       "  <__main__.Card at 0x14525f510>,\n",
       "  <__main__.Card at 0x14525ccd0>,\n",
       "  <__main__.Card at 0x14525f610>,\n",
       "  <__main__.Card at 0x14525f050>,\n",
       "  <__main__.Card at 0x14525d650>,\n",
       "  <__main__.Card at 0x14525c150>,\n",
       "  <__main__.Card at 0x14525cb10>,\n",
       "  <__main__.Card at 0x14525ce10>,\n",
       "  <__main__.Card at 0x14525c090>,\n",
       "  <__main__.Card at 0x14525c750>,\n",
       "  <__main__.Card at 0x14525d8d0>,\n",
       "  <__main__.Card at 0x14525d050>,\n",
       "  <__main__.Card at 0x14525db50>,\n",
       "  <__main__.Card at 0x14525d450>,\n",
       "  <__main__.Card at 0x14525fa50>,\n",
       "  <__main__.Card at 0x14525fe10>,\n",
       "  <__main__.Card at 0x14525d150>,\n",
       "  <__main__.Card at 0x14525c710>,\n",
       "  <__main__.Card at 0x14525f810>,\n",
       "  <__main__.Card at 0x14525fb50>,\n",
       "  <__main__.Card at 0x14525f290>,\n",
       "  <__main__.Card at 0x14525d750>,\n",
       "  <__main__.Card at 0x14525e550>,\n",
       "  <__main__.Card at 0x14525fbd0>,\n",
       "  <__main__.Card at 0x14525f3d0>,\n",
       "  <__main__.Card at 0x14525c1d0>,\n",
       "  <__main__.Card at 0x14525c950>,\n",
       "  <__main__.Card at 0x14525d250>,\n",
       "  <__main__.Card at 0x14525ca50>,\n",
       "  <__main__.Card at 0x14525f310>,\n",
       "  <__main__.Card at 0x14525ff10>,\n",
       "  <__main__.Card at 0x14525fb10>,\n",
       "  <__main__.Card at 0x14525e7d0>,\n",
       "  <__main__.Card at 0x14525de10>,\n",
       "  <__main__.Card at 0x14525cd50>,\n",
       "  <__main__.Card at 0x14525efd0>,\n",
       "  <__main__.Card at 0x14525e390>,\n",
       "  <__main__.Card at 0x14525cbd0>,\n",
       "  <__main__.Card at 0x14525cd10>,\n",
       "  <__main__.Card at 0x14525d390>,\n",
       "  <__main__.Card at 0x14525c690>,\n",
       "  <__main__.Card at 0x14525fad0>,\n",
       "  <__main__.Card at 0x14525f190>,\n",
       "  <__main__.Card at 0x14525d110>,\n",
       "  <__main__.Card at 0x14525c4d0>,\n",
       "  <__main__.Card at 0x14525e050>,\n",
       "  <__main__.Card at 0x14525fcd0>,\n",
       "  <__main__.Card at 0x14525dc50>,\n",
       "  <__main__.Card at 0x14525cf10>,\n",
       "  <__main__.Card at 0x14525f110>,\n",
       "  <__main__.Card at 0x14525dfd0>,\n",
       "  <__main__.Card at 0x14525e750>,\n",
       "  <__main__.Card at 0x14525c190>,\n",
       "  <__main__.Card at 0x14525eb50>,\n",
       "  <__main__.Card at 0x14525ec90>,\n",
       "  <__main__.Card at 0x14525fd50>,\n",
       "  <__main__.Card at 0x14525e4d0>,\n",
       "  <__main__.Card at 0x14525e950>,\n",
       "  <__main__.Card at 0x14525d910>],\n",
       " 'card4': [<__main__.Card at 0x14525f890>,\n",
       "  <__main__.Card at 0x14525dbd0>,\n",
       "  <__main__.Card at 0x14525d090>,\n",
       "  <__main__.Card at 0x14525c2d0>,\n",
       "  <__main__.Card at 0x14525cb50>,\n",
       "  <__main__.Card at 0x14525c6d0>,\n",
       "  <__main__.Card at 0x14525e850>,\n",
       "  <__main__.Card at 0x14525cd90>,\n",
       "  <__main__.Card at 0x14525e190>,\n",
       "  <__main__.Card at 0x14525d6d0>,\n",
       "  <__main__.Card at 0x14525f4d0>,\n",
       "  <__main__.Card at 0x14525d950>,\n",
       "  <__main__.Card at 0x14525fb90>,\n",
       "  <__main__.Card at 0x14525ff90>,\n",
       "  <__main__.Card at 0x14525d410>,\n",
       "  <__main__.Card at 0x14525d790>,\n",
       "  <__main__.Card at 0x14525fdd0>,\n",
       "  <__main__.Card at 0x14525e810>,\n",
       "  <__main__.Card at 0x14525d610>,\n",
       "  <__main__.Card at 0x14525e450>,\n",
       "  <__main__.Card at 0x14525ed10>,\n",
       "  <__main__.Card at 0x14525f910>,\n",
       "  <__main__.Card at 0x14525c290>,\n",
       "  <__main__.Card at 0x14525ddd0>,\n",
       "  <__main__.Card at 0x14525c110>,\n",
       "  <__main__.Card at 0x14525cdd0>,\n",
       "  <__main__.Card at 0x14525d810>,\n",
       "  <__main__.Card at 0x14525c210>,\n",
       "  <__main__.Card at 0x14525f710>,\n",
       "  <__main__.Card at 0x14525c790>,\n",
       "  <__main__.Card at 0x14525fe50>,\n",
       "  <__main__.Card at 0x14525c810>,\n",
       "  <__main__.Card at 0x14525ead0>,\n",
       "  <__main__.Card at 0x14525e910>,\n",
       "  <__main__.Card at 0x14525ea10>,\n",
       "  <__main__.Card at 0x14525d9d0>,\n",
       "  <__main__.Card at 0x14525dc90>,\n",
       "  <__main__.Card at 0x14525fc90>,\n",
       "  <__main__.Card at 0x14525e0d0>,\n",
       "  <__main__.Card at 0x14525e110>,\n",
       "  <__main__.Card at 0x14525e150>,\n",
       "  <__main__.Card at 0x14525d3d0>,\n",
       "  <__main__.Card at 0x14525c890>,\n",
       "  <__main__.Card at 0x14525c7d0>,\n",
       "  <__main__.Card at 0x14525e410>,\n",
       "  <__main__.Card at 0x14525ec50>,\n",
       "  <__main__.Card at 0x14525db10>,\n",
       "  <__main__.Card at 0x14525e510>,\n",
       "  <__main__.Card at 0x14525ca90>,\n",
       "  <__main__.Card at 0x14525ce90>,\n",
       "  <__main__.Card at 0x14525f0d0>,\n",
       "  <__main__.Card at 0x14525cf50>,\n",
       "  <__main__.Card at 0x14525db90>,\n",
       "  <__main__.Card at 0x14525edd0>,\n",
       "  <__main__.Card at 0x14525dad0>,\n",
       "  <__main__.Card at 0x14525c650>,\n",
       "  <__main__.Card at 0x14525d890>,\n",
       "  <__main__.Card at 0x14525f6d0>,\n",
       "  <__main__.Card at 0x14525e3d0>,\n",
       "  <__main__.Card at 0x14525f450>,\n",
       "  <__main__.Card at 0x14525d5d0>,\n",
       "  <__main__.Card at 0x14525dd50>,\n",
       "  <__main__.Card at 0x14525f390>,\n",
       "  <__main__.Card at 0x14525ff50>,\n",
       "  <__main__.Card at 0x14525d310>,\n",
       "  <__main__.Card at 0x14525c0d0>,\n",
       "  <__main__.Card at 0x14525e290>,\n",
       "  <__main__.Card at 0x14525c8d0>,\n",
       "  <__main__.Card at 0x14525cc90>,\n",
       "  <__main__.Card at 0x14525d510>,\n",
       "  <__main__.Card at 0x14525c450>,\n",
       "  <__main__.Card at 0x14525d710>,\n",
       "  <__main__.Card at 0x14525fd90>,\n",
       "  <__main__.Card at 0x14525d690>,\n",
       "  <__main__.Card at 0x14525e990>,\n",
       "  <__main__.Card at 0x14525c850>,\n",
       "  <__main__.Card at 0x14525ee90>,\n",
       "  <__main__.Card at 0x14525f590>,\n",
       "  <__main__.Card at 0x14525fed0>,\n",
       "  <__main__.Card at 0x14525cc50>,\n",
       "  <__main__.Card at 0x14525ed90>,\n",
       "  <__main__.Card at 0x14525f7d0>,\n",
       "  <__main__.Card at 0x14525f350>,\n",
       "  <__main__.Card at 0x14525f150>,\n",
       "  <__main__.Card at 0x14525e890>,\n",
       "  <__main__.Card at 0x14525f090>,\n",
       "  <__main__.Card at 0x14525da50>,\n",
       "  <__main__.Card at 0x14525ecd0>,\n",
       "  <__main__.Card at 0x14525f850>,\n",
       "  <__main__.Card at 0x14525f490>,\n",
       "  <__main__.Card at 0x14525c910>,\n",
       "  <__main__.Card at 0x14525f750>,\n",
       "  <__main__.Card at 0x14525f5d0>,\n",
       "  <__main__.Card at 0x14525e2d0>,\n",
       "  <__main__.Card at 0x14525ee10>,\n",
       "  <__main__.Card at 0x14525cfd0>,\n",
       "  <__main__.Card at 0x14525f790>,\n",
       "  <__main__.Card at 0x14525ca10>,\n",
       "  <__main__.Card at 0x14525ef50>,\n",
       "  <__main__.Card at 0x14525c350>,\n",
       "  <__main__.Card at 0x14525e690>,\n",
       "  <__main__.Card at 0x14525fa10>,\n",
       "  <__main__.Card at 0x14525e1d0>,\n",
       "  <__main__.Card at 0x14525e610>,\n",
       "  <__main__.Card at 0x14525fc50>,\n",
       "  <__main__.Card at 0x14525f210>,\n",
       "  <__main__.Card at 0x14525e590>,\n",
       "  <__main__.Card at 0x14525df90>,\n",
       "  <__main__.Card at 0x14525e790>,\n",
       "  <__main__.Card at 0x14525dcd0>,\n",
       "  <__main__.Card at 0x14525ee50>,\n",
       "  <__main__.Card at 0x14525e6d0>,\n",
       "  <__main__.Card at 0x420dd1c50>,\n",
       "  <__main__.Card at 0x420dd2b90>,\n",
       "  <__main__.Card at 0x420dd2890>,\n",
       "  <__main__.Card at 0x420dd0250>,\n",
       "  <__main__.Card at 0x420dd3ed0>,\n",
       "  <__main__.Card at 0x420dd2290>,\n",
       "  <__main__.Card at 0x420dd3cd0>,\n",
       "  <__main__.Card at 0x420dd2090>,\n",
       "  <__main__.Card at 0x420dd2390>,\n",
       "  <__main__.Card at 0x420dd12d0>,\n",
       "  <__main__.Card at 0x420dd23d0>,\n",
       "  <__main__.Card at 0x420dd1fd0>,\n",
       "  <__main__.Card at 0x420dd1290>,\n",
       "  <__main__.Card at 0x420dd3e90>,\n",
       "  <__main__.Card at 0x420dd2990>,\n",
       "  <__main__.Card at 0x420dd0550>,\n",
       "  <__main__.Card at 0x420dd2190>,\n",
       "  <__main__.Card at 0x420dd0dd0>,\n",
       "  <__main__.Card at 0x420dd2e10>,\n",
       "  <__main__.Card at 0x420dd36d0>,\n",
       "  <__main__.Card at 0x420dd1a90>,\n",
       "  <__main__.Card at 0x420dd0310>,\n",
       "  <__main__.Card at 0x420dd3010>,\n",
       "  <__main__.Card at 0x420dd18d0>,\n",
       "  <__main__.Card at 0x420dd2bd0>,\n",
       "  <__main__.Card at 0x420dd2450>,\n",
       "  <__main__.Card at 0x420dd39d0>,\n",
       "  <__main__.Card at 0x420dd0990>,\n",
       "  <__main__.Card at 0x420dd1910>,\n",
       "  <__main__.Card at 0x420dd1190>,\n",
       "  <__main__.Card at 0x420dd3b90>,\n",
       "  <__main__.Card at 0x420dd0390>,\n",
       "  <__main__.Card at 0x420dd20d0>,\n",
       "  <__main__.Card at 0x420dd0c10>,\n",
       "  <__main__.Card at 0x420dd0590>,\n",
       "  <__main__.Card at 0x420dd0c50>,\n",
       "  <__main__.Card at 0x420dd0d90>,\n",
       "  <__main__.Card at 0x420dd08d0>,\n",
       "  <__main__.Card at 0x420dd1dd0>,\n",
       "  <__main__.Card at 0x420dd07d0>,\n",
       "  <__main__.Card at 0x420dd01d0>,\n",
       "  <__main__.Card at 0x420dd0890>,\n",
       "  <__main__.Card at 0x420dd37d0>,\n",
       "  <__main__.Card at 0x420dd3590>,\n",
       "  <__main__.Card at 0x420dd0b90>,\n",
       "  <__main__.Card at 0x420dd1bd0>,\n",
       "  <__main__.Card at 0x420dd2950>,\n",
       "  <__main__.Card at 0x420dd3110>,\n",
       "  <__main__.Card at 0x420dd26d0>,\n",
       "  <__main__.Card at 0x420dd1890>,\n",
       "  <__main__.Card at 0x420dd1610>,\n",
       "  <__main__.Card at 0x420dd0510>,\n",
       "  <__main__.Card at 0x420dd3d10>,\n",
       "  <__main__.Card at 0x420dd0790>,\n",
       "  <__main__.Card at 0x420dd1450>,\n",
       "  <__main__.Card at 0x143cde990>,\n",
       "  <__main__.Card at 0x143cdca50>,\n",
       "  <__main__.Card at 0x143cdc150>,\n",
       "  <__main__.Card at 0x143cdf710>,\n",
       "  <__main__.Card at 0x143cdd5d0>,\n",
       "  <__main__.Card at 0x143cde250>,\n",
       "  <__main__.Card at 0x143cdf690>,\n",
       "  <__main__.Card at 0x143cde110>,\n",
       "  <__main__.Card at 0x143cdf910>,\n",
       "  <__main__.Card at 0x143cdfe50>,\n",
       "  <__main__.Card at 0x143cdec50>,\n",
       "  <__main__.Card at 0x143cdca90>,\n",
       "  <__main__.Card at 0x143cdfc90>,\n",
       "  <__main__.Card at 0x143cde2d0>,\n",
       "  <__main__.Card at 0x143cdc210>,\n",
       "  <__main__.Card at 0x143cdc990>,\n",
       "  <__main__.Card at 0x143cdf610>,\n",
       "  <__main__.Card at 0x143cdf750>,\n",
       "  <__main__.Card at 0x143cdf390>,\n",
       "  <__main__.Card at 0x143cdd710>,\n",
       "  <__main__.Card at 0x143cdf190>,\n",
       "  <__main__.Card at 0x143cdd7d0>,\n",
       "  <__main__.Card at 0x143cde750>,\n",
       "  <__main__.Card at 0x143cdf110>,\n",
       "  <__main__.Card at 0x143cdc110>,\n",
       "  <__main__.Card at 0x143cddb50>,\n",
       "  <__main__.Card at 0x143cdd810>,\n",
       "  <__main__.Card at 0x143cdd6d0>,\n",
       "  <__main__.Card at 0x143cdcc90>,\n",
       "  <__main__.Card at 0x143cdfb90>,\n",
       "  <__main__.Card at 0x143cde890>,\n",
       "  <__main__.Card at 0x143cdcad0>,\n",
       "  <__main__.Card at 0x143cdf650>,\n",
       "  <__main__.Card at 0x143cde050>,\n",
       "  <__main__.Card at 0x143cdfcd0>,\n",
       "  <__main__.Card at 0x143cdc850>,\n",
       "  <__main__.Card at 0x143cdfed0>,\n",
       "  <__main__.Card at 0x143cddcd0>,\n",
       "  <__main__.Card at 0x143cdef50>,\n",
       "  <__main__.Card at 0x143cdd950>,\n",
       "  <__main__.Card at 0x143cde590>,\n",
       "  <__main__.Card at 0x143cde150>,\n",
       "  <__main__.Card at 0x143cdf410>],\n",
       " 'card5': [<__main__.Card at 0x143cddf50>,\n",
       "  <__main__.Card at 0x143cdd2d0>,\n",
       "  <__main__.Card at 0x143cdd610>,\n",
       "  <__main__.Card at 0x143cdfd50>,\n",
       "  <__main__.Card at 0x143cdc7d0>,\n",
       "  <__main__.Card at 0x143cdfbd0>,\n",
       "  <__main__.Card at 0x143cdc310>,\n",
       "  <__main__.Card at 0x143cdee10>,\n",
       "  <__main__.Card at 0x143cdf090>,\n",
       "  <__main__.Card at 0x143cdf990>,\n",
       "  <__main__.Card at 0x143cde6d0>,\n",
       "  <__main__.Card at 0x143cdf1d0>,\n",
       "  <__main__.Card at 0x143cdf810>,\n",
       "  <__main__.Card at 0x143cdc350>,\n",
       "  <__main__.Card at 0x143cdd890>,\n",
       "  <__main__.Card at 0x143cdeb10>,\n",
       "  <__main__.Card at 0x143cdff50>,\n",
       "  <__main__.Card at 0x143cdccd0>,\n",
       "  <__main__.Card at 0x143cdf2d0>,\n",
       "  <__main__.Card at 0x143cddd90>,\n",
       "  <__main__.Card at 0x143cdddd0>,\n",
       "  <__main__.Card at 0x143cdcb10>,\n",
       "  <__main__.Card at 0x143cdc890>,\n",
       "  <__main__.Card at 0x143cdda50>,\n",
       "  <__main__.Card at 0x143cdf890>,\n",
       "  <__main__.Card at 0x143cdde50>,\n",
       "  <__main__.Card at 0x143cdd310>,\n",
       "  <__main__.Card at 0x143cdfd10>,\n",
       "  <__main__.Card at 0x143cdf5d0>,\n",
       "  <__main__.Card at 0x143cdf850>,\n",
       "  <__main__.Card at 0x143cdd110>,\n",
       "  <__main__.Card at 0x143cdc710>,\n",
       "  <__main__.Card at 0x143cde490>,\n",
       "  <__main__.Card at 0x143cdf210>,\n",
       "  <__main__.Card at 0x143cdf9d0>,\n",
       "  <__main__.Card at 0x143cdc250>,\n",
       "  <__main__.Card at 0x143cddb10>,\n",
       "  <__main__.Card at 0x143cdd190>,\n",
       "  <__main__.Card at 0x143cdef90>,\n",
       "  <__main__.Card at 0x143cdea90>,\n",
       "  <__main__.Card at 0x143cdd1d0>,\n",
       "  <__main__.Card at 0x143cdcd50>,\n",
       "  <__main__.Card at 0x143cdcf10>,\n",
       "  <__main__.Card at 0x143cdf050>,\n",
       "  <__main__.Card at 0x143cdc390>,\n",
       "  <__main__.Card at 0x143cdd910>,\n",
       "  <__main__.Card at 0x143cdd990>,\n",
       "  <__main__.Card at 0x143cdc910>,\n",
       "  <__main__.Card at 0x143cddfd0>,\n",
       "  <__main__.Card at 0x143cdca10>,\n",
       "  <__main__.Card at 0x143cdc750>,\n",
       "  <__main__.Card at 0x143cdd510>,\n",
       "  <__main__.Card at 0x143cde7d0>,\n",
       "  <__main__.Card at 0x143cdd650>,\n",
       "  <__main__.Card at 0x143cdc510>,\n",
       "  <__main__.Card at 0x143cdf4d0>,\n",
       "  <__main__.Card at 0x143cdc6d0>,\n",
       "  <__main__.Card at 0x143cdfa90>,\n",
       "  <__main__.Card at 0x143cde3d0>,\n",
       "  <__main__.Card at 0x143cde350>,\n",
       "  <__main__.Card at 0x143cddd10>,\n",
       "  <__main__.Card at 0x143cde010>,\n",
       "  <__main__.Card at 0x143cdcf90>,\n",
       "  <__main__.Card at 0x143cdeb90>,\n",
       "  <__main__.Card at 0x143cddc10>,\n",
       "  <__main__.Card at 0x143cdcdd0>,\n",
       "  <__main__.Card at 0x143cdcb50>,\n",
       "  <__main__.Card at 0x143cdf6d0>,\n",
       "  <__main__.Card at 0x143cddf90>,\n",
       "  <__main__.Card at 0x143cdc290>,\n",
       "  <__main__.Card at 0x143cdd8d0>,\n",
       "  <__main__.Card at 0x143cdee90>,\n",
       "  <__main__.Card at 0x143cdec90>,\n",
       "  <__main__.Card at 0x143cded90>,\n",
       "  <__main__.Card at 0x143cdc5d0>,\n",
       "  <__main__.Card at 0x143cdced0>,\n",
       "  <__main__.Card at 0x143cde850>,\n",
       "  <__main__.Card at 0x143cdebd0>,\n",
       "  <__main__.Card at 0x143cde290>,\n",
       "  <__main__.Card at 0x143cdde10>,\n",
       "  <__main__.Card at 0x143cdea50>,\n",
       "  <__main__.Card at 0x143cde510>,\n",
       "  <__main__.Card at 0x143cddd50>,\n",
       "  <__main__.Card at 0x143cdf310>,\n",
       "  <__main__.Card at 0x143cdd9d0>,\n",
       "  <__main__.Card at 0x143cdc3d0>,\n",
       "  <__main__.Card at 0x143cdd590>,\n",
       "  <__main__.Card at 0x143cdc590>,\n",
       "  <__main__.Card at 0x143cde690>,\n",
       "  <__main__.Card at 0x143cdefd0>,\n",
       "  <__main__.Card at 0x143cde090>,\n",
       "  <__main__.Card at 0x143cdcd90>,\n",
       "  <__main__.Card at 0x143cdcb90>,\n",
       "  <__main__.Card at 0x143cdf550>,\n",
       "  <__main__.Card at 0x143cdcbd0>,\n",
       "  <__main__.Card at 0x143cdc0d0>,\n",
       "  <__main__.Card at 0x143cdf0d0>,\n",
       "  <__main__.Card at 0x143cdedd0>,\n",
       "  <__main__.Card at 0x143cded10>,\n",
       "  <__main__.Card at 0x143cdc550>,\n",
       "  <__main__.Card at 0x143cdf950>,\n",
       "  <__main__.Card at 0x143cdd3d0>,\n",
       "  <__main__.Card at 0x143cdf590>,\n",
       "  <__main__.Card at 0x143cddf10>,\n",
       "  <__main__.Card at 0x143cdfb10>,\n",
       "  <__main__.Card at 0x143cdf350>,\n",
       "  <__main__.Card at 0x143cdc950>,\n",
       "  <__main__.Card at 0x143cddc90>,\n",
       "  <__main__.Card at 0x143cdcc50>,\n",
       "  <__main__.Card at 0x143cdd390>,\n",
       "  <__main__.Card at 0x143cdfd90>,\n",
       "  <__main__.Card at 0x143cde390>,\n",
       "  <__main__.Card at 0x143cdc4d0>,\n",
       "  <__main__.Card at 0x143cdd350>,\n",
       "  <__main__.Card at 0x143cdfa50>,\n",
       "  <__main__.Card at 0x143cdee50>,\n",
       "  <__main__.Card at 0x143cdf8d0>,\n",
       "  <__main__.Card at 0x143cdce90>,\n",
       "  <__main__.Card at 0x143cdce50>,\n",
       "  <__main__.Card at 0x143cde190>,\n",
       "  <__main__.Card at 0x143cdd750>,\n",
       "  <__main__.Card at 0x143cdded0>,\n",
       "  <__main__.Card at 0x143cdf7d0>,\n",
       "  <__main__.Card at 0x143cde5d0>,\n",
       "  <__main__.Card at 0x143cde710>,\n",
       "  <__main__.Card at 0x143cdf3d0>,\n",
       "  <__main__.Card at 0x143cdfdd0>,\n",
       "  <__main__.Card at 0x143cdfa10>,\n",
       "  <__main__.Card at 0x143cdcd10>,\n",
       "  <__main__.Card at 0x143cdfb50>,\n",
       "  <__main__.Card at 0x143cdecd0>,\n",
       "  <__main__.Card at 0x143cdf010>,\n",
       "  <__main__.Card at 0x143cde9d0>,\n",
       "  <__main__.Card at 0x143cdda90>,\n",
       "  <__main__.Card at 0x143cdc1d0>,\n",
       "  <__main__.Card at 0x143cde550>,\n",
       "  <__main__.Card at 0x143cdd010>,\n",
       "  <__main__.Card at 0x143cdfad0>,\n",
       "  <__main__.Card at 0x143cde4d0>,\n",
       "  <__main__.Card at 0x143cded50>,\n",
       "  <__main__.Card at 0x143cdc8d0>,\n",
       "  <__main__.Card at 0x143cdec10>,\n",
       "  <__main__.Card at 0x143cde310>,\n",
       "  <__main__.Card at 0x143cdd290>,\n",
       "  <__main__.Card at 0x143cdd4d0>,\n",
       "  <__main__.Card at 0x143cde450>,\n",
       "  <__main__.Card at 0x143cddc50>,\n",
       "  <__main__.Card at 0x143cde910>,\n",
       "  <__main__.Card at 0x143cdd410>,\n",
       "  <__main__.Card at 0x143cdfe90>,\n",
       "  <__main__.Card at 0x143cdda10>,\n",
       "  <__main__.Card at 0x143cdc610>,\n",
       "  <__main__.Card at 0x143cdd790>,\n",
       "  <__main__.Card at 0x143cddad0>,\n",
       "  <__main__.Card at 0x143cdd690>,\n",
       "  <__main__.Card at 0x143cdc790>,\n",
       "  <__main__.Card at 0x1231e0a10>,\n",
       "  <__main__.Card at 0x1231e1490>,\n",
       "  <__main__.Card at 0x1231e2290>,\n",
       "  <__main__.Card at 0x1231e0790>,\n",
       "  <__main__.Card at 0x1231e3a90>,\n",
       "  <__main__.Card at 0x1231e2a90>,\n",
       "  <__main__.Card at 0x1231e19d0>,\n",
       "  <__main__.Card at 0x1231e29d0>,\n",
       "  <__main__.Card at 0x1231e2950>,\n",
       "  <__main__.Card at 0x1231e1450>,\n",
       "  <__main__.Card at 0x1231e0290>,\n",
       "  <__main__.Card at 0x1231e3250>,\n",
       "  <__main__.Card at 0x1231e2590>,\n",
       "  <__main__.Card at 0x1231e3bd0>,\n",
       "  <__main__.Card at 0x1231e2710>,\n",
       "  <__main__.Card at 0x1231e2310>,\n",
       "  <__main__.Card at 0x1231e0210>,\n",
       "  <__main__.Card at 0x1231e31d0>,\n",
       "  <__main__.Card at 0x1231e0190>,\n",
       "  <__main__.Card at 0x1231e2090>,\n",
       "  <__main__.Card at 0x1231e0890>,\n",
       "  <__main__.Card at 0x1231e0410>,\n",
       "  <__main__.Card at 0x1231e3910>,\n",
       "  <__main__.Card at 0x1231e0950>,\n",
       "  <__main__.Card at 0x1231e26d0>,\n",
       "  <__main__.Card at 0x1231e3810>,\n",
       "  <__main__.Card at 0x1231e2390>,\n",
       "  <__main__.Card at 0x1231e2d50>,\n",
       "  <__main__.Card at 0x1231e1f10>,\n",
       "  <__main__.Card at 0x1231e3b90>,\n",
       "  <__main__.Card at 0x1231e1650>,\n",
       "  <__main__.Card at 0x1231e0550>,\n",
       "  <__main__.Card at 0x1231e1b50>,\n",
       "  <__main__.Card at 0x1231e33d0>,\n",
       "  <__main__.Card at 0x1231e24d0>,\n",
       "  <__main__.Card at 0x1231e1150>,\n",
       "  <__main__.Card at 0x1231e3e10>,\n",
       "  <__main__.Card at 0x1231e09d0>,\n",
       "  <__main__.Card at 0x1231e2dd0>,\n",
       "  <__main__.Card at 0x1231e38d0>,\n",
       "  <__main__.Card at 0x1231e3f50>,\n",
       "  <__main__.Card at 0x1231e0ad0>,\n",
       "  <__main__.Card at 0x1231e0750>,\n",
       "  <__main__.Card at 0x1231e3d90>,\n",
       "  <__main__.Card at 0x1231e2190>,\n",
       "  <__main__.Card at 0x1231e17d0>,\n",
       "  <__main__.Card at 0x1231e2010>,\n",
       "  <__main__.Card at 0x1231e28d0>,\n",
       "  <__main__.Card at 0x1231e3090>,\n",
       "  <__main__.Card at 0x1231e2810>,\n",
       "  <__main__.Card at 0x1231e3f10>,\n",
       "  <__main__.Card at 0x1231e3290>,\n",
       "  <__main__.Card at 0x1231e3590>,\n",
       "  <__main__.Card at 0x1231e0f10>]}"
      ]
     },
     "execution_count": 695,
     "metadata": {},
     "output_type": "execute_result"
    }
   ],
   "execution_count": 695
  },
  {
   "cell_type": "code",
   "metadata": {
    "deletable": false,
    "editable": false
   },
   "source": [
    "grader.check(\"qA.4\")"
   ],
   "outputs": [
    {
     "data": {
      "text/plain": [
       "qA.4 results: All test cases passed!"
      ],
      "text/html": [
       "<p><strong><pre style='display: inline;'>qA.4</pre></strong> passed! 🍀</p>"
      ]
     },
     "execution_count": 696,
     "metadata": {},
     "output_type": "execute_result"
    }
   ],
   "execution_count": 696
  },
  {
   "cell_type": "markdown",
   "metadata": {
    "deletable": false,
    "editable": false,
    "vscode": {
     "languageId": "raw"
    }
   },
   "source": [
    "<!-- END QUESTION -->\n",
    "\n",
    "<!-- BEGIN QUESTION -->\n",
    "\n",
    "### **Question 5.** \n",
    "Produce a set of plots that show how the time taken to find a solution varies against $n$ the number of symbols per card, $k$ the number of cards in the deck, $s$ number of available symbols and $m$ the number of symbols shared between cards. Don't make your numbers too large since it will take a long time to run. Analyse and discuss your plots."
   ]
  },
  {
   "cell_type": "code",
   "metadata": {
    "tags": [],
    "ExecuteTime": {
     "end_time": "2025-03-02T13:24:11.803698Z",
     "start_time": "2025-03-02T13:24:11.799685Z"
    }
   },
   "source": [
    "import timeout_decorator\n",
    "\n",
    "# Define the function to create and solve the CSP problem allowing variables to be varied\n",
    "\n",
    "@timeout_decorator.timeout(60) # This will make sure one search run does not run for more than 60 seconds. You can change this number as needed.\n",
    "def run_csp(n_symbols: int, n_cards: int, symbols_per_card: int, n_shared_symbols: int):\n",
    "    s = symbols_per_card # Symbols per card\n",
    "    k = n_symbols # The total number of unique symbols\n",
    "    n = n_cards # number of cards\n",
    "    \n",
    "    # Define the variables and domains.\n",
    "    vars = [f'card{i}' for i in range(n_cards)]\n",
    "    domains = {var: [Card(symbols) for symbols in itertools.combinations(generate_symbols(k), s)] for var in variables}\n",
    "    \n",
    "    # Define the list of constraints between all the cards.\n",
    "    cons = []\n",
    "    \n",
    "    for i, card in enumerate(vars):\n",
    "        for j, other_card in enumerate(vars):\n",
    "            if i == j:\n",
    "                continue\n",
    "            else: \n",
    "                cons.append(SharingNSymbolsConstraint((card, other_card), n_shared_symbols))\n",
    "                \n",
    "    csp = CSP(variables, domains, constraints)\n",
    "    solution = csp.solve()\n",
    "    \n",
    "    return solution"
   ],
   "outputs": [],
   "execution_count": 697
  },
  {
   "cell_type": "code",
   "metadata": {
    "tags": [],
    "jupyter": {
     "is_executing": true
    },
    "ExecuteTime": {
     "start_time": "2025-03-02T13:24:11.816965Z"
    }
   },
   "source": [
    "from matplotlib import pyplot as plt\n",
    "import timeit # This will allow you to calculate runtimes, see https://docs.python.org/3/library/timeit.html for more info\n",
    "\n",
    "# Make your plots here\n",
    "times = []\n",
    "\n",
    "x_min = 1\n",
    "x_max = 8\n",
    "\n",
    "for i in range(x_min, x_max):\n",
    "    n_symbols = int(i*(i+1)/2)\n",
    "    n_cards = i+1\n",
    "    n_shared_symbols = 1\n",
    "    \n",
    "    time_taken = timeit.timeit(lambda: run_csp(n_symbols, n_cards, i, n_shared_symbols), number=1)\n",
    "    times.append(time_taken)\n",
    "    \n",
    "plt.plot(times)\n",
    "plt.xlabel(\"Symbols per card\")\n",
    "plt.ylabel(\"Time taken to solve CSP (seconds)\")\n",
    "\n",
    "plt.xlim(x_min, x_max)\n",
    "plt.ylim(0, 8)\n",
    "plt.title(\"Time taken to solve CSP against symbols per card\")\n",
    "plt.show()"
   ],
   "outputs": [],
   "execution_count": null
  },
  {
   "cell_type": "markdown",
   "metadata": {},
   "source": [
    "_Discuss your results here... What are the main patterns you notice? Why do the plots look the way they do? What impact do the parameters have on the runtime of the search algorithm?_"
   ]
  },
  {
   "cell_type": "markdown",
   "metadata": {
    "deletable": false,
    "editable": false
   },
   "source": [
    "<!-- END QUESTION -->\n",
    "\n",
    "# Part B: A* Search\n",
    "\n",
    "In this part of the assignment you will be working on some animation! Given two polyons (sets of points in discrete 2D space connected by a line), your task is to create a 'smooth' transition from the first to the second. In order to make the transition, you are only allowed to move a single point at a time to an adjacent point either up or down. In order to find the fewest possible steps to go from the starting polygon to the goal, you will be implementing A* search."
   ]
  },
  {
   "cell_type": "code",
   "metadata": {
    "ExecuteTime": {
     "end_time": "2025-03-02T13:23:50.228059Z",
     "start_time": "2025-03-02T13:23:50.225073Z"
    }
   },
   "source": [
    "import itertools\n",
    "from typing import List, Tuple, Dict, Self, Any, Callable\n",
    "from abc import ABC\n",
    "import heapq\n",
    "from collections import OrderedDict\n",
    "from typing import List, Tuple, Set, Union, Self\n",
    "import numpy as np\n"
   ],
   "outputs": [],
   "execution_count": 666
  },
  {
   "cell_type": "code",
   "metadata": {
    "ExecuteTime": {
     "end_time": "2025-03-02T13:23:50.241027Z",
     "start_time": "2025-03-02T13:23:50.238833Z"
    }
   },
   "source": [
    "GRID_SIZE = 4 # Defines an 8x8 grid"
   ],
   "outputs": [],
   "execution_count": 667
  },
  {
   "cell_type": "markdown",
   "metadata": {
    "deletable": false,
    "editable": false
   },
   "source": [
    "<!-- BEGIN QUESTION -->\n",
    "\n",
    "### **Question 1.** \n",
    "Complete the following class methods for the ```Polygon``` class. The methods you are expected to complete are ```__hash__``` and ```generate_neighbours```."
   ]
  },
  {
   "cell_type": "code",
   "metadata": {
    "deletable": false,
    "editable": false
   },
   "source": [
    "class Point:\n",
    "    def __init__(self, x, y):\n",
    "        self.x = x\n",
    "        self.y = y\n",
    "\n",
    "    def as_array(self):\n",
    "        return np.array([self.x, self.y])\n",
    "\n",
    "    def __hash__(self):\n",
    "        return hash((self.x, self.y))\n",
    "\n",
    "    def __eq__(self, other):\n",
    "        return (self.x, self.y) == (other.x, other.y)\n",
    "    \n",
    "    def __lt__(self, other):\n",
    "        return (self.x, self.y) < (other.x, other.y)\n",
    "\n",
    "    def __repr__(self):\n",
    "        return f\"Point({self.x}, {self.y})\""
   ],
   "outputs": [],
   "execution_count": 668
  },
  {
   "metadata": {
    "ExecuteTime": {
     "end_time": "2025-03-02T13:23:50.263316Z",
     "start_time": "2025-03-02T13:23:50.256851Z"
    }
   },
   "cell_type": "code",
   "source": [
    "class Polygon:\n",
    "    def __init__(self, coordinates: Union[List[Tuple[int, int]], List[Point]]):\n",
    "        \"\"\"Instantiate a polygon from a list of points.\"\"\"\n",
    "        if not coordinates:\n",
    "            raise ValueError(\"Polygon requires at least one coordinate.\")\n",
    "        if type(coordinates[0]) == tuple:\n",
    "            coordinates = [Point(point[0], point[1]) for point in coordinates]\n",
    "        unique_coords = list(OrderedDict.fromkeys(coordinates))  # Preserve order and remove duplicates\n",
    "        if len(unique_coords) != len(coordinates):\n",
    "            raise ValueError(\"Polygon has repeated coordinates!\")\n",
    "        self.points = unique_coords\n",
    "\n",
    "    def as_list(self) -> List[Point]:\n",
    "        \"\"\"Return the set of points.\"\"\"\n",
    "        return self.points\n",
    "    \n",
    "    def as_array(self) -> np.array:\n",
    "        \"\"\"Return a representation of the current polygon as a numpy array\"\"\"\n",
    "        return np.array([[point.x, point.y] for point in self.points])\n",
    "\n",
    "    def __hash__(self):\n",
    "        \"\"\"Returns a hash for the current polygon. Isomorphic polygons must produce equivalent hashes.\"\"\"\n",
    "        # ...\n",
    "        self.points = sorted(self.points)\n",
    "        return hash(tuple(self.points))\n",
    "\n",
    "    def __eq__(self, other):\n",
    "        \"\"\"Equality test for polygons compatible with the hash function.\"\"\"\n",
    "        # ...\n",
    "        return hash(self) == hash(other)\n",
    "        \n",
    "    def __lt__(self, other):\n",
    "        \"\"\"Allow polygons to be compared.\"\"\"\n",
    "        return self.points < other.points    \n",
    "\n",
    "    def generate_neighbours(self) -> List['Polygon']:\n",
    "        \"\"\"Generates possible neighbours of the current polygon. Ensure that the x and y coordinates of all points are within ±GRID_SIZE\"\"\"\n",
    "        # ...\n",
    "        neighbours = []\n",
    "        \n",
    "        for idx, point in enumerate(self.points):\n",
    "            directions = [(0, 1), (0, -1), (1, 0), (-1, 0)]\n",
    "            for i, j in directions:\n",
    "                new_point = Point(point.x + i, point.y + j)\n",
    "                \n",
    "                new_points = self.points.copy()\n",
    "                new_points[idx] = new_point\n",
    "                \n",
    "                if new_point in self.points:\n",
    "                    continue\n",
    "                \n",
    "                if -GRID_SIZE <= new_point.x <= GRID_SIZE and GRID_SIZE >= new_point.y >= -GRID_SIZE:\n",
    "                    poly = Polygon(new_points)\n",
    "                    neighbours.append(poly)\n",
    "        return neighbours"
   ],
   "outputs": [],
   "execution_count": 669
  },
  {
   "cell_type": "code",
   "metadata": {
    "deletable": false,
    "editable": false,
    "ExecuteTime": {
     "end_time": "2025-03-02T13:23:50.274961Z",
     "start_time": "2025-03-02T13:23:50.269066Z"
    }
   },
   "source": [
    "grader.check(\"qB.1\")"
   ],
   "outputs": [
    {
     "data": {
      "text/plain": [
       "qB.1 results: All test cases passed!"
      ],
      "text/html": [
       "<p><strong><pre style='display: inline;'>qB.1</pre></strong> passed! 🍀</p>"
      ]
     },
     "execution_count": 670,
     "metadata": {},
     "output_type": "execute_result"
    }
   ],
   "execution_count": 670
  },
  {
   "cell_type": "markdown",
   "metadata": {
    "deletable": false,
    "editable": false
   },
   "source": [
    "<!-- END QUESTION -->\n",
    "\n",
    "<!-- BEGIN QUESTION -->\n",
    "\n",
    "### **Question 2.**\n",
    "Implement the functions ```difference```, ```minimal```, and ```centroid``` to compute the distance between two polygons."
   ]
  },
  {
   "cell_type": "code",
   "metadata": {
    "tags": [],
    "ExecuteTime": {
     "end_time": "2025-03-02T13:23:50.289180Z",
     "start_time": "2025-03-02T13:23:50.285758Z"
    }
   },
   "source": [
    "from scipy.spatial.distance import cdist\n",
    "\n",
    "def difference(A: Polygon, B: Polygon) -> float:\n",
    "    \"\"\"Returns the number of points in 'a' or 'b' that are not in both polygons.\"\"\"\n",
    "    # ...\n",
    "    return len(set(A.points) ^ set(B.points))\n",
    "\n",
    "def minimal(A: Polygon, B: Polygon) -> float:\n",
    "    \"\"\"Returns the smallest non-zero Manhattan (L1) distance between the points of 'a' and 'b' respectively, multiplied by the number of points in the goal that are still unreached.\"\"\"\n",
    "    # ...\n",
    "    distances = cdist(A.as_array(), B.as_array(), \"cityblock\").diagonal()\n",
    "    distances = distances[distances > 0]\n",
    "    \n",
    "    min_dist = min(distances)\n",
    "    \n",
    "    return min_dist * len(distances)\n",
    "\n",
    "def centroid(A: Polygon, B:Polygon) -> float:\n",
    "    \"\"\"\"Returns the Euclidean distance between the centroids (mean of the points) of the two polygons.\"\"\"\n",
    "    ...\n",
    "    a_mean = np.mean(A.as_array(), axis=0)\n",
    "    b_mean = np.mean(B.as_array(), axis=0)\n",
    "    \n",
    "    dist = np.linalg.norm(a_mean - b_mean)\n",
    "    \n",
    "    return dist"
   ],
   "outputs": [],
   "execution_count": 671
  },
  {
   "cell_type": "code",
   "metadata": {
    "deletable": false,
    "editable": false,
    "ExecuteTime": {
     "end_time": "2025-03-02T13:23:50.301527Z",
     "start_time": "2025-03-02T13:23:50.296720Z"
    }
   },
   "source": [
    "grader.check(\"qB.2\")"
   ],
   "outputs": [
    {
     "data": {
      "text/plain": [
       "qB.2 results: All test cases passed!"
      ],
      "text/html": [
       "<p><strong><pre style='display: inline;'>qB.2</pre></strong> passed! 🌈</p>"
      ]
     },
     "execution_count": 672,
     "metadata": {},
     "output_type": "execute_result"
    }
   ],
   "execution_count": 672
  },
  {
   "cell_type": "markdown",
   "metadata": {
    "deletable": false,
    "editable": false
   },
   "source": [
    "<!-- END QUESTION -->\n",
    "\n",
    "<!-- BEGIN QUESTION -->\n",
    "\n",
    "### **Question 3.** \n",
    "State which of the above metrics are admissable. If they are not admissable, find a pair of polygons that overestimate the actual cost. Otherwise, explain why the heuristic will never overestimate the cost. Give your answer in the format described by the type definition."
   ]
  },
  {
   "cell_type": "code",
   "metadata": {
    "otter": {
     "tests": [
      "qB.3"
     ]
    },
    "tags": [],
    "ExecuteTime": {
     "end_time": "2025-03-02T13:23:50.315667Z",
     "start_time": "2025-03-02T13:23:50.312856Z"
    }
   },
   "source": [
    "difference_is_admissable = ... # True or False\n",
    "difference_counter_example: Tuple[Polygon, Polygon] | str = ... # Explanation if admissable, else tuple of 2 Polygons\n",
    "\n",
    "minimal_is_admissable = ... # True or False\n",
    "minimal_counter_example: Tuple[Polygon, Polygon] | str = ... # Explanation if admissable, else tuple of 2 Polygons\n",
    "\n",
    "centroid_is_admissable = ... # True or False\n",
    "centroid_counter_example: Tuple[Polygon, Polygon] | str = ... # Explanation if admissable, else tuple of 2 Polygons"
   ],
   "outputs": [],
   "execution_count": 673
  },
  {
   "cell_type": "markdown",
   "metadata": {
    "deletable": false,
    "editable": false
   },
   "source": [
    "<!-- END QUESTION -->\n",
    "\n",
    "<!-- BEGIN QUESTION -->\n",
    "\n",
    "### **Question 4.**\n",
    "Complete the implementation of the A* algorithm below. The progress bar is optional but is there to help give an indication of how long it will take before all search routes are exhausted."
   ]
  },
  {
   "cell_type": "code",
   "metadata": {
    "tags": [],
    "ExecuteTime": {
     "end_time": "2025-03-02T13:23:50.327704Z",
     "start_time": "2025-03-02T13:23:50.322877Z"
    }
   },
   "source": [
    "from tqdm.notebook import tqdm\n",
    "def a_star(start: Polygon, goal: Polygon, heuristic: Callable[[Polygon, Polygon], float]) -> List[Polygon]:\n",
    "    if len(start.as_list()) != len(goal.as_list()):\n",
    "        raise ValueError(\"Polygons must be of the same size.\")\n",
    "\n",
    "    # Priority queue: elements are tuples (f_score, polygon)\n",
    "    open_set = [(heuristic(start, goal), start)]\n",
    "    heapq.heapify(open_set)\n",
    "\n",
    "    came_from: Dict[Polygon, Polygon] = {}  # Keeps a log of the parent node used to generate the polygon for reconstructing path\n",
    "    g_score: Dict[Polygon, float] = {start: 0}\n",
    "    f_score: Dict[Polygon, float] = {start: heuristic(start, goal)}\n",
    "    \n",
    "    # Create progress bar based on estimated max number of steps\n",
    "    max_steps = cdist(start.as_array(), goal.as_array(), 'cityblock').max(axis=0).sum() \n",
    "    pbar = tqdm(desc='A* Progress', unit='step', total = max_steps)\n",
    "    while open_set:\n",
    "        current_f, current = heapq.heappop(open_set)\n",
    "        # Update progress bar\n",
    "        pbar.n = math.floor(current_f)\n",
    "        pbar.refresh() \n",
    "        \n",
    "        # Check if we have reached the goal\n",
    "        if current == goal:\n",
    "            path = [current] #Reconstruct path\n",
    "            while current in came_from: # Backtrack\n",
    "                current = came_from[current]\n",
    "                path.append(current)\n",
    "            pbar.close()\n",
    "            return path[::-1] #Return path in reverse order\n",
    "        \n",
    "        \n",
    "        for neighbour in current.generate_neighbours():\n",
    "            \n",
    "            #Increment score by one\n",
    "            new_g_score = g_score[current] + 1\n",
    "            \n",
    "            if new_g_score < g_score.get(neighbour, float('inf')): #Assume infinite distance if neighbour has not been \n",
    "                # visited\n",
    "                came_from[neighbour] = current\n",
    "                g_score[neighbour] = new_g_score\n",
    "                f_score[neighbour] = new_g_score + heuristic(neighbour, goal)\n",
    "                heapq.heappush(open_set, (f_score[neighbour], neighbour))\n",
    "    pbar.close()\n",
    "    return []  # return an empty list if no path is found"
   ],
   "outputs": [],
   "execution_count": 674
  },
  {
   "cell_type": "code",
   "metadata": {
    "deletable": false,
    "editable": false,
    "ExecuteTime": {
     "end_time": "2025-03-02T13:23:50.346709Z",
     "start_time": "2025-03-02T13:23:50.338475Z"
    }
   },
   "source": [
    "grader.check(\"qB.4\")"
   ],
   "outputs": [
    {
     "data": {
      "text/plain": [
       "A* Progress:   0%|          | 0/4.0 [00:00<?, ?step/s]"
      ],
      "application/vnd.jupyter.widget-view+json": {
       "version_major": 2,
       "version_minor": 0,
       "model_id": "0357ae61ac61475bae1af7fcaa32b888"
      }
     },
     "metadata": {},
     "output_type": "display_data"
    },
    {
     "data": {
      "text/plain": [
       "qB.4 results: All test cases passed!"
      ],
      "text/html": [
       "<p><strong><pre style='display: inline;'>qB.4</pre></strong> passed! 🍀</p>"
      ]
     },
     "execution_count": 675,
     "metadata": {},
     "output_type": "execute_result"
    }
   ],
   "execution_count": 675
  },
  {
   "cell_type": "markdown",
   "metadata": {
    "deletable": false,
    "editable": false
   },
   "source": [
    "<!-- END QUESTION -->\n",
    "\n",
    "<!-- BEGIN QUESTION -->\n",
    "\n",
    "### **Question 5.** \n",
    "Now, we want to create polygons that do not contain self-intersections. Complete the ```intersecting_lines``` and ```_detect_intersection``` methods. You may define helper methods as needed."
   ]
  },
  {
   "cell_type": "code",
   "metadata": {
    "tags": [],
    "ExecuteTime": {
     "end_time": "2025-03-02T13:23:50.361302Z",
     "start_time": "2025-03-02T13:23:50.357290Z"
    }
   },
   "source": [
    "class NonIntersectingPolygon(Polygon):\n",
    "\n",
    "    @staticmethod\n",
    "    def intersecting_lines(l1: Tuple[Point, Point], l2: Tuple[Point, Point]) -> bool:\n",
    "        \"\"\"Checks whether two line segments (a, b) and (r, q) intersect.\"\"\"\n",
    "        ...\n",
    "\n",
    "    def _detect_intersection(self) -> bool:\n",
    "        \"\"\"Checks whether the current polygon has any intersecting lines.\"\"\"\n",
    "        ...\n",
    "\n",
    "    def __init__(self, coordinates: Union[List[Tuple[int, int]], List[Point]]):\n",
    "        super(NonIntersectingPolygon, self).__init__(coordinates)\n",
    "        if self._detect_intersection():\n",
    "            raise ValueError(\"These points result in intersecting lines.\")\n",
    "    \n",
    "    def generate_neighbours(self):\n",
    "        polygons = super(NonIntersectingPolygon, self).generate_neighbours()\n",
    "        non_intersecting_polygons = []\n",
    "        for polygon in polygons:\n",
    "            try:\n",
    "                non_intersecting_polygons.append(NonIntersectingPolygon(polygon.points))\n",
    "            except ValueError:\n",
    "                continue\n",
    "        return non_intersecting_polygons\n"
   ],
   "outputs": [],
   "execution_count": 676
  },
  {
   "cell_type": "code",
   "metadata": {
    "deletable": false,
    "editable": false,
    "ExecuteTime": {
     "end_time": "2025-03-02T13:23:50.378136Z",
     "start_time": "2025-03-02T13:23:50.371960Z"
    }
   },
   "source": [
    "grader.check(\"qB.5\")"
   ],
   "outputs": [
    {
     "data": {
      "text/plain": [
       "qB.5 results:\n",
       "    qB.5 - 1 result:\n",
       "        ❌ Test case failed\n",
       "        Error at line 12 in test qB.5:\n",
       "              assert NonIntersectingPolygon.intersecting_lines(line_1, line_2) == True\n",
       "        AssertionError:\n",
       "\n",
       "    qB.5 - 2 result:\n",
       "        ✅ Test case passed"
      ],
      "text/html": [
       "<p><strong style='color: red;'><pre style='display: inline;'>qB.5</pre> results:</strong></p><p><strong><pre style='display: inline;'>qB.5 - 1</pre> result:</strong></p><pre>    ❌ Test case failed\n",
       "    Error at line 12 in test qB.5:\n",
       "          assert NonIntersectingPolygon.intersecting_lines(line_1, line_2) == True\n",
       "    AssertionError: </pre><p><strong><pre style='display: inline;'>qB.5 - 2</pre> result:</strong></p><pre>    ✅ Test case passed</pre>"
      ]
     },
     "execution_count": 677,
     "metadata": {},
     "output_type": "execute_result"
    }
   ],
   "execution_count": 677
  },
  {
   "cell_type": "markdown",
   "metadata": {
    "deletable": false,
    "editable": false
   },
   "source": [
    "<!-- END QUESTION -->\n",
    "\n",
    "<!-- BEGIN QUESTION -->\n",
    "\n",
    "### **Question 6.**\n",
    "Using the helper functions below, create a set of animations. How does the choice of heuristic, NonIntersectingPolygon vs standard Polygon and the shapes of the polygons affect the search algorithm?"
   ]
  },
  {
   "cell_type": "code",
   "metadata": {
    "deletable": false,
    "editable": false,
    "ExecuteTime": {
     "end_time": "2025-03-02T13:23:50.397023Z",
     "start_time": "2025-03-02T13:23:50.389241Z"
    }
   },
   "source": [
    "import matplotlib.patches as patches\n",
    "import matplotlib.pyplot as plt\n",
    "import matplotlib.animation as animation\n",
    "\n",
    "%matplotlib widget\n",
    "\n",
    "def plot_polygon(ax, polygon, color='blue'):\n",
    "    \"\"\"Helper function to plot a single polygon on given axes.\"\"\"\n",
    "    # Creating the patches for each point in the polygon (assuming ordered points)\n",
    "    for i in range(len(polygon)):\n",
    "        next_point = polygon[(i + 1) % len(polygon)]\n",
    "        xs, ys = zip(*[polygon[i], next_point])\n",
    "        ax.plot(xs, ys, marker='o', color=color)\n",
    "\n",
    "def animate_transformation(path: List[Polygon]):\n",
    "    \"\"\"Animates the transformation from start to goal polygon using the path provided.\"\"\"\n",
    "    fig, ax = plt.subplots()\n",
    "    \n",
    "    # Set limits and aspect\n",
    "    ax.set_xlim(-GRID_SIZE, GRID_SIZE)\n",
    "    ax.set_ylim(-GRID_SIZE, GRID_SIZE)\n",
    "    ax.set_aspect('equal')\n",
    "    \n",
    "    \n",
    "    # Artists to update in the animation\n",
    "    artists = []\n",
    "\n",
    "    def init():\n",
    "        # Initialize the plot elements\n",
    "        ax.clear()\n",
    "        ax.set_xlim(-GRID_SIZE, GRID_SIZE)\n",
    "        ax.set_ylim(-GRID_SIZE, GRID_SIZE)\n",
    "        return artists\n",
    "\n",
    "    def update(frame):\n",
    "        # This function will be called for each frame of the animation\n",
    "        ax.clear()\n",
    "        ax.set_xlim(-GRID_SIZE, GRID_SIZE)\n",
    "        ax.set_ylim(-GRID_SIZE, GRID_SIZE)\n",
    "        polygon = path[frame]\n",
    "        plot_polygon(ax, polygon.as_array(), color='blue')\n",
    "\n",
    "        return artists\n",
    "    \n",
    "    ani = animation.FuncAnimation(fig, update, frames=len(path), init_func=init,\n",
    "                                  blit=False, interval=500, repeat=True)\n",
    "\n",
    "    # Display animation\n",
    "    plt.show()\n",
    "    return ani\n"
   ],
   "outputs": [],
   "execution_count": 678
  },
  {
   "cell_type": "code",
   "metadata": {
    "ExecuteTime": {
     "end_time": "2025-03-02T13:23:51.294586Z",
     "start_time": "2025-03-02T13:23:50.403288Z"
    }
   },
   "source": [
    "import timeit # To help you measure the runtime if you find it useful\n",
    "\n",
    "# Example usage, this may take a little while to run [took about 10 minutes for me 💀]. Probably better to use smaller polygons\n",
    "\n",
    "start_polygon = Polygon([(1, 1), (3, 0), (1, -1), (0, -3), (-1, -1), (-3, 0), (-1, 1), (0, 3)])\n",
    "goal_polygon = Polygon([(1, 4), (2, 2), (2, 0), (1, -2), (-1, -2), (-2, 0), (-2, 2), (-1, 4)])\n",
    "\n",
    "# A fancy heuristic to speed up the search\n",
    "def fancy_heuristic(a, b):\n",
    "    a = a.as_array()\n",
    "    b = b.as_array()\n",
    "    distance_matrix = cdist(a,b, 'cityblock')\n",
    "    sum = 0\n",
    "    for i in range(distance_matrix.shape[0]):\n",
    "        j = distance_matrix[i].argmin()\n",
    "        sum += distance_matrix[i, j]\n",
    "        distance_matrix = np.delete(distance_matrix, j, axis=1)\n",
    "    return sum\n",
    "\n",
    "transformation_path = a_star(start_polygon, goal_polygon, fancy_heuristic)\n",
    "ani = animate_transformation(transformation_path)\n"
   ],
   "outputs": [
    {
     "data": {
      "text/plain": [
       "A* Progress:   0%|          | 0/52.0 [00:00<?, ?step/s]"
      ],
      "application/vnd.jupyter.widget-view+json": {
       "version_major": 2,
       "version_minor": 0,
       "model_id": "d3fc6c2ddca042c1b31ff69c08f9fa29"
      }
     },
     "metadata": {},
     "output_type": "display_data"
    },
    {
     "data": {
      "text/plain": [
       "Canvas(toolbar=Toolbar(toolitems=[('Home', 'Reset original view', 'home', 'home'), ('Back', 'Back to previous …"
      ],
      "image/png": "[encoded data removed]",
      "text/html": [
       "\n",
       "            <div style=\"display: inline-block;\">\n",
       "                <div class=\"jupyter-widgets widget-label\" style=\"text-align: center;\">\n",
       "                    Figure\n",
       "                </div>\n",
       "                <img src='data:image/png;base64,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' width=640.0/>\n",
       "            </div>\n",
       "        "
      ],
      "application/vnd.jupyter.widget-view+json": {
       "version_major": 2,
       "version_minor": 0,
       "model_id": "54bf22773ab44c0fbf566215b539386e"
      }
     },
     "metadata": {},
     "output_type": "display_data"
    },
    {
     "name": "stderr",
     "output_type": "stream",
     "text": [
      "/Users/zoesztandke/Library/Mobile Documents/com~apple~CloudDocs/year 2/ra/cw1/venv/lib/python3.11/site-packages/matplotlib/animation.py:908: UserWarning: Animation was deleted without rendering anything. This is most likely not intended. To prevent deletion, assign the Animation to a variable, e.g. `anim`, that exists until you output the Animation using `plt.show()` or `anim.save()`.\n",
      "  warnings.warn(\n"
     ]
    }
   ],
   "execution_count": 679
  },
  {
   "cell_type": "markdown",
   "metadata": {},
   "source": [
    "_Discuss your findings here..._"
   ]
  },
  {
   "cell_type": "markdown",
   "metadata": {
    "deletable": false,
    "editable": false
   },
   "source": [
    "<!-- END QUESTION -->\n",
    "\n"
   ]
  },
  {
   "cell_type": "markdown",
   "metadata": {
    "deletable": false,
    "editable": false
   },
   "source": [
    "---\n",
    "\n",
    "To double-check your work, the cell below will rerun all of the autograder tests."
   ]
  },
  {
   "cell_type": "code",
   "metadata": {
    "deletable": false,
    "editable": false,
    "ExecuteTime": {
     "end_time": "2025-03-02T13:23:51.435082Z",
     "start_time": "2025-03-02T13:23:51.301374Z"
    }
   },
   "source": [
    "grader.check_all()"
   ],
   "outputs": [
    {
     "data": {
      "text/plain": [
       "A* Progress:   0%|          | 0/4.0 [00:00<?, ?step/s]"
      ],
      "application/vnd.jupyter.widget-view+json": {
       "version_major": 2,
       "version_minor": 0,
       "model_id": "c42f64f3282f42cb8bb26d87c8d7ff89"
      }
     },
     "metadata": {},
     "output_type": "display_data"
    },
    {
     "data": {
      "text/plain": [
       "qA.1 results: All test cases passed!\n",
       "\n",
       "qA.2 results: All test cases passed!\n",
       "\n",
       "qA.3 results: All test cases passed!\n",
       "\n",
       "qA.4 results: All test cases passed!\n",
       "\n",
       "qB.1 results: All test cases passed!\n",
       "\n",
       "qB.2 results: All test cases passed!\n",
       "\n",
       "qB.3 results: All test cases passed!\n",
       "\n",
       "qB.4 results: All test cases passed!\n",
       "\n",
       "qB.5 results:\n",
       "    qB.5 - 1 result:\n",
       "        ❌ Test case failed\n",
       "        Error at line 12 in test qB.5:\n",
       "              assert NonIntersectingPolygon.intersecting_lines(line_1, line_2) == True\n",
       "        AssertionError:\n",
       "\n",
       "    qB.5 - 2 result:\n",
       "        ✅ Test case passed"
      ]
     },
     "execution_count": 680,
     "metadata": {},
     "output_type": "execute_result"
    }
   ],
   "execution_count": 680
  },
  {
   "cell_type": "markdown",
   "metadata": {
    "deletable": false,
    "editable": false
   },
   "source": [
    "## Submission\n",
    "\n",
    "Make sure you have run all cells in your notebook in order before running the cell below, so that all images/graphs appear in the output. The cell below will generate a zip file for you to submit. **Please save before exporting!**"
   ]
  },
  {
   "cell_type": "code",
   "metadata": {
    "deletable": false,
    "editable": false,
    "ExecuteTime": {
     "end_time": "2025-03-02T13:23:51.633367Z",
     "start_time": "2025-03-02T13:23:51.464349Z"
    }
   },
   "source": [
    "# Save your notebook first, then run this cell to export your submission.\n",
    "grader.export(run_tests=True)"
   ],
   "outputs": [
    {
     "name": "stderr",
     "output_type": "stream",
     "text": [
      "/Users/zoesztandke/Library/Mobile Documents/com~apple~CloudDocs/year 2/ra/cw1/venv/lib/python3.11/site-packages/otter/check/notebook.py:493: UserWarning: Could not locate a PDF to include\n",
      "  warnings.warn(\"Could not locate a PDF to include\")\n"
     ]
    },
    {
     "data": {
      "text/plain": [
       "VBox(children=(HTML(value='<p style=\"margin: 0\">Your notebook could not be exported as a PDF. To continue expo…"
      ],
      "application/vnd.jupyter.widget-view+json": {
       "version_major": 2,
       "version_minor": 0,
       "model_id": "2b358e8c64d840aaae36ef452aee5a6e"
      }
     },
     "metadata": {},
     "output_type": "display_data"
    }
   ],
   "execution_count": 681
  },
  {
   "cell_type": "markdown",
   "metadata": {},
   "source": [
    " "
   ]
  }
 ],
 "metadata": {
  "kernelspec": {
   "display_name": "inf2d",
   "language": "python",
   "name": "python3"
  },
  "language_info": {
   "codemirror_mode": {
    "name": "ipython",
    "version": 3
   },
   "file_extension": ".py",
   "mimetype": "text/x-python",
   "name": "python",
   "nbconvert_exporter": "python",
   "pygments_lexer": "ipython3",
   "version": "3.11.11"
  },
  "otter": {
   "OK_FORMAT": false,
   "assignment_name": "CW1",
   "export_pdf_failure_message": null,
   "require_no_pdf_confirmation": true,
   "tests": {
    "qA.1": "from otter.test_files import test_case\n\nOK_FORMAT = False\n\nname = \"qA.1\"\npoints = 10\n\n@test_case(points=2, hidden=False)\ndef test_card_equality(Card):\n    assert Card(['a']) == Card(['a'])\n    assert Card(['a', 'b']) != Card(['a'])\n    assert Card(['b', 'a']) == Card(['a', 'b'])\n\n@test_case(points=1, hidden=False)\ndef test_deck_equality(Deck):\n    assert Deck(['a', 'b', 'd']) == Deck(['a', 'b', 'd'])\n    assert Deck(['a', 'b', 'c', 'd']) != Deck(['a', 'b', 'd'])\n    assert Deck(['a', 'b', 'c', 'd']) == Deck(['d', 'c', 'b', 'a'])\n\n@test_case(points=1, hidden=False)\ndef test_deck_equality_hidden(Deck):\n    assert Deck(['a', 'b', 'd']) == Deck(['a', 'b', 'd'])\n    assert Deck(['a', 'b', 'c', 'd']) != Deck(['a', 'b', 'd'])\n    assert Deck(['a', 'b', 'c', 'd']) == Deck(['d', 'c', 'b', 'a'])\n    assert Deck(['a', 'a', 'b', 'd']) != Deck(['a', 'b', 'd'])\n    assert Deck(['a', 'a', 'b', 'd']) != Deck(['a', 'b', 'd'])\n\n@test_case(points=2, hidden=False)\ndef test_all_configurations(Deck, Card):\n    assert len(Deck.from_all_configurations(list(range(3)), 2).cards) == 3\n    assert len(Deck.from_all_configurations(list(range(22)), 5).cards) == 26334\n    deck = Deck.from_all_configurations(list(range(8)), 4)\n    assert len(deck.cards) == len(set(deck.cards))\n    assert all(map(lambda x: type(x) == Card, deck.cards))\n\n@test_case(points=2, hidden=False)\ndef test_is_valid(Deck, Card):\n    deck = Deck([Card(['a', 'b']), Card(['a', 'd'])])\n    assert deck.is_valid() == True\n    deck = Deck([Card(['a', 'b']), Card(['a', 'd']), Card(['d', 'b'])])\n    assert deck.is_valid() == True\n    deck = Deck([Card(['a', 'b']), Card(['a', 'd']), Card(['d', 'b']), Card(['a', 'd'])])\n    assert deck.is_valid() == False\n\n@test_case(points=2, hidden=False)\ndef test_is_valid_hidden(Deck, Card):\n    deck = Deck([Card(['a', 'b', 'c']), Card(['a', 'd', 'e']), Card(['a', 'f', 'g']), Card(['a', 'h', 'i'])])\n    assert deck.is_valid() == True\n    deck = Deck([Card(['a', 'b', 'c']), Card(['b', 'd', 'e']), Card(['c', 'd', 'g']), Card(['d', 'a', 'j'])])\n    assert deck.is_valid() == True\n    deck = Deck([Card(['a', 'b', 'c']), Card(['b', 'd', 'e']), Card(['c', 'd', 'g']), Card(['d', 'a', 'c'])])\n    assert deck.is_valid() == False\n\n",
    "qA.2": "from otter.test_files import test_case\n\nOK_FORMAT = False\n\nname = \"qA.2\"\npoints = 10\n\n@test_case(points=2, hidden=False)\ndef test_shared_symbol_hidden(SharedSymbolConstraint, Card):\n    assignment = {'a': Card(['cat', 'dog', 'chicken']), 'b': Card(['dog', 'donkey', 'chicken']), 'c': Card(['monkey', 'worm', 'chicken'])}\n    constraint = SharedSymbolConstraint(('a', 'b'))\n    assert constraint.satisfied(assignment) == False\n    constraint = SharedSymbolConstraint(('a', 'c'))\n    assert constraint.satisfied(assignment) == True\n    constraint = SharedSymbolConstraint(('b', 'c'))\n    assert constraint.satisfied(assignment) == True\n\n@test_case(points=2, hidden=False)\ndef test_shared_n_symbols(SharingNSymbolsConstraint, Card):\n    assignment = {'a': Card(['cat', 'dog', 'monkey', 'rat']), 'b': Card(['dog', 'donkey', 'cat', 'chicken']), 'c': Card(['monkey', 'chicken', 'fish', 'duck'])}\n    constraint = SharingNSymbolsConstraint(('a', 'b'), 2)\n    assert constraint.satisfied(assignment) == True\n    constraint = SharingNSymbolsConstraint(('a', 'c'), 1)\n    assert constraint.satisfied(assignment) == True\n    constraint = SharingNSymbolsConstraint(('b', 'c'), 3)\n    assert constraint.satisfied(assignment) == False\n\n",
    "qA.3": "from otter.test_files import test_case\n\nOK_FORMAT = False\n\nname = \"qA.3\"\npoints = 12\n\n@test_case(points=None, hidden=False)\ndef test_consistency1(CSP, SharedSymbolConstraint, Deck, Card):\n    variables = ['a', 'b', 'c', 'd']\n    symbols = list(range(20))\n    domains = {v: Deck.from_all_configurations(symbols, 4).cards for v in variables}\n    constraints = [SharedSymbolConstraint(('a', 'b')), SharedSymbolConstraint(('b', 'c')), SharedSymbolConstraint(('a', 'd'))]\n    csp = CSP(variables, domains, constraints)\n    assignment = {'a': Card([1, 2, 4, 5]), 'b': Card([2, 7, 8, 9])}\n    assert csp.consistent('a', assignment) == True\n\n@test_case(points=4, hidden=False)\ndef test_backtrack(CSP, SharedSymbolConstraint, Deck):\n    symbols = list(range(8))\n    variables = ['X', 'Y']\n    domains = {v: Deck.from_all_configurations(symbols, 4).cards for v in variables}\n    constraints = [SharedSymbolConstraint(('X', 'Y'))]\n    csp = CSP(variables, domains, constraints)\n    solution = csp.solve()\n    assert solution != None\n    assert Deck(list(solution.values())).is_valid()\n\n",
    "qA.4": "from otter.test_files import test_case\n\nOK_FORMAT = False\n\nname = \"qA.4\"\npoints = 5\n\n@test_case(points=1, hidden=False)\ndef test_inputs(variables, domains):\n    assert all((isinstance(x, str) for x in variables))\n    assert len(domains) == len(variables)\n    assert domains[variables[0]] is not domains[variables[1]]\n\n",
    "qB.1": "from otter.test_files import test_case\n\nOK_FORMAT = False\n\nname = \"qB.1\"\npoints = 8\n\n@test_case(points=1, hidden=False)\ndef test_hash_easy(Polygon):\n    shape_1 = Polygon([(0, 1), (1, 1), (1, -1)])\n    shape_2 = Polygon([(1, 1), (1, -1), (0, 1)])\n    assert hash(shape_1) == hash(shape_2)\n\n@test_case(points=1, hidden=False)\ndef test_eq_easy(Polygon):\n    shape_1 = Polygon([(0, 1), (1, 1), (1, -1)])\n    shape_2 = Polygon([(1, 1), (1, -1), (0, 1)])\n    assert shape_1 == shape_2\n\n@test_case(points=1, hidden=False)\ndef test_adjacent_points_easy(Polygon):\n    shape_1 = Polygon([(0, 1)])\n    neighbours = shape_1.generate_neighbours()\n    assert len(neighbours) == 4\n    assert shape_1 not in neighbours\n\n@test_case(points=1, hidden=False)\ndef test_adjacent_points_med(Polygon):\n    shape_1 = Polygon([(0, 1), (4, 1)])\n    neighbours = shape_1.generate_neighbours()\n    assert len(neighbours) == 7\n    assert shape_1 not in neighbours\n\n",
    "qB.2": "from otter.test_files import test_case\n\nOK_FORMAT = False\n\nname = \"qB.2\"\npoints = 4\n\n@test_case(points=None, hidden=False)\ndef test_difference(Polygon, difference):\n    a = Polygon([(0, 1), (1, 1)])\n    b = Polygon([(0, 0), (1, 0)])\n    assert difference(a, b) == 4\n\n@test_case(points=None, hidden=False)\ndef test_minimal(Polygon, minimal):\n    a = Polygon([(0, 1), (4, 0), (4, 1)])\n    b = Polygon([(0, 0), (1, 0), (4, 1)])\n    assert minimal(a, b) == 2.0\n\n@test_case(points=None, hidden=False)\ndef test_centroid(Polygon, centroid):\n    import numpy as np\n    a = Polygon([(0, 1), (4, 0), (4, 1)])\n    b = Polygon([(0, 0), (1, 0), (4, 1)])\n    assert np.isclose(centroid(a, b), 1.0541)\n\n",
    "qB.3": "from otter.test_files import test_case\n\nOK_FORMAT = False\n\nname = \"qB.3\"\npoints = 4\n\n",
    "qB.4": "from otter.test_files import test_case\n\nOK_FORMAT = False\n\nname = \"qB.4\"\npoints = 10\n\n@test_case(points=None, hidden=False)\ndef test_polygons_easy(a_star, Polygon):\n    from scipy.spatial.distance import cdist\n    simple_heuristic = lambda a, b: cdist(a.as_array(), b.as_array()).min(axis=0).sum()\n    start = Polygon([(0, 0), (0, 1)])\n    goal = Polygon([(1, 0), (1, 1)])\n    solution = a_star(start, goal, simple_heuristic)\n    assert len(solution) == 3\n\n",
    "qB.5": "from otter.test_files import test_case\n\nOK_FORMAT = False\n\nname = \"qB.5\"\npoints = 10\n\n@test_case(points=None, hidden=False)\ndef test_intersecting_lines(NonIntersectingPolygon, Point):\n    line_1 = (Point(0, 2), Point(2, 0))\n    line_2 = (Point(0, 1), Point(1, 4))\n    assert NonIntersectingPolygon.intersecting_lines(line_1, line_2) == True\n\n@test_case(points=None, hidden=False)\ndef test_intersecting_polygons(NonIntersectingPolygon, Point, Polygon):\n    try:\n        NonIntersectingPolygon([(-2, -2), (-2, 2), (2, 2), (1, -2)])\n    except ValueError:\n        assert False\n    else:\n        assert True\n\n"
   }
  }
 },
 "nbformat": 4,
 "nbformat_minor": 2
}
