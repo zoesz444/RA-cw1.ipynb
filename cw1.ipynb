{
 "cells": [
  {
   "cell_type": "code",
   "metadata": {
    "deletable": false,
    "editable": false,
    "ExecuteTime": {
     "end_time": "2025-02-26T12:19:48.605871Z",
     "start_time": "2025-02-26T12:19:47.685668Z"
    }
   },
   "source": [
    "# Initialize Otter\n",
    "import otter\n",
    "grader = otter.Notebook(\"cw1.ipynb\")"
   ],
   "outputs": [],
   "execution_count": 1
  },
  {
   "cell_type": "code",
   "metadata": {
    "ExecuteTime": {
     "end_time": "2025-02-26T12:19:48.617447Z",
     "start_time": "2025-02-26T12:19:48.615545Z"
    }
   },
   "source": [
    "import itertools\n",
    "from collections import defaultdict, Counter\n",
    "from typing import List, Tuple, Dict, Self, Any, Callable\n",
    "from abc import ABC\n",
    "import math\n",
    "\n",
    "# test"
   ],
   "outputs": [],
   "execution_count": 2
  },
  {
   "cell_type": "markdown",
   "metadata": {},
   "source": [
    "# Part A: CSP\n",
    "\n",
    "This part of the assignment will ask you to construct a set of cards for Dobble using CSP algorithms. Dobble is a card game with 55 cards, each printed with 8 symbols. In each round of Dobble, each player is handed a card face up with a pile of cards in the middle facing down. When the top card in the middle pile is flipped, players must race to call out the symbol on the middle card that matches a symbol in their hand. \n",
    "\n",
    "The game works because the cards have the special property that each pair of cards share exactly one symbol between them. Some fancy maths tells us that given $n$ symbols per card, a Dobble deck will require exactly $k = n^2 - n + 1$ cards and symbols.  "
   ]
  },
  {
   "cell_type": "markdown",
   "metadata": {
    "deletable": false,
    "editable": false
   },
   "source": [
    "<!-- BEGIN QUESTION -->\n",
    "\n",
    "### **Question 1.** \n",
    "Complete the following class methods for the ```Card``` and ```Deck``` classes. The methods you are expected to complete are ```Card.__eq__```, ```Deck.__eq__```, ```Deck.from_all_combinations```, ```Deck.is_valid```."
   ]
  },
  {
   "cell_type": "code",
   "metadata": {
    "tags": [],
    "ExecuteTime": {
     "end_time": "2025-02-26T12:19:48.623316Z",
     "start_time": "2025-02-26T12:19:48.620768Z"
    }
   },
   "source": [
    "def generate_symbols(num_symbols: int) -> List[str]:\n",
    "    return [f\"Symbol_{i}\" for i in range(n)]\n",
    "\n",
    "class Card:\n",
    "    def __init__(self, symbols: List[str]):\n",
    "        self.symbols = set(symbols)\n",
    "    \n",
    "    def __hash__(self):\n",
    "        \"\"\"\n",
    "        Hash function that is compatible with card equality.\n",
    "        \"\"\"\n",
    "        sorted_symbols = tuple(sorted(self.symbols))\n",
    "        return hash(sorted_symbols)\n",
    "    \n",
    "    def __eq__(self, other: Self) -> bool:\n",
    "        \"\"\"\n",
    "        Check if two cards are the same.\n",
    "        \"\"\"\n",
    "        # ...\n",
    "        return self.symbols == other.symbols"
   ],
   "outputs": [],
   "execution_count": 3
  },
  {
   "cell_type": "code",
   "metadata": {
    "tags": [],
    "ExecuteTime": {
     "end_time": "2025-02-26T12:19:49.497192Z",
     "start_time": "2025-02-26T12:19:49.493940Z"
    }
   },
   "source": [
    "class Deck:\n",
    "    def __init__(self, cards: List[Card] = []):\n",
    "        self.cards: List[Card] = cards \n",
    "    \n",
    "    def __eq__(self, other: Self) -> bool:\n",
    "        \"\"\"Equality test: two Decks are equal if one is a permutation of the other.\"\"\"\n",
    "        # ...\n",
    "        return Counter(self.cards) == Counter(other.cards)\n",
    "\n",
    "    def from_all_configurations(symbols, symbols_per_card) -> Self:\n",
    "        \"\"\"\n",
    "        Return a deck containing all possible dobble cards from a set of symbols. This is not a valid dobble set.\n",
    "        \"\"\"\n",
    "        # ...\n",
    "        cards = []\n",
    "        \n",
    "        for combination in itertools.combinations(symbols, symbols_per_card):\n",
    "            card = Card(combination)\n",
    "            cards.append(card)\n",
    "            \n",
    "        return Deck(cards)\n",
    "    \n",
    "    \n",
    "    def is_valid(self) -> bool:\n",
    "        \"\"\"\n",
    "        Check if the deck is a valid dobble deck.\n",
    "        \"\"\"\n",
    "        # ...\n",
    "        for i, card in enumerate(self.cards):\n",
    "            for j, other_card in enumerate(self.cards):\n",
    "                if i == j:\n",
    "                    continue\n",
    "                if card == other_card or len(card.symbols.intersection(other_card.symbols)) != 1:\n",
    "                    return False\n",
    "        return True\n",
    "    \n",
    "\n",
    "    def __iter__(self):\n",
    "        \"\"\"Allow iteration through a deck\"\"\"\n",
    "        return iter(self.cards)"
   ],
   "outputs": [],
   "execution_count": 4
  },
  {
   "cell_type": "code",
   "metadata": {
    "deletable": false,
    "editable": false,
    "ExecuteTime": {
     "end_time": "2025-02-26T12:19:50.287778Z",
     "start_time": "2025-02-26T12:19:50.261901Z"
    }
   },
   "source": [
    "grader.check(\"qA.1\")"
   ],
   "outputs": [
    {
     "data": {
      "text/plain": [
       "qA.1 results: All test cases passed!"
      ],
      "text/html": [
       "<p><strong><pre style='display: inline;'>qA.1</pre></strong> passed! ✨</p>"
      ]
     },
     "execution_count": 5,
     "metadata": {},
     "output_type": "execute_result"
    }
   ],
   "execution_count": 5
  },
  {
   "cell_type": "markdown",
   "metadata": {
    "deletable": false,
    "editable": false
   },
   "source": [
    "<!-- END QUESTION -->\n",
    "\n",
    "<!-- BEGIN QUESTION -->\n",
    "\n",
    "### **Question 2.** \n",
    "Complete the ```satisfied``` method for ```SharedSymbolConstraint``` and ```SharingNSymbolsConstraint```."
   ]
  },
  {
   "cell_type": "code",
   "metadata": {
    "tags": [],
    "ExecuteTime": {
     "end_time": "2025-02-26T12:19:51.820763Z",
     "start_time": "2025-02-26T12:19:51.817171Z"
    }
   },
   "source": [
    "class Constraint(ABC):\n",
    "    # This is an abstract class, nothing to implement here.\n",
    "    def __init__(self, cards: Tuple[str, str]):\n",
    "        self.cards = cards\n",
    "\n",
    "    def satisfied(self, assignment: Dict[str, Card]) -> bool:\n",
    "        raise NotImplementedError\n",
    "    \n",
    "class SharedSymbolConstraint(Constraint):\n",
    "    \"\"\"This constraint checks to see if two cards share exactly one symbol.\"\"\"\n",
    "    def __init__(self, cards):\n",
    "        super(SharedSymbolConstraint, self).__init__(cards)\n",
    "    \n",
    "    def satisfied(self, assignment: Dict[str, Card]) -> bool:\n",
    "        #...\n",
    "        id1, id2 = self.cards\n",
    "        \n",
    "        card1, card2 = assignment[id1], assignment[id2]\n",
    "        \n",
    "        if card1 == card2:\n",
    "            return False\n",
    "        elif len(card1.symbols.intersection(card2.symbols)) != 1:\n",
    "            return False\n",
    "        else:\n",
    "            return True\n",
    "\n",
    "class SharingNSymbolsConstraint(Constraint):\n",
    "    \"\"\"This constraint checks to see if two cards share exactly N symbols.\"\"\"\n",
    "    def __init__(self, cards, N:int):\n",
    "        super(SharingNSymbolsConstraint, self).__init__(cards)\n",
    "        self.N = N\n",
    "\n",
    "    def satisfied(self, assignment: Dict[str, Card]) -> bool:\n",
    "        #...\n",
    "        id1, id2 = self.cards\n",
    "        \n",
    "        card1, card2 = assignment[id1], assignment[id2]\n",
    "        \n",
    "        if card1 == card2:\n",
    "            return False\n",
    "        elif len(card1.symbols.intersection(card2.symbols)) != self.N:\n",
    "            return False\n",
    "        else:\n",
    "            return True"
   ],
   "outputs": [],
   "execution_count": 6
  },
  {
   "cell_type": "code",
   "metadata": {
    "deletable": false,
    "editable": false,
    "ExecuteTime": {
     "end_time": "2025-02-26T12:19:52.812338Z",
     "start_time": "2025-02-26T12:19:52.806608Z"
    }
   },
   "source": [
    "grader.check(\"qA.2\")"
   ],
   "outputs": [
    {
     "data": {
      "text/plain": [
       "qA.2 results: All test cases passed!"
      ],
      "text/html": [
       "<p><strong><pre style='display: inline;'>qA.2</pre></strong> passed! 🌈</p>"
      ]
     },
     "execution_count": 7,
     "metadata": {},
     "output_type": "execute_result"
    }
   ],
   "execution_count": 7
  },
  {
   "cell_type": "markdown",
   "metadata": {
    "deletable": false,
    "editable": false,
    "vscode": {
     "languageId": "raw"
    }
   },
   "source": [
    "<!-- END QUESTION -->\n",
    "\n",
    "<!-- BEGIN QUESTION -->\n",
    "\n",
    "### **Question 3.** \n",
    "The CSP class is defined by a list of variable names, a dictionary of domains for each variable, and a list of constraints. Complete the ```consistent``` and ```backtrack``` methods for ```CSP```."
   ]
  },
  {
   "cell_type": "code",
   "metadata": {
    "tags": [],
    "ExecuteTime": {
     "end_time": "2025-02-26T13:52:45.665474Z",
     "start_time": "2025-02-26T13:52:45.659863Z"
    }
   },
   "source": [
    "class CSP:\n",
    "    def __init__(self, variables: List[str], domains: Dict[str, List[Card]], constraints: List[Constraint]):\n",
    "        self.variables: List[str] = variables\n",
    "        self.domains: Dict[str, Any] = domains\n",
    "\n",
    "        # Store constraints in a dict for easier lookup during search\n",
    "        self.constraints = defaultdict(list)\n",
    "        for constraint in constraints:\n",
    "            variable1, variable2 = constraint.cards\n",
    "            self.constraints[variable1].append(constraint)\n",
    "            self.constraints[variable2].append(constraint) \n",
    "            \n",
    "    def consistent(self, variable: str, assignment: Dict[str, Card]) -> bool:\n",
    "        \"\"\"Return true if the assignment of variable is consistent with the constraints\"\"\"\n",
    "        ...\n",
    "        \n",
    "    \n",
    "\n",
    "    def backtrack(self, assignment: Dict[str, Card]) -> Dict[str, Card]:\n",
    "        \"\"\"Recursive function that performs assigns a value to the next unassigned card \"\"\"\n",
    "        if len(assignment) == len(self.variables): # Return if all variables have been assigned\n",
    "            return assignment\n",
    "\n",
    "            # Set 'first' to be the first unassigned variable\n",
    "            first = \n",
    "\n",
    "        for value in self.domains[first]:\n",
    "            ...\n",
    "\n",
    "        return None\n",
    "\n",
    "    def solve(self):\n",
    "        return self.backtrack({})\n"
   ],
   "outputs": [
    {
     "ename": "SyntaxError",
     "evalue": "invalid syntax (3488169917.py, line 26)",
     "output_type": "error",
     "traceback": [
      "\u001B[0;36m  Cell \u001B[0;32mIn[13], line 26\u001B[0;36m\u001B[0m\n\u001B[0;31m    first =\u001B[0m\n\u001B[0m            ^\u001B[0m\n\u001B[0;31mSyntaxError\u001B[0m\u001B[0;31m:\u001B[0m invalid syntax\n"
     ]
    }
   ],
   "execution_count": 13
  },
  {
   "cell_type": "code",
   "metadata": {
    "deletable": false,
    "editable": false,
    "ExecuteTime": {
     "end_time": "2025-02-26T13:52:46.906032Z",
     "start_time": "2025-02-26T13:52:46.893113Z"
    }
   },
   "source": [
    "grader.check(\"qA.3\")"
   ],
   "outputs": [
    {
     "data": {
      "text/plain": [
       "qA.3 results:\n",
       "    qA.3 - 1 result:\n",
       "        ❌ Test case failed\n",
       "        Error at line 14 in test qA.3:\n",
       "              csp = CSP(variables, domains, constraints)\n",
       "        TypeError: NoneType' object is not callable\n",
       "\n",
       "    qA.3 - 2 result:\n",
       "        ❌ Test case failed\n",
       "        Error at line 24 in test qA.3:\n",
       "              csp = CSP(variables, domains, constraints)\n",
       "        TypeError: NoneType' object is not callable"
      ],
      "text/html": [
       "<p><strong style='color: red;'><pre style='display: inline;'>qA.3</pre> results:</strong></p><p><strong><pre style='display: inline;'>qA.3 - 1</pre> result:</strong></p><pre>    ❌ Test case failed\n",
       "    Error at line 14 in test qA.3:\n",
       "          csp = CSP(variables, domains, constraints)\n",
       "    TypeError: NoneType' object is not callable</pre><p><strong><pre style='display: inline;'>qA.3 - 2</pre> result:</strong></p><pre>    ❌ Test case failed\n",
       "    Error at line 24 in test qA.3:\n",
       "          csp = CSP(variables, domains, constraints)\n",
       "    TypeError: NoneType' object is not callable</pre>"
      ]
     },
     "execution_count": 14,
     "metadata": {},
     "output_type": "execute_result"
    }
   ],
   "execution_count": 14
  },
  {
   "cell_type": "markdown",
   "metadata": {
    "deletable": false,
    "editable": false
   },
   "source": [
    "<!-- END QUESTION -->\n",
    "\n",
    "<!-- BEGIN QUESTION -->\n",
    "\n",
    "### **Question 4.** \n",
    "Define the set of constraints and run the CSP search to produce a result."
   ]
  },
  {
   "cell_type": "code",
   "execution_count": null,
   "metadata": {
    "deletable": false,
    "editable": false
   },
   "outputs": [],
   "source": [
    "def generate_symbols(num_symbols: int) -> List[str]:\n",
    "    return [f\"Symbol_{i}\" for i in range(num_symbols)]\n",
    "\n",
    "s = 4  # Symbols per card\n",
    "k = int(s*(s+1)/2)  # The total number of unique symbols\n",
    "n = s+1 # number of cards\n"
   ]
  },
  {
   "cell_type": "code",
   "execution_count": null,
   "metadata": {
    "tags": []
   },
   "outputs": [],
   "source": [
    "# Define the variables and domains.\n",
    "variables = ...\n",
    "domains = ...\n",
    "...\n"
   ]
  },
  {
   "cell_type": "code",
   "execution_count": null,
   "metadata": {
    "tags": []
   },
   "outputs": [],
   "source": [
    "# Define the list of constraints between all the cards.\n",
    "\n",
    "constraints = []\n",
    "...\n"
   ]
  },
  {
   "cell_type": "code",
   "execution_count": null,
   "metadata": {
    "deletable": false,
    "editable": false
   },
   "outputs": [],
   "source": [
    "csp = CSP(variables, domains, constraints)\n",
    "solution = csp.solve()\n"
   ]
  },
  {
   "cell_type": "code",
   "execution_count": null,
   "metadata": {
    "deletable": false,
    "editable": false
   },
   "outputs": [],
   "source": [
    "csp.domains"
   ]
  },
  {
   "cell_type": "code",
   "execution_count": null,
   "metadata": {
    "deletable": false,
    "editable": false
   },
   "outputs": [],
   "source": [
    "grader.check(\"qA.4\")"
   ]
  },
  {
   "cell_type": "markdown",
   "metadata": {
    "deletable": false,
    "editable": false,
    "vscode": {
     "languageId": "raw"
    }
   },
   "source": [
    "<!-- END QUESTION -->\n",
    "\n",
    "<!-- BEGIN QUESTION -->\n",
    "\n",
    "### **Question 5.** \n",
    "Produce a set of plots that show how the time taken to find a solution varies against, $n$ the number of symbols per card, $k$ the number of cards in the deck, $s$ number of available symbols and $m$ the number of symbols shared between cards. Don't make your numbers too large since it will take a long time to run. Analyse and discuss your plots."
   ]
  },
  {
   "cell_type": "code",
   "execution_count": null,
   "metadata": {
    "tags": []
   },
   "outputs": [],
   "source": [
    "import timeout_decorator\n",
    "\n",
    "# Define the function to create and solve the CSP problem allowing variables to be varied\n",
    "\n",
    "@timeout_decorator.timeout(60) # This will make sure one search run does not run for more than 60 seconds. You can change this number as needed.\n",
    "def run_csp(n_symbols: int, n_cards: int, symbols_per_card: int, n_shared_symbols: int):\n",
    "    pass"
   ]
  },
  {
   "cell_type": "code",
   "execution_count": null,
   "metadata": {
    "tags": []
   },
   "outputs": [],
   "source": [
    "from matplotlib import pyplot as plt\n",
    "import timeit # This will allow you to calculate runtimes, see https://docs.python.org/3/library/timeit.html for more info\n",
    "\n",
    "# Make your plots here"
   ]
  },
  {
   "cell_type": "markdown",
   "metadata": {},
   "source": [
    "_Discuss your results here... What are the main patterns you notice? Why do the plots look the way they do? What impact do the parameters have on the runtime of the search algorithm?_"
   ]
  },
  {
   "cell_type": "markdown",
   "metadata": {
    "deletable": false,
    "editable": false
   },
   "source": [
    "<!-- END QUESTION -->\n",
    "\n",
    "# Part B: A* Search\n",
    "\n",
    "In this part of the assignment you will be working on some animation! Given two polyons (sets of points in discrete 2D space connected by a line), your task is to create a 'smooth' transition from the first to the second. In order to make the transition, you are only allowed to move a single point at a time to an adjacent point either up or down. In order to find the fewest possible steps to go from the starting polygon to the goal, you will be implementing A* search."
   ]
  },
  {
   "cell_type": "code",
   "metadata": {
    "ExecuteTime": {
     "end_time": "2025-02-26T12:23:06.051259Z",
     "start_time": "2025-02-26T12:23:06.048729Z"
    }
   },
   "source": [
    "import itertools\n",
    "from typing import List, Tuple, Dict, Self, Any, Callable\n",
    "from abc import ABC\n",
    "import heapq\n",
    "from collections import OrderedDict\n",
    "from typing import List, Tuple, Set, Union, Self\n",
    "import numpy as np\n"
   ],
   "outputs": [],
   "execution_count": 9
  },
  {
   "cell_type": "code",
   "metadata": {
    "ExecuteTime": {
     "end_time": "2025-02-26T12:23:07.382743Z",
     "start_time": "2025-02-26T12:23:07.380722Z"
    }
   },
   "source": [
    "GRID_SIZE = 4 # Defines an 8x8 grid"
   ],
   "outputs": [],
   "execution_count": 10
  },
  {
   "cell_type": "markdown",
   "metadata": {
    "deletable": false,
    "editable": false
   },
   "source": [
    "<!-- BEGIN QUESTION -->\n",
    "\n",
    "### **Question 1.** \n",
    "Complete the following class methods for the ```Polygon``` class. The methods you are expected to complete are ```__hash__``` and ```generate_neighbours```."
   ]
  },
  {
   "cell_type": "code",
   "metadata": {
    "deletable": false,
    "editable": false,
    "ExecuteTime": {
     "end_time": "2025-02-26T12:23:18.840545Z",
     "start_time": "2025-02-26T12:23:18.837065Z"
    }
   },
   "source": [
    "class Point:\n",
    "    def __init__(self, x, y):\n",
    "        self.x = x\n",
    "        self.y = y\n",
    "\n",
    "    def as_array(self):\n",
    "        return np.array([self.x, self.y])\n",
    "\n",
    "    def __hash__(self):\n",
    "        return hash((self.x, self.y))\n",
    "\n",
    "    def __eq__(self, other):\n",
    "        return (self.x, self.y) == (other.x, other.y)\n",
    "    \n",
    "    def __lt__(self, other):\n",
    "        return (self.x, self.y) < (other.x, other.y)\n",
    "\n",
    "    def __repr__(self):\n",
    "        return f\"Point({self.x}, {self.y})\""
   ],
   "outputs": [],
   "execution_count": 11
  },
  {
   "cell_type": "code",
   "execution_count": null,
   "metadata": {
    "tags": []
   },
   "outputs": [],
   "source": [
    "class Polygon:\n",
    "    def __init__(self, coordinates: Union[List[Tuple[int, int]], List[Point]]):\n",
    "        \"\"\"Instantiate a polygon from a list of points.\"\"\"\n",
    "        if not coordinates:\n",
    "            raise ValueError(\"Polygon requires at least one coordinate.\")\n",
    "        if type(coordinates[0]) == tuple:\n",
    "            coordinates = [Point(point[0], point[1]) for point in coordinates]\n",
    "        unique_coords = list(OrderedDict.fromkeys(coordinates))  # Preserve order and remove duplicates\n",
    "        if len(unique_coords) != len(coordinates):\n",
    "            raise ValueError(\"Polygon has repeated coordinates!\")\n",
    "        self.points = unique_coords\n",
    "\n",
    "    def as_list(self) -> List[Point]:\n",
    "        \"\"\"Return the set of points.\"\"\"\n",
    "        return self.points\n",
    "    \n",
    "    def as_array(self) -> np.array:\n",
    "        \"\"\"Return a representation of the current polygon as a numpy array\"\"\"\n",
    "        return np.array([[point.x, point.y] for point in self.points])\n",
    "\n",
    "    def __hash__(self):\n",
    "        \"\"\"Returns a hash for the current polygon. Isomorphic polygons must produce equivalent hashes.\"\"\"\n",
    "        ...\n",
    "    \n",
    "\n",
    "    def __eq__(self, other):\n",
    "        \"\"\"Equality test for polygons compatible with the hash function.\"\"\"\n",
    "        ...\n",
    "        \n",
    "    def __lt__(self, other):\n",
    "        \"\"\"Allow polygons to be compared.\"\"\"\n",
    "        return self.points < other.points\n",
    "    \n",
    "\n",
    "    def generate_neighbours(self) -> List['Polygon']:\n",
    "        \"\"\"Generates possible neighbours of the current polygon. Ensure that the x and y coordinates of all points are within ±GRID_SIZE\"\"\"\n",
    "        ...\n",
    "    \n",
    "    # You may define additional private methods if necessary\n",
    "    def _helper():\n",
    "        pass\n",
    "\n",
    "   \n"
   ]
  },
  {
   "cell_type": "code",
   "execution_count": null,
   "metadata": {
    "deletable": false,
    "editable": false
   },
   "outputs": [],
   "source": [
    "grader.check(\"qB.1\")"
   ]
  },
  {
   "cell_type": "markdown",
   "metadata": {
    "deletable": false,
    "editable": false
   },
   "source": [
    "<!-- END QUESTION -->\n",
    "\n",
    "<!-- BEGIN QUESTION -->\n",
    "\n",
    "### **Question 2.**\n",
    "Implement the functions ```difference```, ```minimal```, and ```centroid``` to compute the distance between two polygons."
   ]
  },
  {
   "cell_type": "code",
   "execution_count": null,
   "metadata": {
    "tags": []
   },
   "outputs": [],
   "source": [
    "from scipy.spatial.distance import cdist\n",
    "\n",
    "def difference(A: Polygon, B: Polygon) -> float:\n",
    "    \"\"\"Returns the number of points in 'a' or 'b' that are not in both polygons.\"\"\"\n",
    "    ...\n",
    "\n",
    "def minimal(A: Polygon, B: Polygon) -> float:\n",
    "    \"\"\"Returns the smallest non-zero Manhattan (L1) distance between the points of 'a' and 'b' respectively, multiplied by the number of points in the goal that are still unreached.\"\"\"\n",
    "    ...\n",
    "\n",
    "def centroid(A: Polygon, B:Polygon) -> float:\n",
    "    \"\"\"\"Returns the Euclidean distance between the centroids (mean of the points) of the two polygons.\"\"\"\n",
    "    ..."
   ]
  },
  {
   "cell_type": "code",
   "execution_count": null,
   "metadata": {
    "deletable": false,
    "editable": false
   },
   "outputs": [],
   "source": [
    "grader.check(\"qB.2\")"
   ]
  },
  {
   "cell_type": "markdown",
   "metadata": {
    "deletable": false,
    "editable": false
   },
   "source": [
    "<!-- END QUESTION -->\n",
    "\n",
    "<!-- BEGIN QUESTION -->\n",
    "\n",
    "### **Question 3.** \n",
    "State which of the above metrics are admissable. If they are not admissable, find a pair of polygons that overestimate the actual cost. Otherwise, explain why the heuristic will never overestimate the cost. Give your answer in the format described by the type definition."
   ]
  },
  {
   "cell_type": "code",
   "execution_count": null,
   "metadata": {
    "otter": {
     "tests": [
      "qB.3"
     ]
    },
    "tags": []
   },
   "outputs": [],
   "source": [
    "difference_is_admissable = ... # True or False\n",
    "difference_counter_example: Tuple[Polygon, Polygon] | str = ... # Explanation if admissable, else tuple of 2 Polygons\n",
    "\n",
    "minimal_is_admissable = ... # True or False\n",
    "minimal_counter_example: Tuple[Polygon, Polygon] | str = ... # Explanation if admissable, else tuple of 2 Polygons\n",
    "\n",
    "centroid_is_admissable = ... # True or False\n",
    "centroid_counter_example: Tuple[Polygon, Polygon] | str = ... # Explanation if admissable, else tuple of 2 Polygons"
   ]
  },
  {
   "cell_type": "markdown",
   "metadata": {
    "deletable": false,
    "editable": false
   },
   "source": [
    "<!-- END QUESTION -->\n",
    "\n",
    "<!-- BEGIN QUESTION -->\n",
    "\n",
    "### **Question 4.**\n",
    "Complete the implementation of the A* algorithm below. The progress bar is optional but is there to help give an indication of how long it will take before all search routes are exhausted."
   ]
  },
  {
   "cell_type": "code",
   "execution_count": null,
   "metadata": {
    "tags": []
   },
   "outputs": [],
   "source": [
    "from tqdm.notebook import tqdm\n",
    "def a_star(start: Polygon, goal: Polygon, heuristic: Callable[[Polygon, Polygon], float]) -> List[Polygon]:\n",
    "    if len(start.as_list()) != len(goal.as_list()):\n",
    "        raise ValueError(\"Polygons must be of the same size.\")\n",
    "\n",
    "    # Priority queue: elements are tuples (f_score, polygon)\n",
    "    open_set = [(heuristic(start, goal), start)]\n",
    "    heapq.heapify(open_set)\n",
    "\n",
    "    came_from: Dict[Polygon, Polygon] = {}  # Keeps a log of the parent node used to generate the polygon for reconstructing path\n",
    "    g_score: Dict[Polygon, float] = {start: 0}\n",
    "    f_score: Dict[Polygon, float] = {start: heuristic(start, goal)}\n",
    "    \n",
    "    # Create progress bar based on estimated max number of steps\n",
    "    max_steps = cdist(start.as_array(), goal.as_array(), 'cityblock').max(axis=0).sum() \n",
    "    pbar = tqdm(desc='A* Progress', unit='step', total = max_steps)\n",
    "    while open_set:\n",
    "        current_f, current = heapq.heappop(open_set)\n",
    "        # Update progress bar\n",
    "        pbar.n = math.floor(current_f)\n",
    "        pbar.refresh() \n",
    "    ...\n",
    "    \n",
    "    return []  # return an empty list if no path is found\n"
   ]
  },
  {
   "cell_type": "code",
   "execution_count": null,
   "metadata": {
    "deletable": false,
    "editable": false
   },
   "outputs": [],
   "source": [
    "grader.check(\"qB.4\")"
   ]
  },
  {
   "cell_type": "markdown",
   "metadata": {
    "deletable": false,
    "editable": false
   },
   "source": [
    "<!-- END QUESTION -->\n",
    "\n",
    "<!-- BEGIN QUESTION -->\n",
    "\n",
    "### **Question 5.** \n",
    "Now, we want to create polygons that do not contain self-intersections. Complete the ```intersecting_lines``` and ```_detect_intersection``` methods. You may define helper methods as needed."
   ]
  },
  {
   "cell_type": "code",
   "execution_count": null,
   "metadata": {
    "tags": []
   },
   "outputs": [],
   "source": [
    "class NonIntersectingPolygon(Polygon):\n",
    "\n",
    "    @staticmethod\n",
    "    def intersecting_lines(l1: Tuple[Point, Point], l2: Tuple[Point, Point]) -> bool:\n",
    "        \"\"\"Checks whether two line segments (a, b) and (r, q) intersect.\"\"\"\n",
    "        ...\n",
    "\n",
    "    def _detect_intersection(self) -> bool:\n",
    "        \"\"\"Checks whether the current polygon has any intersecting lines.\"\"\"\n",
    "        ...\n",
    "\n",
    "    def __init__(self, coordinates: Union[List[Tuple[int, int]], List[Point]]):\n",
    "        super(NonIntersectingPolygon, self).__init__(coordinates)\n",
    "        if self._detect_intersection():\n",
    "            raise ValueError(\"These points result in intersecting lines.\")\n",
    "    \n",
    "    def generate_neighbours(self):\n",
    "        polygons = super(NonIntersectingPolygon, self).generate_neighbours()\n",
    "        non_intersecting_polygons = []\n",
    "        for polygon in polygons:\n",
    "            try:\n",
    "                non_intersecting_polygons.append(NonIntersectingPolygon(polygon.points))\n",
    "            except ValueError:\n",
    "                continue\n",
    "        return non_intersecting_polygons\n"
   ]
  },
  {
   "cell_type": "code",
   "execution_count": null,
   "metadata": {
    "deletable": false,
    "editable": false
   },
   "outputs": [],
   "source": [
    "grader.check(\"qB.5\")"
   ]
  },
  {
   "cell_type": "markdown",
   "metadata": {
    "deletable": false,
    "editable": false
   },
   "source": [
    "<!-- END QUESTION -->\n",
    "\n",
    "<!-- BEGIN QUESTION -->\n",
    "\n",
    "### **Question 6.**\n",
    "Using the helper functions below, create a set of animations. How does the choice of heuristic, NonIntersectingPolygon vs standard Polygon and the shapes of the polygons affect the search algorithm?"
   ]
  },
  {
   "cell_type": "code",
   "execution_count": null,
   "metadata": {
    "deletable": false,
    "editable": false
   },
   "outputs": [],
   "source": [
    "import matplotlib.patches as patches\n",
    "import matplotlib.pyplot as plt\n",
    "import matplotlib.animation as animation\n",
    "\n",
    "%matplotlib widget\n",
    "\n",
    "def plot_polygon(ax, polygon, color='blue'):\n",
    "    \"\"\"Helper function to plot a single polygon on given axes.\"\"\"\n",
    "    # Creating the patches for each point in the polygon (assuming ordered points)\n",
    "    for i in range(len(polygon)):\n",
    "        next_point = polygon[(i + 1) % len(polygon)]\n",
    "        xs, ys = zip(*[polygon[i], next_point])\n",
    "        ax.plot(xs, ys, marker='o', color=color)\n",
    "\n",
    "def animate_transformation(path: List[Polygon]):\n",
    "    \"\"\"Animates the transformation from start to goal polygon using the path provided.\"\"\"\n",
    "    fig, ax = plt.subplots()\n",
    "    \n",
    "    # Set limits and aspect\n",
    "    ax.set_xlim(-GRID_SIZE, GRID_SIZE)\n",
    "    ax.set_ylim(-GRID_SIZE, GRID_SIZE)\n",
    "    ax.set_aspect('equal')\n",
    "    \n",
    "    \n",
    "    # Artists to update in the animation\n",
    "    artists = []\n",
    "\n",
    "    def init():\n",
    "        # Initialize the plot elements\n",
    "        ax.clear()\n",
    "        ax.set_xlim(-GRID_SIZE, GRID_SIZE)\n",
    "        ax.set_ylim(-GRID_SIZE, GRID_SIZE)\n",
    "        return artists\n",
    "\n",
    "    def update(frame):\n",
    "        # This function will be called for each frame of the animation\n",
    "        ax.clear()\n",
    "        ax.set_xlim(-GRID_SIZE, GRID_SIZE)\n",
    "        ax.set_ylim(-GRID_SIZE, GRID_SIZE)\n",
    "        polygon = path[frame]\n",
    "        plot_polygon(ax, polygon.as_array(), color='blue')\n",
    "\n",
    "        return artists\n",
    "    \n",
    "    ani = animation.FuncAnimation(fig, update, frames=len(path), init_func=init,\n",
    "                                  blit=False, interval=500, repeat=True)\n",
    "\n",
    "    # Display animation\n",
    "    plt.show()\n",
    "    return ani\n"
   ]
  },
  {
   "cell_type": "code",
   "execution_count": null,
   "metadata": {},
   "outputs": [],
   "source": [
    "import timeit # To help you measure the runtime if you find it useful\n",
    "\n",
    "# Example usage, this may take a little while to run [took about 10 minutes for me 💀]. Probably better to use smaller polygons\n",
    "\n",
    "start_polygon = Polygon([(1, 1), (3, 0), (1, -1), (0, -3), (-1, -1), (-3, 0), (-1, 1), (0, 3)])\n",
    "goal_polygon = Polygon([(1, 4), (2, 2), (2, 0), (1, -2), (-1, -2), (-2, 0), (-2, 2), (-1, 4)])\n",
    "\n",
    "# A fancy heuristic to speed up the search\n",
    "def fancy_heuristic(a, b):\n",
    "    a = a.as_array()\n",
    "    b = b.as_array()\n",
    "    distance_matrix = cdist(a,b, 'cityblock')\n",
    "    sum = 0\n",
    "    for i in range(distance_matrix.shape[0]):\n",
    "        j = distance_matrix[i].argmin()\n",
    "        sum += distance_matrix[i, j]\n",
    "        distance_matrix = np.delete(distance_matrix, j, axis=1)\n",
    "    return sum\n",
    "\n",
    "transformation_path = a_star(start_polygon, goal_polygon, fancy_heuristic)\n",
    "ani = animate_transformation(transformation_path)\n"
   ]
  },
  {
   "cell_type": "markdown",
   "metadata": {},
   "source": [
    "_Discuss your findings here..._"
   ]
  },
  {
   "cell_type": "markdown",
   "metadata": {
    "deletable": false,
    "editable": false
   },
   "source": [
    "<!-- END QUESTION -->\n",
    "\n"
   ]
  },
  {
   "cell_type": "markdown",
   "metadata": {
    "deletable": false,
    "editable": false
   },
   "source": [
    "---\n",
    "\n",
    "To double-check your work, the cell below will rerun all of the autograder tests."
   ]
  },
  {
   "cell_type": "code",
   "execution_count": null,
   "metadata": {
    "deletable": false,
    "editable": false
   },
   "outputs": [],
   "source": [
    "grader.check_all()"
   ]
  },
  {
   "cell_type": "markdown",
   "metadata": {
    "deletable": false,
    "editable": false
   },
   "source": [
    "## Submission\n",
    "\n",
    "Make sure you have run all cells in your notebook in order before running the cell below, so that all images/graphs appear in the output. The cell below will generate a zip file for you to submit. **Please save before exporting!**"
   ]
  },
  {
   "cell_type": "code",
   "execution_count": null,
   "metadata": {
    "deletable": false,
    "editable": false
   },
   "outputs": [],
   "source": [
    "# Save your notebook first, then run this cell to export your submission.\n",
    "grader.export(run_tests=True)"
   ]
  },
  {
   "cell_type": "markdown",
   "metadata": {},
   "source": [
    " "
   ]
  }
 ],
 "metadata": {
  "kernelspec": {
   "display_name": "inf2d",
   "language": "python",
   "name": "python3"
  },
  "language_info": {
   "codemirror_mode": {
    "name": "ipython",
    "version": 3
   },
   "file_extension": ".py",
   "mimetype": "text/x-python",
   "name": "python",
   "nbconvert_exporter": "python",
   "pygments_lexer": "ipython3",
   "version": "3.11.11"
  },
  "otter": {
   "OK_FORMAT": false,
   "assignment_name": "CW1",
   "export_pdf_failure_message": null,
   "require_no_pdf_confirmation": true,
   "tests": {
    "qA.1": "from otter.test_files import test_case\n\nOK_FORMAT = False\n\nname = \"qA.1\"\npoints = 10\n\n@test_case(points=2, hidden=False)\ndef test_card_equality(Card):\n    assert Card(['a']) == Card(['a'])\n    assert Card(['a', 'b']) != Card(['a'])\n    assert Card(['b', 'a']) == Card(['a', 'b'])\n\n@test_case(points=1, hidden=False)\ndef test_deck_equality(Deck):\n    assert Deck(['a', 'b', 'd']) == Deck(['a', 'b', 'd'])\n    assert Deck(['a', 'b', 'c', 'd']) != Deck(['a', 'b', 'd'])\n    assert Deck(['a', 'b', 'c', 'd']) == Deck(['d', 'c', 'b', 'a'])\n\n@test_case(points=1, hidden=False)\ndef test_deck_equality_hidden(Deck):\n    assert Deck(['a', 'b', 'd']) == Deck(['a', 'b', 'd'])\n    assert Deck(['a', 'b', 'c', 'd']) != Deck(['a', 'b', 'd'])\n    assert Deck(['a', 'b', 'c', 'd']) == Deck(['d', 'c', 'b', 'a'])\n    assert Deck(['a', 'a', 'b', 'd']) != Deck(['a', 'b', 'd'])\n    assert Deck(['a', 'a', 'b', 'd']) != Deck(['a', 'b', 'd'])\n\n@test_case(points=2, hidden=False)\ndef test_all_configurations(Deck, Card):\n    assert len(Deck.from_all_configurations(list(range(3)), 2).cards) == 3\n    assert len(Deck.from_all_configurations(list(range(22)), 5).cards) == 26334\n    deck = Deck.from_all_configurations(list(range(8)), 4)\n    assert len(deck.cards) == len(set(deck.cards))\n    assert all(map(lambda x: type(x) == Card, deck.cards))\n\n@test_case(points=2, hidden=False)\ndef test_is_valid(Deck, Card):\n    deck = Deck([Card(['a', 'b']), Card(['a', 'd'])])\n    assert deck.is_valid() == True\n    deck = Deck([Card(['a', 'b']), Card(['a', 'd']), Card(['d', 'b'])])\n    assert deck.is_valid() == True\n    deck = Deck([Card(['a', 'b']), Card(['a', 'd']), Card(['d', 'b']), Card(['a', 'd'])])\n    assert deck.is_valid() == False\n\n@test_case(points=2, hidden=False)\ndef test_is_valid_hidden(Deck, Card):\n    deck = Deck([Card(['a', 'b', 'c']), Card(['a', 'd', 'e']), Card(['a', 'f', 'g']), Card(['a', 'h', 'i'])])\n    assert deck.is_valid() == True\n    deck = Deck([Card(['a', 'b', 'c']), Card(['b', 'd', 'e']), Card(['c', 'd', 'g']), Card(['d', 'a', 'j'])])\n    assert deck.is_valid() == True\n    deck = Deck([Card(['a', 'b', 'c']), Card(['b', 'd', 'e']), Card(['c', 'd', 'g']), Card(['d', 'a', 'c'])])\n    assert deck.is_valid() == False\n\n",
    "qA.2": "from otter.test_files import test_case\n\nOK_FORMAT = False\n\nname = \"qA.2\"\npoints = 10\n\n@test_case(points=2, hidden=False)\ndef test_shared_symbol_hidden(SharedSymbolConstraint, Card):\n    assignment = {'a': Card(['cat', 'dog', 'chicken']), 'b': Card(['dog', 'donkey', 'chicken']), 'c': Card(['monkey', 'worm', 'chicken'])}\n    constraint = SharedSymbolConstraint(('a', 'b'))\n    assert constraint.satisfied(assignment) == False\n    constraint = SharedSymbolConstraint(('a', 'c'))\n    assert constraint.satisfied(assignment) == True\n    constraint = SharedSymbolConstraint(('b', 'c'))\n    assert constraint.satisfied(assignment) == True\n\n@test_case(points=2, hidden=False)\ndef test_shared_n_symbols(SharingNSymbolsConstraint, Card):\n    assignment = {'a': Card(['cat', 'dog', 'monkey', 'rat']), 'b': Card(['dog', 'donkey', 'cat', 'chicken']), 'c': Card(['monkey', 'chicken', 'fish', 'duck'])}\n    constraint = SharingNSymbolsConstraint(('a', 'b'), 2)\n    assert constraint.satisfied(assignment) == True\n    constraint = SharingNSymbolsConstraint(('a', 'c'), 1)\n    assert constraint.satisfied(assignment) == True\n    constraint = SharingNSymbolsConstraint(('b', 'c'), 3)\n    assert constraint.satisfied(assignment) == False\n\n",
    "qA.3": "from otter.test_files import test_case\n\nOK_FORMAT = False\n\nname = \"qA.3\"\npoints = 12\n\n@test_case(points=None, hidden=False)\ndef test_consistency1(CSP, SharedSymbolConstraint, Deck, Card):\n    variables = ['a', 'b', 'c', 'd']\n    symbols = list(range(20))\n    domains = {v: Deck.from_all_configurations(symbols, 4).cards for v in variables}\n    constraints = [SharedSymbolConstraint(('a', 'b')), SharedSymbolConstraint(('b', 'c')), SharedSymbolConstraint(('a', 'd'))]\n    csp = CSP(variables, domains, constraints)\n    assignment = {'a': Card([1, 2, 4, 5]), 'b': Card([2, 7, 8, 9])}\n    assert csp.consistent('a', assignment) == True\n\n@test_case(points=4, hidden=False)\ndef test_backtrack(CSP, SharedSymbolConstraint, Deck):\n    symbols = list(range(8))\n    variables = ['X', 'Y']\n    domains = {v: Deck.from_all_configurations(symbols, 4).cards for v in variables}\n    constraints = [SharedSymbolConstraint(('X', 'Y'))]\n    csp = CSP(variables, domains, constraints)\n    solution = csp.solve()\n    assert solution != None\n    assert Deck(list(solution.values())).is_valid()\n\n",
    "qA.4": "from otter.test_files import test_case\n\nOK_FORMAT = False\n\nname = \"qA.4\"\npoints = 5\n\n@test_case(points=1, hidden=False)\ndef test_inputs(variables, domains):\n    assert all((isinstance(x, str) for x in variables))\n    assert len(domains) == len(variables)\n    assert domains[variables[0]] is not domains[variables[1]]\n\n",
    "qB.1": "from otter.test_files import test_case\n\nOK_FORMAT = False\n\nname = \"qB.1\"\npoints = 8\n\n@test_case(points=1, hidden=False)\ndef test_hash_easy(Polygon):\n    shape_1 = Polygon([(0, 1), (1, 1), (1, -1)])\n    shape_2 = Polygon([(1, 1), (1, -1), (0, 1)])\n    assert hash(shape_1) == hash(shape_2)\n\n@test_case(points=1, hidden=False)\ndef test_eq_easy(Polygon):\n    shape_1 = Polygon([(0, 1), (1, 1), (1, -1)])\n    shape_2 = Polygon([(1, 1), (1, -1), (0, 1)])\n    assert shape_1 == shape_2\n\n@test_case(points=1, hidden=False)\ndef test_adjacent_points_easy(Polygon):\n    shape_1 = Polygon([(0, 1)])\n    neighbours = shape_1.generate_neighbours()\n    assert len(neighbours) == 4\n    assert shape_1 not in neighbours\n\n@test_case(points=1, hidden=False)\ndef test_adjacent_points_med(Polygon):\n    shape_1 = Polygon([(0, 1), (4, 1)])\n    neighbours = shape_1.generate_neighbours()\n    assert len(neighbours) == 7\n    assert shape_1 not in neighbours\n\n",
    "qB.2": "from otter.test_files import test_case\n\nOK_FORMAT = False\n\nname = \"qB.2\"\npoints = 4\n\n@test_case(points=None, hidden=False)\ndef test_difference(Polygon, difference):\n    a = Polygon([(0, 1), (1, 1)])\n    b = Polygon([(0, 0), (1, 0)])\n    assert difference(a, b) == 4\n\n@test_case(points=None, hidden=False)\ndef test_minimal(Polygon, minimal):\n    a = Polygon([(0, 1), (4, 0), (4, 1)])\n    b = Polygon([(0, 0), (1, 0), (4, 1)])\n    assert minimal(a, b) == 2.0\n\n@test_case(points=None, hidden=False)\ndef test_centroid(Polygon, centroid):\n    import numpy as np\n    a = Polygon([(0, 1), (4, 0), (4, 1)])\n    b = Polygon([(0, 0), (1, 0), (4, 1)])\n    assert np.isclose(centroid(a, b), 1.0541)\n\n",
    "qB.3": "from otter.test_files import test_case\n\nOK_FORMAT = False\n\nname = \"qB.3\"\npoints = 4\n\n",
    "qB.4": "from otter.test_files import test_case\n\nOK_FORMAT = False\n\nname = \"qB.4\"\npoints = 10\n\n@test_case(points=None, hidden=False)\ndef test_polygons_easy(a_star, Polygon):\n    from scipy.spatial.distance import cdist\n    simple_heuristic = lambda a, b: cdist(a.as_array(), b.as_array()).min(axis=0).sum()\n    start = Polygon([(0, 0), (0, 1)])\n    goal = Polygon([(1, 0), (1, 1)])\n    solution = a_star(start, goal, simple_heuristic)\n    assert len(solution) == 3\n\n",
    "qB.5": "from otter.test_files import test_case\n\nOK_FORMAT = False\n\nname = \"qB.5\"\npoints = 10\n\n@test_case(points=None, hidden=False)\ndef test_intersecting_lines(NonIntersectingPolygon, Point):\n    line_1 = (Point(0, 2), Point(2, 0))\n    line_2 = (Point(0, 1), Point(1, 4))\n    assert NonIntersectingPolygon.intersecting_lines(line_1, line_2) == True\n\n@test_case(points=None, hidden=False)\ndef test_intersecting_polygons(NonIntersectingPolygon, Point, Polygon):\n    try:\n        NonIntersectingPolygon([(-2, -2), (-2, 2), (2, 2), (1, -2)])\n    except ValueError:\n        assert False\n    else:\n        assert True\n\n"
   }
  }
 },
 "nbformat": 4,
 "nbformat_minor": 2
}
